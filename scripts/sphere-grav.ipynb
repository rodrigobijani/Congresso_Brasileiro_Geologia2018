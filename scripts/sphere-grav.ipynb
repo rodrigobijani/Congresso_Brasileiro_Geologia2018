{
 "cells": [
  {
   "cell_type": "markdown",
   "metadata": {
    "collapsed": true
   },
   "source": [
    "# Gravity attraction - Solid sphere\n",
    "\n",
    "**Reference: Blakely (1996)**"
   ]
  },
  {
   "cell_type": "code",
   "execution_count": 9,
   "metadata": {
    "collapsed": true
   },
   "outputs": [],
   "source": [
    "# Importing all usefull libraries\n",
    "import numpy as np\n",
    "import matplotlib.pyplot as plt\n",
    "%matplotlib tk"
   ]
  },
  {
   "cell_type": "code",
   "execution_count": 10,
   "metadata": {
    "collapsed": true
   },
   "outputs": [],
   "source": [
    "# importing local functions:\n",
    "from modules.sphere import sphere_gz, sphere_gx, sphere_gy # Gravity vertical attraction\n",
    "from modules.plots import points3D # plot of the model "
   ]
  },
  {
   "cell_type": "code",
   "execution_count": 11,
   "metadata": {
    "collapsed": true
   },
   "outputs": [],
   "source": [
    "# Positions and number of points\n",
    "n = 200\n",
    "x = np.linspace(-5000, 5000, n)\n",
    "y = np.copy(x)\n",
    "z = -100.\n",
    "# Computes the mesh of all points\n",
    "X, Y = np.meshgrid(x, y)"
   ]
  },
  {
   "cell_type": "code",
   "execution_count": 12,
   "metadata": {},
   "outputs": [
    {
     "name": "stdout",
     "output_type": "stream",
     "text": [
      "[ 2000.  3000.   500.]\n"
     ]
    }
   ],
   "source": [
    "# Setting the parameters for a sphere\n",
    "model1 = [2000., -2000., 700., 1000., 2000.] # meters + kg/m3\n",
    "model2 = [0., 2000., 700., 1000., 3000.] # meters + kg/m3\n",
    "model3 = [-2000., -2000., 700., 1000., 500.] # meters + kg/m3\n",
    "\n",
    "models = [model1, model2, model3]\n",
    "print np.array(models)[:,4]"
   ]
  },
  {
   "cell_type": "code",
   "execution_count": 13,
   "metadata": {},
   "outputs": [],
   "source": [
    "# plot the model:\n",
    "points3D(models, 20, 24, 'x(m)', 'y(m)', 'Depth(m)', 'Model')"
   ]
  },
  {
   "cell_type": "code",
   "execution_count": 14,
   "metadata": {
    "collapsed": true
   },
   "outputs": [],
   "source": [
    "# Calculating the gravity attraction\n",
    "gx = sphere_gx(X, Y, z, model1) + sphere_gx(X, Y, z, model2) + sphere_gx(X, Y, z, model3)\n",
    "gy = sphere_gy(X, Y, z, model1) + sphere_gy(X, Y, z, model2) + sphere_gy(X, Y, z, model3)\n",
    "gz = sphere_gz(X, Y, z, model1) + sphere_gz(X, Y, z, model2) + sphere_gz(X, Y, z, model3)"
   ]
  },
  {
   "cell_type": "code",
   "execution_count": 15,
   "metadata": {},
   "outputs": [],
   "source": [
    "# Ploting all results \n",
    "plt.close('all')\n",
    "plt.figure(figsize=(20,14))\n",
    "############ gx ################################\n",
    "plt.subplot(2, 2, 1)\n",
    "plt.title('G$x$ component (mGal)')\n",
    "plt.contourf(X, Y, gx, 20, cmap = plt.cm.jet)\n",
    "plt.colorbar()\n",
    "plt.xlabel('X coordinate (m)')\n",
    "plt.ylabel('Y coordinate (m)')\n",
    "############ gy ################################\n",
    "plt.subplot(2, 2, 2)\n",
    "plt.title('G$y$ component (mGal)')\n",
    "plt.contourf(X, Y, gy, 20, cmap = plt.cm.jet)\n",
    "plt.colorbar()\n",
    "plt.xlabel('X coordinate (m)')\n",
    "plt.ylabel('Y coordinate (m)')\n",
    "############ gz ################################\n",
    "plt.subplot(2, 2, 3)\n",
    "plt.title('G$z$ component (mGal)')\n",
    "plt.contourf(X, Y, gz, 20, cmap = plt.cm.jet)\n",
    "plt.colorbar()\n",
    "plt.xlabel('X coordinate (m)')\n",
    "plt.ylabel('Y coordinate (m)')\n",
    "plt.show()"
   ]
  },
  {
   "cell_type": "code",
   "execution_count": null,
   "metadata": {
    "collapsed": true
   },
   "outputs": [],
   "source": []
  }
 ],
 "metadata": {
  "kernelspec": {
   "display_name": "Python 2",
   "language": "python",
   "name": "python2"
  },
  "language_info": {
   "codemirror_mode": {
    "name": "ipython",
    "version": 2
   },
   "file_extension": ".py",
   "mimetype": "text/x-python",
   "name": "python",
   "nbconvert_exporter": "python",
   "pygments_lexer": "ipython2",
   "version": "2.7.14"
  }
 },
 "nbformat": 4,
 "nbformat_minor": 2
}
