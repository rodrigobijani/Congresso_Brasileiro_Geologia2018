{
 "cells": [
  {
   "cell_type": "markdown",
   "metadata": {
    "collapsed": true
   },
   "source": [
    "# Gravity attraction - Solid sphere\n",
    "\n",
    "**Reference: Blakely (1996)**"
   ]
  },
  {
   "cell_type": "code",
   "execution_count": 1,
   "metadata": {
    "collapsed": true
   },
   "outputs": [],
   "source": [
    "# Importing all usefull libraries\n",
    "import numpy as np\n",
    "import matplotlib.pyplot as plt\n",
    "%matplotlib tk"
   ]
  },
  {
   "cell_type": "code",
   "execution_count": 2,
   "metadata": {
    "collapsed": true
   },
   "outputs": [],
   "source": [
    "# Positions and number of points\n",
    "n = 200\n",
    "x = np.linspace(-5000, 5000, n)\n",
    "y = np.copy(x)\n",
    "z = -100.\n",
    "# Computes the mesh of all points\n",
    "X, Y = np.meshgrid(x, y)"
   ]
  },
  {
   "cell_type": "code",
   "execution_count": 3,
   "metadata": {
    "collapsed": true
   },
   "outputs": [],
   "source": [
    "# Setting the parameters for a sphere\n",
    "model1 = [2000., -2000., 700., 1000., 2000.] # meters + kg/m3\n",
    "model2 = [0., 2000., 700., 1000., 3000.] # meters + kg/m3\n",
    "model3 = [-2000., -2000., 700., 1000., 500.] # meters + kg/m3\n",
    "\n",
    "models = [model1, model2, model3]"
   ]
  },
  {
   "cell_type": "code",
   "execution_count": 4,
   "metadata": {
    "collapsed": true
   },
   "outputs": [],
   "source": [
    "# Importing the functions\n",
    "from modules.sphere import sphere_gz # Gravity vertical attraction\n",
    "from modules.plots import points3D # plot of the model "
   ]
  },
  {
   "cell_type": "code",
   "execution_count": 8,
   "metadata": {
    "collapsed": true
   },
   "outputs": [],
   "source": [
    "# plot the model:\n",
    "points3D(models, 20, 24, 'x(m)', 'y(m)', 'Depth(m)', 'Model')"
   ]
  },
  {
   "cell_type": "code",
   "execution_count": 6,
   "metadata": {
    "collapsed": true
   },
   "outputs": [],
   "source": [
    "# Calculating the gravity attraction\n",
    "gz = sphere_gz(X, Y, z, model1) + sphere_gz(X, Y, z, model2) + sphere_gz(X, Y, z, model3)"
   ]
  },
  {
   "cell_type": "code",
   "execution_count": 7,
   "metadata": {
    "collapsed": true
   },
   "outputs": [],
   "source": [
    "# Plotting the result for approximated total field anomaly\n",
    "plt.close('all')\n",
    "plt.figure(figsize=(12,10))\n",
    "\n",
    "plt.subplot(1, 1, 1)\n",
    "plt.contourf(X, Y, gz, 20, cmap = plt.cm.jet)\n",
    "plt.title('Vertical gravity attraction (mGal)')\n",
    "plt.xlabel('X coordinate (m)')\n",
    "plt.ylabel('Y coordinate (m)')\n",
    "plt.colorbar()\n",
    "plt.show()"
   ]
  },
  {
   "cell_type": "code",
   "execution_count": null,
   "metadata": {
    "collapsed": true
   },
   "outputs": [],
   "source": []
  }
 ],
 "metadata": {
  "kernelspec": {
   "display_name": "Python 2",
   "language": "python",
   "name": "python2"
  },
  "language_info": {
   "codemirror_mode": {
    "name": "ipython",
    "version": 2
   },
   "file_extension": ".py",
   "mimetype": "text/x-python",
   "name": "python",
   "nbconvert_exporter": "python",
   "pygments_lexer": "ipython2",
   "version": "2.7.14"
  }
 },
 "nbformat": 4,
 "nbformat_minor": 2
}
