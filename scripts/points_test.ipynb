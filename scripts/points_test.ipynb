{
 "cells": [
  {
   "cell_type": "markdown",
   "metadata": {},
   "source": [
    "# Teste do modelo interativo para agregar várias bolinhas de massas \n",
    "\n"
   ]
  },
  {
   "cell_type": "code",
   "execution_count": 1,
   "metadata": {},
   "outputs": [],
   "source": [
    "################ python internal packages ###############\n",
    "import numpy as np\n",
    "from matplotlib import pyplot, widgets\n",
    "from matplotlib.widgets import Cursor\n",
    "import Tkinter\n",
    "#########################################################"
   ]
  },
  {
   "cell_type": "code",
   "execution_count": 2,
   "metadata": {},
   "outputs": [],
   "source": [
    "from modules.iplots import model_masses"
   ]
  },
  {
   "cell_type": "code",
   "execution_count": 3,
   "metadata": {},
   "outputs": [],
   "source": [
    "######## test model_masses function:\n",
    "%matplotlib tk\n",
    "# define the bounds from picking the horizontal coordinates of each point mass:\n",
    "area1 = [-5000.0, +5000.0, -2500.0, +2500.0]\n",
    "# define the bounds from picking the density contrast and depth of each point mass:\n",
    "area2 = [-500.0, +500.0, -500.0, +10000.0]"
   ]
  },
  {
   "cell_type": "code",
   "execution_count": 4,
   "metadata": {},
   "outputs": [],
   "source": [
    "# calling the function:\n",
    "x,y,z,rho = model_masses(area1, area2)"
   ]
  },
  {
   "cell_type": "code",
   "execution_count": 5,
   "metadata": {},
   "outputs": [
    {
     "name": "stdout",
     "output_type": "stream",
     "text": [
      "[] []\n"
     ]
    }
   ],
   "source": [
    "print x, y\n",
    "pyplot.plot(x,y,'.b')\n",
    "pyplot.show()"
   ]
  },
  {
   "cell_type": "code",
   "execution_count": 6,
   "metadata": {},
   "outputs": [
    {
     "name": "stdout",
     "output_type": "stream",
     "text": [
      "[-61.827956989247241, -214.11290322580635, -230.37634408602139, -138.70967741935465, 112.63440860215087, 239.78494623655934, 22.446236559139834, 146.63978494623689, 223.52150537634452, 46.10215053763477, -157.93010752688156, -240.7258064516127, -24.865591397849357] [2500.5487470276203, 3282.5132613865007, 4558.3501006036213, 6081.1231022498623, 6972.8370221327968, 5998.8110481068225, 4654.3808304371678, 3337.3879641485273, 1855.7709895738062, 1334.461313334552, 1416.7733674775918, 2596.5794768611668, 3625.4801536491677]\n"
     ]
    }
   ],
   "source": [
    "print rho, z\n",
    "pyplot.plot(rho,z,'+r')\n",
    "pyplot.show()"
   ]
  },
  {
   "cell_type": "code",
   "execution_count": 7,
   "metadata": {},
   "outputs": [
    {
     "name": "stdout",
     "output_type": "stream",
     "text": [
      "13 13 13 13\n"
     ]
    }
   ],
   "source": [
    "print len(x), len(y), len(z), len(rho)"
   ]
  },
  {
   "cell_type": "code",
   "execution_count": 8,
   "metadata": {},
   "outputs": [
    {
     "data": {
      "text/plain": [
       "7"
      ]
     },
     "execution_count": 8,
     "metadata": {},
     "output_type": "execute_result"
    }
   ],
   "source": [
    "from matplotlib import pyplot, widgets\n",
    "%matplotlib tk\n",
    "###### need work on it #######! \n",
    "fig, ax = pyplot.subplots()\n",
    "click = 0\n",
    "\n",
    "ax.set_title('Number of clicks =' , fontsize =12, color = 'blue')\n",
    "\n",
    "def click_add(event):\n",
    "    global click\n",
    "    if event.button ==1:\n",
    "        click +=1\n",
    "        s = str(click)\n",
    "        ax.set_title('Number of clicks =' + s, fontsize =16)\n",
    "        ax.figure.canvas.draw()\n",
    "\n",
    "def click_remove(event):\n",
    "    global click\n",
    "    if event.key == 'e':\n",
    "        click -=1\n",
    "        s = str(click)\n",
    "        ax.set_title('Number of clicks =' + s, fontsize =16)\n",
    "        ax.figure.canvas.draw() \n",
    "            \n",
    "fig.canvas.mpl_connect('button_press_event', click_add)\n",
    "fig.canvas.mpl_connect('key_press_event', click_remove)"
   ]
  },
  {
   "cell_type": "code",
   "execution_count": null,
   "metadata": {},
   "outputs": [],
   "source": []
  },
  {
   "cell_type": "code",
   "execution_count": null,
   "metadata": {},
   "outputs": [],
   "source": []
  }
 ],
 "metadata": {
  "kernelspec": {
   "display_name": "Python 2",
   "language": "python",
   "name": "python2"
  },
  "language_info": {
   "codemirror_mode": {
    "name": "ipython",
    "version": 2
   },
   "file_extension": ".py",
   "mimetype": "text/x-python",
   "name": "python",
   "nbconvert_exporter": "python",
   "pygments_lexer": "ipython2",
   "version": "2.7.15"
  }
 },
 "nbformat": 4,
 "nbformat_minor": 2
}
