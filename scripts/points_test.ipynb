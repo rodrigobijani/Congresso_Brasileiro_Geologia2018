{
 "cells": [
  {
   "cell_type": "markdown",
   "metadata": {},
   "source": [
    "# Teste do modelo interativo para agregar várias bolinhas de massas \n",
    "\n"
   ]
  },
  {
   "cell_type": "code",
   "execution_count": null,
   "metadata": {},
   "outputs": [],
   "source": [
    "################ python internal packages ###############\n",
    "import numpy as np\n",
    "from matplotlib import pyplot, widgets\n",
    "from matplotlib.widgets import Cursor\n",
    "#########################################################"
   ]
  },
  {
   "cell_type": "code",
   "execution_count": null,
   "metadata": {},
   "outputs": [],
   "source": [
    "from modules.iplots import model_masses"
   ]
  },
  {
   "cell_type": "code",
   "execution_count": null,
   "metadata": {},
   "outputs": [],
   "source": [
    "######## test model_masses function:\n",
    "%matplotlib tk\n",
    "# define the bounds from picking the horizontal coordinates of each point mass:\n",
    "area1 = [-5000.0, +5000.0, -2500.0, +2500.0]\n",
    "# define the bounds from picking the density contrast and depth of each point mass:\n",
    "area2 = [-500.0, +500.0, -500.0, +10000.0]"
   ]
  },
  {
   "cell_type": "code",
   "execution_count": null,
   "metadata": {},
   "outputs": [],
   "source": [
    "# calling the function:\n",
    "x,y,z,rho = model_masses(area1, area2)"
   ]
  },
  {
   "cell_type": "code",
   "execution_count": null,
   "metadata": {},
   "outputs": [],
   "source": [
    "print x, y\n",
    "pyplot.plot(x,y,'.b')\n",
    "pyplot.show()"
   ]
  },
  {
   "cell_type": "code",
   "execution_count": null,
   "metadata": {},
   "outputs": [],
   "source": [
    "print rho, z\n",
    "pyplot.plot(rho,z,'+r')\n",
    "pyplot.show()"
   ]
  },
  {
   "cell_type": "code",
   "execution_count": null,
   "metadata": {},
   "outputs": [],
   "source": []
  }
 ],
 "metadata": {
  "kernelspec": {
   "display_name": "Python 2",
   "language": "python",
   "name": "python2"
  },
  "language_info": {
   "codemirror_mode": {
    "name": "ipython",
    "version": 2
   },
   "file_extension": ".py",
   "mimetype": "text/x-python",
   "name": "python",
   "nbconvert_exporter": "python",
   "pygments_lexer": "ipython2",
   "version": "2.7.15"
  }
 },
 "nbformat": 4,
 "nbformat_minor": 2
}
