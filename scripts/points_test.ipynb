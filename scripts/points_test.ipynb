{
 "cells": [
  {
   "cell_type": "markdown",
   "metadata": {},
   "source": [
    "# Teste do modelo interativo para agregar várias bolinhas de massas \n",
    "\n"
   ]
  },
  {
   "cell_type": "code",
   "execution_count": 1,
   "metadata": {
    "collapsed": true
   },
   "outputs": [],
   "source": [
    "################ python internal packages ###############\n",
    "import numpy as np\n",
    "import matplotlib.pyplot as plt\n",
    "%matplotlib tk\n",
    "#########################################################"
   ]
  },
  {
   "cell_type": "code",
   "execution_count": 2,
   "metadata": {},
   "outputs": [],
   "source": [
    "from modules.iplots import model_masses"
   ]
  },
  {
   "cell_type": "code",
   "execution_count": null,
   "metadata": {
    "collapsed": true
   },
   "outputs": [],
   "source": [
    "# Defining functions for clicking and saving coordinates:\n",
    "\n",
    "#def Pmass() #Creating a main function\n",
    "\n",
    "#x = []\n",
    "#z = []\n",
    "#m = []\n",
    "#plotx = []\n",
    "#plotz = []\n",
    "#plotm = []\n",
    "#pyplot.gca().invert_yaxis()\n",
    "\n",
    "def ontype(event):\n",
    "    \"\"\"Deal with keyboard events\"\"\"\n",
    "    print(\"You pressed key {:s}\".format(event.key))\n",
    "\n",
    "def onclick(event):\n",
    "    \"\"\"Deal with click events\"\"\"\n",
    "    button = ['left','middle','right']\n",
    "    toolbar = plt.get_current_fig_manager().toolbar\n",
    "    if toolbar.mode!='':\n",
    "        print(\"You clicked on something, but toolbar is in mode {:s}.\".format(toolbar.mode))\n",
    "    else:\n",
    "        print(\"You {0}-clicked coords ({1},{2}) (pix ({3},{4}))\".format(button[event.button+1],\\\n",
    "                                                                                   event.xdata,\\\n",
    "                                                                                   event.ydata,\\\n",
    "                                                                                       event.x,\\\n",
    "                                                                                       event.y))\n",
    "    plt.plot(event.xdata,event.ydata,'ro') #plotting the points of mass in red \n",
    "    plt.show() # shows the points of mass\n",
    "        \n",
    "def move(event):\n",
    "    if event.inaxes != ax:\n",
    "        return 'plot area wrongly set up. Please, check.'\n",
    "    if picking[0]:\n",
    "        draw_guide(event.xdata, event.ydata)      \n",
    "        axes.figure.canvas.draw()\n",
    "        \n",
    "def pick(event):\n",
    "    if event.inaxes != axes:\n",
    "        return 'plot area wrongly set up. Please, check.'\n",
    "    x.append(event.xdata)\n",
    "    z.append(event.ydata)\n",
    "    plotx.append(event.xdata)\n",
    "    ploty.append(event.ydata)\n",
    "    line.set_color('r')\n",
    "    line.set_marker('o')\n",
    "    line.set_data(plotx,ploty)\n",
    "    axes.figure.canvas.draw()\n",
    "\n",
    "def move(event):\n",
    "    if event.inaxes != axes:\n",
    "        return 'plot area wrongly set up. Please, check.'\n",
    "    if picking[0]:\n",
    "        draw_guide(event.xdata, event.ydata)\n",
    "        axes.figure.canvas.draw()\n",
    "        \n",
    "def erase(event):\n",
    "    if event.key == 'e' and picking[0]:\n",
    "        x.pop()\n",
    "        y.pop()\n",
    "        plotx.pop()\n",
    "        ploty.pop()\n",
    "        line.set_data(plotx, ploty)\n",
    "        draw_guide(event.xdata, event.ydata)\n",
    "        axes.figure.canvas.draw()\n",
    "                \n",
    "                \n",
    "#return x,z,m"
   ]
  },
  {
   "cell_type": "code",
   "execution_count": null,
   "metadata": {},
   "outputs": [],
   "source": [
    "#Drawing points:\n",
    "\n",
    "figure = plt.figure()\n",
    "#ax = fig.add_subplot(111)\n",
    "#ax.set_title('click to build points of mass')\n",
    "\n",
    "if __name__ == \"__main__\":\n",
    "    #plt.plot([0],[0],'ko-',picker=5)\n",
    "    figure.canvas.mpl_connect('key_press_event',ontype)\n",
    "    figure.canvas.mpl_connect('button_press_event',onclick)\n",
    "    figure.canvas.draw()\n",
    "    plt.show()"
   ]
  },
  {
   "cell_type": "code",
   "execution_count": 3,
   "metadata": {},
   "outputs": [],
   "source": [
    "######## test model_masses function:\n",
    "# define the bounds from picking the horizontal coordinates of each point masses:\n",
    "area = [-5000.0, +5000.0, -2500.0, +2500.0]\n",
    "# define axes for input function\n",
    "axes = plt.figure().add_subplot(1,1,1)\n",
    "xc,yc = model_masses(area, axes)"
   ]
  },
  {
   "cell_type": "code",
   "execution_count": 5,
   "metadata": {},
   "outputs": [
    {
     "name": "stdout",
     "output_type": "stream",
     "text": [
      "[-741.55779498360607, 185.49674672526453, 570.05270476746318, -535.54567460385715, -2575.0656663633717, -2726.1412213085209, -3282.3739463338434, -27.382444333808962, 1819.8595684046059, 2176.9472437295053, 2218.1496678054546, 1476.5060344383583, 3996.7209737506209] [159.54202353419578, 331.09258647419074, -361.46338983912392, -539.36767733245233, 369.21493379419007, -304.27986885912514, 1290.504994027498, 1430.2869342008285, 1608.1912216941569, 1462.0555569674939, 699.60861056751446, 451.81335298752083, 979.17249091417352]\n"
     ]
    }
   ],
   "source": [
    "print xc, yc"
   ]
  },
  {
   "cell_type": "code",
   "execution_count": null,
   "metadata": {
    "collapsed": true
   },
   "outputs": [],
   "source": []
  }
 ],
 "metadata": {
  "kernelspec": {
   "display_name": "Python 2",
   "language": "python",
   "name": "python2"
  },
  "language_info": {
   "codemirror_mode": {
    "name": "ipython",
    "version": 2
   },
   "file_extension": ".py",
   "mimetype": "text/x-python",
   "name": "python",
   "nbconvert_exporter": "python",
   "pygments_lexer": "ipython2",
   "version": "2.7.14"
  }
 },
 "nbformat": 4,
 "nbformat_minor": 2
}
