{
 "cells": [
  {
   "cell_type": "markdown",
   "metadata": {},
   "source": [
    "# Teste do modelo interativo para agregar várias bolinhas de massas \n",
    "\n"
   ]
  },
  {
   "cell_type": "code",
   "execution_count": 1,
   "metadata": {},
   "outputs": [],
   "source": [
    "################ python internal packages ###############\n",
    "import numpy as np\n",
    "from matplotlib import pyplot, widgets\n",
    "from matplotlib.widgets import Cursor, MultiCursor\n",
    "#########################################################"
   ]
  },
  {
   "cell_type": "code",
   "execution_count": null,
   "metadata": {},
   "outputs": [],
   "source": [
    "from modules.iplots import model_masses"
   ]
  },
  {
   "cell_type": "code",
   "execution_count": null,
   "metadata": {},
   "outputs": [],
   "source": [
    "######## test model_masses function:\n",
    "%matplotlib tk\n",
    "# define the bounds from picking the horizontal coordinates of each point masses:\n",
    "area = [-5000.0, +5000.0, -2500.0, +2500.0]\n",
    "# define axes for input function\n",
    "axes = pyplot.figure().add_subplot(1,1,1)\n",
    "xc,yc = model_masses(area, axes)"
   ]
  },
  {
   "cell_type": "code",
   "execution_count": null,
   "metadata": {},
   "outputs": [],
   "source": [
    "print xc, yc"
   ]
  },
  {
   "cell_type": "code",
   "execution_count": 2,
   "metadata": {},
   "outputs": [],
   "source": [
    "def on_press(event):\n",
    "   # if event.inaxes != ax or event.inaxes !=ax2:\n",
    "   #     print 'plot area wrongly set up. Please, check.'\n",
    "   #print('you pressed', event.button, event.xdata, event.ydata)\n",
    "    \n",
    "    # set useblit = True on gtkagg for enhanced performance\n",
    "\n",
    "    if event.inaxes == ax1:\n",
    "        x.append(event.xdata)\n",
    "        y.append(event.ydata)\n",
    "        plotx.append(event.xdata)\n",
    "        ploty.append(event.ydata)\n",
    "        ax1.plot(plotx,ploty, 'ko')\n",
    "        ax1.figure.canvas.draw()\n",
    "    elif event.inaxes == ax2:\n",
    "        rho.append(event.xdata)\n",
    "        z.append(event.ydata)\n",
    "        plotrho.append(event.xdata)\n",
    "        plotz.append(event.ydata)\n",
    "        ax2.plot(plotrho,plotz, 'b+')\n",
    "        ax2.figure.canvas.draw()\n",
    "    #fig1.set_color('k')\n",
    "    #fig1.set_marker('o')\n",
    "    #fig1.set_data(plotx,ploty)\n",
    "    #fig1.canvas.draw()"
   ]
  },
  {
   "cell_type": "code",
   "execution_count": 3,
   "metadata": {},
   "outputs": [],
   "source": [
    "######## test model_masses function:\n",
    "%matplotlib tk\n",
    "# define the bounds from picking the horizontal coordinates of each point mass:\n",
    "area1 = [-5000.0, +5000.0, -2500.0, +2500.0]\n",
    "# define the bounds from picking the density contrast and depth of each point mass:\n",
    "area2 = [-500.0, +500.0, -500.0, +10000.0]\n",
    "#area2 = np.copy(area1)"
   ]
  },
  {
   "cell_type": "code",
   "execution_count": 4,
   "metadata": {},
   "outputs": [],
   "source": [
    "# define axes for input function\n",
    "#f, (axes1, axes2) = pyplot.subplots(1,2, sharey = False)\n",
    "fig1, (ax1, ax2) = pyplot.subplots(1, 2)\n",
    "ax1.set_title('Click for picking of x y coordinates. Press keybord < e > to erase.' )\n",
    "ax1.set_xlim(area1[0], area1[1])\n",
    "ax1.set_ylim(area1[2], area1[3])\n",
    "ax1.grid()\n",
    "ax1.set_xlabel(' Horizontal coordinate x')\n",
    "ax1.set_ylabel(' Horizontal coordinate y')\n",
    "\n",
    "ax2.set_title('Click for picking densisty-contrast and depth Close fig when done.')\n",
    "ax2.set_xlim(area2[0], area2[1])\n",
    "ax2.set_ylim(area2[2], area2[3])\n",
    "ax2.grid()\n",
    "# change the position of the tick label:\n",
    "ax2.yaxis.tick_right()\n",
    "ax2.set_xlabel(' density contrast')\n",
    "ax2.set_ylabel(' Depth')\n",
    "\n",
    "cursor1 = Cursor(ax1, useblit=True, color='black', linewidth=2)\n",
    "cursor2 = Cursor(ax2, useblit=True, color='blue', linewidth=2)\n",
    "#multi = MultiCursor(fig1.canvas, (ax1, ax2), useblit=True, color='r', lw=1, horizOn = True, vertOn = True)\n",
    "x = []\n",
    "y = []\n",
    "plotx = []\n",
    "ploty = []\n",
    "z = []\n",
    "rho = []\n",
    "plotz = []\n",
    "plotrho = []\n",
    "cid1 = fig1.canvas.mpl_connect('button_press_event', on_press )"
   ]
  },
  {
   "cell_type": "code",
   "execution_count": 5,
   "metadata": {},
   "outputs": [
    {
     "name": "stdout",
     "output_type": "stream",
     "text": [
      "[-12.618242373258909, -3970.7977819361704, 1709.6430840014436, 289.53286751704036, -1704.6644577589304, -1704.6644577589304, -1704.6644577589304, -1704.6644577589304, -1704.6644577589304, -1704.6644577589304, -1704.6644577589304, 1951.3639719136827, -3502.463561606207, -1825.52490171505, 440.6084224621882, 1060.0181977373013, -4061.44311490326, 712.5444213634582, 4398.787962025101, 3114.6457449913305, -1417.6209033631467, 349.96308949509876, 2752.064413122973] [985.526215467507, -996.8358451724398, -100.96068315246384, -1346.2906956057639, -189.9128268991285, -189.9128268991285, -189.9128268991285, -189.9128268991285, -189.9128268991285, -189.9128268991285, -189.9128268991285, 1551.0077007141576, 1201.5528502808343, 1239.6751976008331, 2046.598215874145, 928.3426944875077, -596.5511983124507, -1092.1417134724375, 108.71222710753045, 1176.1379520675014, -418.64691081912224, -1771.9902406790857, -1676.6843723790882]\n"
     ]
    }
   ],
   "source": [
    "print x, y\n",
    "pyplot.plot(x,y,'.b')\n",
    "pyplot.show()"
   ]
  },
  {
   "cell_type": "code",
   "execution_count": 6,
   "metadata": {},
   "outputs": [
    {
     "name": "stdout",
     "output_type": "stream",
     "text": [
      "[-1.7219179728408562, -202.65240604988912, 164.46119246682338, 70.79434840083104, 57.197548455767446, -311.42680561039674, 238.48821438994628, 117.62777043382721, -199.6308949509862, -296.3192501158817, -86.3242287421242, -51.576851104739944, -172.43729506085947] [-25.262408824051136, 1989.5036470378946, 4751.46771037182, 7953.744885251734, 7313.28945027575, 4231.097669453835, 3096.9578366838646, 6299.235011563778, 6566.09144280377, 6926.347624977761, 4991.638498487813, 6259.206546877778, 9207.9701120797]\n"
     ]
    }
   ],
   "source": [
    "print rho, z\n",
    "pyplot.plot(rho,z,'+r')\n",
    "pyplot.show()"
   ]
  },
  {
   "cell_type": "code",
   "execution_count": null,
   "metadata": {},
   "outputs": [],
   "source": []
  }
 ],
 "metadata": {
  "kernelspec": {
   "display_name": "Python 2",
   "language": "python",
   "name": "python2"
  },
  "language_info": {
   "codemirror_mode": {
    "name": "ipython",
    "version": 2
   },
   "file_extension": ".py",
   "mimetype": "text/x-python",
   "name": "python",
   "nbconvert_exporter": "python",
   "pygments_lexer": "ipython2",
   "version": "2.7.15"
  }
 },
 "nbformat": 4,
 "nbformat_minor": 2
}
