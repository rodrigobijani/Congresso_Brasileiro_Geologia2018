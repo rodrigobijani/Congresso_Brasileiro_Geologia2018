{
 "cells": [
  {
   "cell_type": "markdown",
   "metadata": {},
   "source": [
    "# Teste do modelo interativo para agregar várias bolinhas de massas \n",
    "\n"
   ]
  },
  {
   "cell_type": "code",
   "execution_count": 1,
   "metadata": {
    "collapsed": true
   },
   "outputs": [],
   "source": [
    "################ python internal packages ###############\n",
    "import numpy as np\n",
    "from matplotlib import pyplot, widgets\n",
    "from matplotlib.widgets import Cursor, MultiCursor\n",
    "#########################################################"
   ]
  },
  {
   "cell_type": "code",
   "execution_count": null,
   "metadata": {
    "collapsed": true
   },
   "outputs": [],
   "source": [
    "from modules.iplots import model_masses"
   ]
  },
  {
   "cell_type": "code",
   "execution_count": null,
   "metadata": {
    "collapsed": true
   },
   "outputs": [],
   "source": [
    "######## test model_masses function:\n",
    "%matplotlib tk\n",
    "# define the bounds from picking the horizontal coordinates of each point masses:\n",
    "area = [-5000.0, +5000.0, -2500.0, +2500.0]\n",
    "# define axes for input function\n",
    "axes = pyplot.figure().add_subplot(1,1,1)\n",
    "xc,yc = model_masses(area, axes)"
   ]
  },
  {
   "cell_type": "code",
   "execution_count": null,
   "metadata": {},
   "outputs": [],
   "source": [
    "print xc, yc"
   ]
  },
  {
   "cell_type": "code",
   "execution_count": 2,
   "metadata": {
    "collapsed": true
   },
   "outputs": [],
   "source": [
    "def draw_guide1(px, py):\n",
    "        if len(x) != 0:\n",
    "            tmpline1.set_data([x[-1], px], [y[-1], py])"
   ]
  },
  {
   "cell_type": "code",
   "execution_count": 3,
   "metadata": {
    "collapsed": true
   },
   "outputs": [],
   "source": [
    "def draw_guide2(px,py):\n",
    "    if len(rho) !=0:\n",
    "        tmpline2.set_data([rho[-1], px], [z[-1], py])"
   ]
  },
  {
   "cell_type": "code",
   "execution_count": 4,
   "metadata": {
    "collapsed": true
   },
   "outputs": [],
   "source": [
    "def move(event):\n",
    "        if event.inaxes != ax1 or event.inaxes != ax2:\n",
    "            return 'plot area wrongly set up. Please, check.'       \n",
    "        if event.inaxes == ax1:\n",
    "            if picking[0]:\n",
    "                draw_guide1(event.xdata, event.ydata)\n",
    "                ax1.figure.canvas.draw()\n",
    "        elif event.inaxes == ax2:\n",
    "            if picking[0]:\n",
    "                draw_guide2(event.xdata, event.ydata)\n",
    "                ax2.figure.canvas.draw()"
   ]
  },
  {
   "cell_type": "code",
   "execution_count": 9,
   "metadata": {
    "collapsed": true
   },
   "outputs": [],
   "source": [
    "def click(event):\n",
    "    if event.inaxes == ax1:\n",
    "        x.append(event.xdata)\n",
    "        y.append(event.ydata)\n",
    "        plotx.append(event.xdata)\n",
    "        ploty.append(event.ydata)\n",
    "        line1.set_color('k')\n",
    "        line1.set_marker('o')\n",
    "        line1.set_linestyle('None')\n",
    "        line1.set_data(plotx, ploty)\n",
    "        ax1.figure.canvas.draw()\n",
    "        \n",
    "    elif event.inaxes == ax2:\n",
    "        rho.append(event.xdata)\n",
    "        z.append(event.ydata)\n",
    "        plotrho.append(event.xdata)\n",
    "        plotz.append(event.ydata)\n",
    "        line2.set_color('b')\n",
    "        line2.set_marker('*')\n",
    "        line2.set_linestyle('None')\n",
    "        line2.set_data(plotrho, plotz)\n",
    "        ax2.figure.canvas.draw()"
   ]
  },
  {
   "cell_type": "code",
   "execution_count": 13,
   "metadata": {
    "collapsed": true
   },
   "outputs": [],
   "source": [
    "def erase(event):\n",
    "    if event.inaxes == ax1:\n",
    "        if event.key == 'e' and picking[0]:\n",
    "            x.pop()\n",
    "            y.pop()\n",
    "            plotx.pop()\n",
    "            ploty.pop()\n",
    "            line1.set_data(plotx, ploty)\n",
    "            draw_guide1(event.xdata, event.ydata)\n",
    "            ax1.figure.canvas.draw()\n",
    "    elif event.inaxes == ax2:\n",
    "         if event.key == 'e' and picking[0]:\n",
    "            rho.pop()\n",
    "            z.pop()\n",
    "            plotrho.pop()\n",
    "            plotz.pop()\n",
    "            line2.set_data(plotrho, plotz)\n",
    "            line2.set_linestyle('None')\n",
    "            draw_guide2(event.xdata, event.ydata)\n",
    "            ax2.figure.canvas.draw()"
   ]
  },
  {
   "cell_type": "code",
   "execution_count": 14,
   "metadata": {
    "collapsed": true
   },
   "outputs": [],
   "source": [
    "######## test model_masses function:\n",
    "%matplotlib tk\n",
    "# define the bounds from picking the horizontal coordinates of each point mass:\n",
    "area1 = [-5000.0, +5000.0, -2500.0, +2500.0]\n",
    "# define the bounds from picking the density contrast and depth of each point mass:\n",
    "area2 = [-500.0, +500.0, -500.0, +10000.0]\n",
    "#area2 = np.copy(area1)"
   ]
  },
  {
   "cell_type": "code",
   "execution_count": 15,
   "metadata": {},
   "outputs": [],
   "source": [
    "# define axes for input function\n",
    "#f, (axes1, axes2) = pyplot.subplots(1,2, sharey = False)\n",
    "fig1, (ax1, ax2) = pyplot.subplots(1, 2)\n",
    "ax1.set_title('Click for picking of x y coordinates. Press keybord < e > to erase.' )\n",
    "ax1.set_xlim(area1[0], area1[1])\n",
    "ax1.set_ylim(area1[2], area1[3])\n",
    "ax1.grid()\n",
    "ax1.set_xlabel(' Horizontal coordinate x')\n",
    "ax1.set_ylabel(' Horizontal coordinate y')\n",
    "\n",
    "ax2.set_title('Click for picking densisty-contrast and depth Close fig when done.')\n",
    "ax2.set_xlim(area2[0], area2[1])\n",
    "ax2.set_ylim(area2[2], area2[3])\n",
    "ax2.grid()\n",
    "# change the position of the tick label:\n",
    "ax2.yaxis.tick_right()\n",
    "ax2.set_xlabel(' density contrast')\n",
    "ax2.set_ylabel(' Depth')\n",
    "\n",
    "cursor1 = Cursor(ax1, useblit=True, color='black', linewidth=2)\n",
    "cursor2 = Cursor(ax2, useblit=True, color='blue', linewidth=2)\n",
    "\n",
    "# cleaning lists:\n",
    "x = []\n",
    "y = []\n",
    "plotx = []\n",
    "ploty = []\n",
    "z = []\n",
    "rho = []\n",
    "plotz = []\n",
    "plotrho = []\n",
    "line1, = ax1.plot([],[])\n",
    "tmpline1, = ax1.plot([],[])\n",
    "line2, = ax2.plot([],[])\n",
    "tmpline2, = ax2.plot([],[])\n",
    "\n",
    "# Hack because Python 2 doesn't like nonlocal variables that change value.\n",
    "# Lists it doesn't mind.\n",
    "picking = [True]\n",
    "\n",
    "fig1.canvas.mpl_connect('button_press_event', click )\n",
    "fig1.canvas.mpl_connect('key_press_event', erase )\n",
    "fig1.canvas.mpl_connect('motion_notify_event', move )\n",
    "pyplot.show()"
   ]
  },
  {
   "cell_type": "code",
   "execution_count": null,
   "metadata": {},
   "outputs": [],
   "source": [
    "print x, y\n",
    "pyplot.plot(x,y,'.b')\n",
    "pyplot.show()"
   ]
  },
  {
   "cell_type": "code",
   "execution_count": null,
   "metadata": {},
   "outputs": [],
   "source": [
    "print rho, z\n",
    "pyplot.plot(rho,z,'+r')\n",
    "pyplot.show()"
   ]
  },
  {
   "cell_type": "code",
   "execution_count": null,
   "metadata": {
    "collapsed": true
   },
   "outputs": [],
   "source": []
  }
 ],
 "metadata": {
  "kernelspec": {
   "display_name": "Python 2",
   "language": "python",
   "name": "python2"
  },
  "language_info": {
   "codemirror_mode": {
    "name": "ipython",
    "version": 2
   },
   "file_extension": ".py",
   "mimetype": "text/x-python",
   "name": "python",
   "nbconvert_exporter": "python",
   "pygments_lexer": "ipython2",
   "version": "2.7.13"
  }
 },
 "nbformat": 4,
 "nbformat_minor": 2
}
