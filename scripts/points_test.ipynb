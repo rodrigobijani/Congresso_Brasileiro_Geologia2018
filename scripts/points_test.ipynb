{
 "cells": [
  {
   "cell_type": "markdown",
   "metadata": {},
   "source": [
    "# Teste do modelo interativo para agregar várias bolinhas de massas \n",
    "\n"
   ]
  },
  {
   "cell_type": "code",
   "execution_count": 1,
   "metadata": {},
   "outputs": [],
   "source": [
    "################ python internal packages ###############\n",
    "import numpy as np\n",
    "from matplotlib import pyplot, widgets\n",
    "#########################################################"
   ]
  },
  {
   "cell_type": "code",
   "execution_count": null,
   "metadata": {},
   "outputs": [],
   "source": [
    "from modules.iplots import model_masses"
   ]
  },
  {
   "cell_type": "code",
   "execution_count": null,
   "metadata": {},
   "outputs": [],
   "source": [
    "######## test model_masses function:\n",
    "%matplotlib tk\n",
    "# define the bounds from picking the horizontal coordinates of each point masses:\n",
    "area = [-5000.0, +5000.0, -2500.0, +2500.0]\n",
    "# define axes for input function\n",
    "axes = pyplot.figure().add_subplot(1,1,1)\n",
    "xc,yc = model_masses(area, axes)"
   ]
  },
  {
   "cell_type": "code",
   "execution_count": null,
   "metadata": {},
   "outputs": [],
   "source": [
    "print xc, yc"
   ]
  },
  {
   "cell_type": "code",
   "execution_count": 15,
   "metadata": {},
   "outputs": [],
   "source": [
    "def on_press(event):\n",
    "    print('you pressed', event.button, event.xdata, event.ydata)\n",
    "    x.append(event.xdata)\n",
    "    y.append(event.ydata)\n",
    "    plotx.append(event.xdata)\n",
    "    ploty.append(event.ydata)\n",
    "    pyplot.plot(plotx,ploty)\n",
    "    #fig1.set_color('k')\n",
    "    #fig1.set_marker('o')\n",
    "    #fig1.set_data(plotx,ploty)\n",
    "    fig1.canvas.draw()"
   ]
  },
  {
   "cell_type": "code",
   "execution_count": 16,
   "metadata": {},
   "outputs": [],
   "source": [
    "######## test model_masses function:\n",
    "%matplotlib tk\n",
    "# define the bounds from picking the horizontal coordinates of each point mass:\n",
    "area1 = [-5000.0, +5000.0, -2500.0, +2500.0]\n",
    "# define the bounds from picking the density contrast and depth of each point mass:\n",
    "area2 = [-500.0, +500.0, -500.0, +10000.0]"
   ]
  },
  {
   "cell_type": "code",
   "execution_count": 26,
   "metadata": {},
   "outputs": [
    {
     "name": "stdout",
     "output_type": "stream",
     "text": [
      "('you pressed', 1, -76.612903225806804, 641.2337662337668)\n",
      "('you pressed', 1, -2737.9032258064517, -35.173160173159431)\n",
      "('you pressed', 1, -1362.9032258064517, -1198.5930735930731)\n",
      "('you pressed', 1, 677.41935483871021, 262.44588744588827)\n",
      "('you pressed', 1, -830.6451612903229, 1466.4502164502169)\n",
      "('you pressed', 1, -3358.8709677419356, 925.32467532467626)\n",
      "('you pressed', 1, -4334.677419354839, -1009.1991341991338)\n",
      "('you pressed', 1, 1653.2258064516118, -1469.1558441558439)\n",
      "('you pressed', 1, 313.70967741935465, 3539.7727272727279)\n",
      "('you pressed', 1, 145.1612903225805, 6664.7727272727279)\n",
      "('you pressed', 1, -222.98387096774195, 6380.6818181818198)\n",
      "('you pressed', 1, -307.25806451612902, 3227.2727272727279)\n",
      "('you pressed', 1, 12.096774193548299, 1210.2272727272734)\n"
     ]
    }
   ],
   "source": [
    "# define axes for input function\n",
    "#f, (axes1, axes2) = pyplot.subplots(1,2, sharey = False)\n",
    "fig1, (ax, ax2) = pyplot.subplots(1, 2)\n",
    "ax.set_title('Click for picking of x y coordinates. Press keybord < e > to erase.' )\n",
    "ax.set_xlim(area1[0], area1[1])\n",
    "ax.set_ylim(area1[2], area1[3])\n",
    "ax.grid()\n",
    "ax.set_xlabel(' Horizontal coordinate x')\n",
    "ax.set_ylabel(' Horizontal coordinate y')\n",
    "\n",
    "ax2.set_title('Click for picking densisty-contrast and depth Close fig when done.')\n",
    "ax2.set_xlim(area2[0], area2[1])\n",
    "ax2.set_ylim(area2[2], area2[3])\n",
    "ax2.grid()\n",
    "ax2.yaxis.tick_right()\n",
    "ax2.set_xlabel(' density contrast')\n",
    "ax2.set_ylabel(' Depth')\n",
    "\n",
    "x = []\n",
    "y = []\n",
    "plotx = []\n",
    "ploty = []\n",
    "\n",
    "line, = ax.plot([],[])\n",
    "cid = line.figure.canvas.mpl_connect('button_press_event', on_press)"
   ]
  },
  {
   "cell_type": "code",
   "execution_count": 27,
   "metadata": {},
   "outputs": [
    {
     "name": "stdout",
     "output_type": "stream",
     "text": [
      "[-76.612903225806804, -2737.9032258064517, -1362.9032258064517, 677.41935483871021, -830.6451612903229, -3358.8709677419356, -4334.677419354839, 1653.2258064516118, 313.70967741935465, 145.1612903225805, -222.98387096774195, -307.25806451612902, 12.096774193548299]\n"
     ]
    }
   ],
   "source": [
    "print x"
   ]
  },
  {
   "cell_type": "code",
   "execution_count": null,
   "metadata": {},
   "outputs": [],
   "source": []
  }
 ],
 "metadata": {
  "kernelspec": {
   "display_name": "Python 2",
   "language": "python",
   "name": "python2"
  },
  "language_info": {
   "codemirror_mode": {
    "name": "ipython",
    "version": 2
   },
   "file_extension": ".py",
   "mimetype": "text/x-python",
   "name": "python",
   "nbconvert_exporter": "python",
   "pygments_lexer": "ipython2",
   "version": "2.7.15"
  }
 },
 "nbformat": 4,
 "nbformat_minor": 2
}
