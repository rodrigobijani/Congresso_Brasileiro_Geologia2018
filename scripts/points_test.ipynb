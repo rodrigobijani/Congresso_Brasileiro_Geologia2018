{
 "cells": [
  {
   "cell_type": "markdown",
   "metadata": {},
   "source": [
    "# Teste do modelo interativo para agregar várias bolinhas de massas \n",
    "\n"
   ]
  },
  {
   "cell_type": "code",
   "execution_count": 4,
   "metadata": {},
   "outputs": [],
   "source": [
    "################ python internal packages ###############\n",
    "import numpy as np\n",
    "import matplotlib.pyplot as plt\n",
    "#import tkinter\n",
    "#from tkinter import ttk\n",
    "#from Tkinter import *\n",
    "import Tkinter as Tk\n",
    "import ipywidgets as widgets\n",
    "%matplotlib tk\n",
    "#########################################################"
   ]
  },
  {
   "cell_type": "code",
   "execution_count": 2,
   "metadata": {},
   "outputs": [],
   "source": [
    "# Defining functions for clicking and saving coordinates:\n",
    "\n",
    "#def Pmass() #Creating a main function\n",
    "\n",
    "#x = []\n",
    "#z = []\n",
    "#m = []\n",
    "#plotx = []\n",
    "#plotz = []\n",
    "#plotm = []\n",
    "#pyplot.gca().invert_yaxis()\n",
    "\n",
    "def ontype(event):\n",
    "    \"\"\"Deal with keyboard events\"\"\"\n",
    "    print(\"You pressed key {:s}\".format(event.key))\n",
    "\n",
    "def onclick(event):\n",
    "    \"\"\"Deal with click events\"\"\"\n",
    "    button = ['left','middle','right']\n",
    "    toolbar = plt.get_current_fig_manager().toolbar\n",
    "    if toolbar.mode!='':\n",
    "        print(\"You clicked on something, but toolbar is in mode {:s}.\".format(toolbar.mode))\n",
    "    else:\n",
    "        print(\"You {0}-clicked coords ({1},{2}) (pix ({3},{4}))\".format(button[event.button+1],\\\n",
    "                                                                                   event.xdata,\\\n",
    "                                                                                   event.ydata,\\\n",
    "                                                                                       event.x,\\\n",
    "                                                                                       event.y))\n",
    "    plt.plot(event.xdata,event.ydata,'ro') #plotting the points of mass in red \n",
    "    plt.show() # shows the points of mass\n",
    "        \n",
    "def move(event):\n",
    "    if event.inaxes != ax:\n",
    "        return 'plot area wrongly set up. Please, check.'\n",
    "    if picking[0]:\n",
    "        draw_guide(event.xdata, event.ydata)      \n",
    "        axes.figure.canvas.draw()\n",
    "        \n",
    "def pick(event):\n",
    "    if event.inaxes != axes:\n",
    "        return 'plot area wrongly set up. Please, check.'\n",
    "    x.append(event.xdata)\n",
    "    z.append(event.ydata)\n",
    "    plotx.append(event.xdata)\n",
    "    ploty.append(event.ydata)\n",
    "    line.set_color('r')\n",
    "    line.set_marker('o')\n",
    "    line.set_data(plotx,ploty)\n",
    "    axes.figure.canvas.draw()\n",
    "\n",
    "def move(event):\n",
    "    if event.inaxes != axes:\n",
    "        return 'plot area wrongly set up. Please, check.'\n",
    "    if picking[0]:\n",
    "        draw_guide(event.xdata, event.ydata)\n",
    "        axes.figure.canvas.draw()\n",
    "        \n",
    "def erase(event):\n",
    "    if event.key == 'e' and picking[0]:\n",
    "        x.pop()\n",
    "        y.pop()\n",
    "        plotx.pop()\n",
    "        ploty.pop()\n",
    "        line.set_data(plotx, ploty)\n",
    "        draw_guide(event.xdata, event.ydata)\n",
    "        axes.figure.canvas.draw()\n",
    "                \n",
    "                \n",
    "#return x,z,m"
   ]
  },
  {
   "cell_type": "code",
   "execution_count": 3,
   "metadata": {},
   "outputs": [
    {
     "name": "stdout",
     "output_type": "stream",
     "text": [
      "You right-clicked coords (-0.0102016129032,-0.0213095238095) (pix (282,166.0))\n",
      "You right-clicked coords (-0.00489718554891,-0.0137370323129) (pix (337,189.0))\n",
      "You right-clicked coords (-0.0042410737513,-0.00993176020408) (pix (366,249.0))\n",
      "You right-clicked coords (-0.00496505918314,-0.00682412131519) (pix (334,298.0))\n",
      "You right-clicked coords (-0.00804199726847,-0.00879017857143) (pix (198,267.0))\n",
      "You right-clicked coords (-0.00428632284079,-0.0131662414966) (pix (364,198.0))\n"
     ]
    }
   ],
   "source": [
    "#Drawing points:\n",
    "\n",
    "figure = plt.figure()\n",
    "#ax = fig.add_subplot(111)\n",
    "#ax.set_title('click to build points of mass')\n",
    "\n",
    "if __name__ == \"__main__\":\n",
    "    plt.plot([0],[0],'ko-',picker=5)\n",
    "    figure.canvas.mpl_connect('key_press_event',ontype)\n",
    "    figure.canvas.mpl_connect('button_press_event',onclick)\n",
    "    figure.canvas.draw()\n",
    "    plt.show()"
   ]
  }
 ],
 "metadata": {
  "kernelspec": {
   "display_name": "Python 2",
   "language": "python",
   "name": "python2"
  },
  "language_info": {
   "codemirror_mode": {
    "name": "ipython",
    "version": 2
   },
   "file_extension": ".py",
   "mimetype": "text/x-python",
   "name": "python",
   "nbconvert_exporter": "python",
   "pygments_lexer": "ipython2",
   "version": "2.7.13"
  }
 },
 "nbformat": 4,
 "nbformat_minor": 2
}
