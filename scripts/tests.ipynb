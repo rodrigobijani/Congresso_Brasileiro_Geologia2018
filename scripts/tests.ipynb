{
 "cells": [
  {
   "cell_type": "markdown",
   "metadata": {
    "slideshow": {
     "slide_type": "subslide"
    }
   },
   "source": [
    "# Objetivo: criar a função que plota pontos de massa no espaço 3D:"
   ]
  },
  {
   "cell_type": "code",
   "execution_count": 1,
   "metadata": {
    "collapsed": true,
    "slideshow": {
     "slide_type": "slide"
    }
   },
   "outputs": [],
   "source": [
    "# Importanto bibliotecas necessárias para utilização das funções específicas do python:\n",
    "import numpy as np\n",
    "from mpl_toolkits.mplot3d import Axes3D\n",
    "import matplotlib.pyplot as plt\n",
    "import pylab as py\n",
    "from modules.plots import points3D, prism3D\n",
    "from itertools import product, combinations\n",
    "%matplotlib tk"
   ]
  },
  {
   "cell_type": "code",
   "execution_count": 3,
   "metadata": {
    "collapsed": true,
    "slideshow": {
     "slide_type": "subslide"
    }
   },
   "outputs": [],
   "source": [
    "x = np.linspace(0.0, 10.0, 5)\n",
    "y = np.linspace(10.0,20.0, 5)\n",
    "z = np.linspace(-10.0, 0.0, 5)\n",
    "dens = np.linspace(2600., 3000., 5)\n",
    "model = [x, y, z, dens]\n",
    "points3D(model, 20, 14, 'x', 'y', 'Depth', 'Model')"
   ]
  },
  {
   "cell_type": "markdown",
   "metadata": {
    "collapsed": true
   },
   "source": [
    "## Teste para verificar se a funcao prism3D do modulo plots.py esta funcionando:"
   ]
  },
  {
   "cell_type": "code",
   "execution_count": 9,
   "metadata": {},
   "outputs": [
    {
     "name": "stdout",
     "output_type": "stream",
     "text": [
      "[-200.  300.]\n",
      "[-1000.  1000.]\n"
     ]
    }
   ],
   "source": [
    "# definindo os limites do prisma:\n",
    "prism1 = [-1000.0, 1000.0, -1000.0, 1000.0, 100.0, 700.0, 2670.0]\n",
    "prism2 = [-200.0, 300.0, -100.0, 100.0, 100.0, 200.0, 3170.0]\n",
    "prism3D(prism2, 20, 30, 'x(km)', 'y(km)', 'depth(km)', 'red', 'Prism2')\n",
    "prism3D(prism1, 20, 30, 'x(km)', 'y(km)', 'depth(km)', 'black', 'Prism1')"
   ]
  },
  {
   "cell_type": "code",
   "execution_count": null,
   "metadata": {
    "collapsed": true
   },
   "outputs": [],
   "source": []
  }
 ],
 "metadata": {
  "celltoolbar": "Slideshow",
  "kernelspec": {
   "display_name": "Python 2",
   "language": "python",
   "name": "python2"
  },
  "language_info": {
   "codemirror_mode": {
    "name": "ipython",
    "version": 2
   },
   "file_extension": ".py",
   "mimetype": "text/x-python",
   "name": "python",
   "nbconvert_exporter": "python",
   "pygments_lexer": "ipython2",
   "version": "2.7.14"
  }
 },
 "nbformat": 4,
 "nbformat_minor": 2
}
