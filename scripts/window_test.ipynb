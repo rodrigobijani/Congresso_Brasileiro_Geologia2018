{
 "cells": [
  {
   "cell_type": "markdown",
   "metadata": {},
   "source": [
    "# Criando a janela que irá inserir os dados de profundidade e densidade"
   ]
  },
  {
   "cell_type": "code",
   "execution_count": 6,
   "metadata": {},
   "outputs": [
    {
     "ename": "ImportError",
     "evalue": "No module named python3_gi",
     "output_type": "error",
     "traceback": [
      "\u001b[0;31m---------------------------------------------------------------------------\u001b[0m",
      "\u001b[0;31mImportError\u001b[0m                               Traceback (most recent call last)",
      "\u001b[0;32m<ipython-input-6-5b53998a22bd>\u001b[0m in \u001b[0;36m<module>\u001b[0;34m()\u001b[0m\n\u001b[1;32m      7\u001b[0m \u001b[0;31m#import Tkinter as Tk\u001b[0m\u001b[0;34m\u001b[0m\u001b[0;34m\u001b[0m\u001b[0m\n\u001b[1;32m      8\u001b[0m \u001b[0;32mimport\u001b[0m \u001b[0mipywidgets\u001b[0m \u001b[0;32mas\u001b[0m \u001b[0mwidgets\u001b[0m\u001b[0;34m\u001b[0m\u001b[0m\n\u001b[0;32m----> 9\u001b[0;31m \u001b[0;32mimport\u001b[0m \u001b[0mpython3_gi\u001b[0m\u001b[0;34m\u001b[0m\u001b[0m\n\u001b[0m\u001b[1;32m     10\u001b[0m \u001b[0;34m\u001b[0m\u001b[0m\n\u001b[1;32m     11\u001b[0m \u001b[0mget_ipython\u001b[0m\u001b[0;34m(\u001b[0m\u001b[0;34m)\u001b[0m\u001b[0;34m.\u001b[0m\u001b[0mmagic\u001b[0m\u001b[0;34m(\u001b[0m\u001b[0;34mu'matplotlib tk'\u001b[0m\u001b[0;34m)\u001b[0m\u001b[0;34m\u001b[0m\u001b[0m\n",
      "\u001b[0;31mImportError\u001b[0m: No module named python3_gi"
     ]
    }
   ],
   "source": [
    "################ python internal packages ###############\n",
    "#import numpy as np\n",
    "#import matplotlib.pyplot as plt\n",
    "import tkinter\n",
    "from tkinter import ttk\n",
    "from Tkinter import *\n",
    "#import Tkinter as Tk\n",
    "import ipywidgets as widgets\n",
    "import python3_gi\n",
    "\n",
    "%matplotlib tk\n",
    "#########################################################"
   ]
  },
  {
   "cell_type": "code",
   "execution_count": null,
   "metadata": {},
   "outputs": [],
   "source": [
    "master = Tk()\n",
    "\n",
    "\n",
    "listbox = Listbox(master)\n",
    "listbox.pack()\n",
    "\n",
    "listbox.insert(END, \"a list entry\")\n",
    "\n",
    "class Dialog(Frame):\n",
    "\n",
    "    def __init__(self, master):\n",
    "        Frame.__init__(self, master)\n",
    "        self.list = Listbox(self, selectmode=EXTENDED)\n",
    "        self.list.pack(fill=BOTH, expand=1)\n",
    "        self.current = None\n",
    "        self.poll() # start polling the list\n",
    "\n",
    "    def poll(self):\n",
    "        now = self.list.curselection()\n",
    "        if now != self.current:\n",
    "            self.list_has_changed(now)\n",
    "            self.current = now\n",
    "        self.after(250, self.poll)\n",
    "\n",
    "    def list_has_changed(self, selection):\n",
    "        print \"selection is\", selection\n",
    "\n",
    "\n",
    "for item in [\"one\", \"two\", \"three\", \"four\"]:\n",
    "    listbox.insert(END, item)\n",
    "\n",
    "mainloop()\n",
    "\n"
   ]
  },
  {
   "cell_type": "code",
   "execution_count": null,
   "metadata": {},
   "outputs": [],
   "source": [
    "root = Tk()\n",
    "\n",
    "label1 = Label(root, text=\"Add values of mass and depht.\")\n",
    "label1.pack(side=TOP)\n",
    "frame1 = Frame(root)\n",
    "frame1.pack(side=TOP)\n",
    "\n",
    "label2 = Label(frame1, text=\"depht(m)=\")\n",
    "label2.pack(side=LEFT)\n",
    "entry2 = Entry(frame1)\n",
    "entry2.insert(0, 10000)\n",
    "entry2.pack(side=LEFT)\n",
    "\n",
    "label3 = Label(frame1, text=\"density=\")\n",
    "label3.pack(side=LEFT)\n",
    "entry3 = Entry(frame1)\n",
    "entry3.insert(0, 10000)\n",
    "entry3.pack(side=LEFT)\n",
    "    \n",
    "buttons= []\n",
    "buttons = Button(root, text=\"Insert\")\n",
    "buttons.pack(side=TOP)\n",
    "\n",
    "#for data in range(100): #create button matrix\n",
    "#    buttons.append(tk.Button(root, command=lambda x=data: something(x)))\n",
    "\n",
    "#x = StringVar() # Holds a string; default value \"\"\n",
    "\n",
    "#print x\n",
    "\n",
    "\n",
    "root.mainloop()"
   ]
  },
  {
   "cell_type": "code",
   "execution_count": null,
   "metadata": {},
   "outputs": [],
   "source": [
    "#abre janela que seleciona arquivos no computador\n",
    "#from Tkinter import *\n",
    "#import Tkinter, Tkconstants, tkFileDialog\n",
    " \n",
    "#root = Tk()\n",
    "#root.filename = tkFileDialog.askopenfilename(initialdir = \"/\",title = \"Select file\",filetypes = ((\"jpeg files\",\"*.jpg\"),(\"all files\",\"*.*\")))\n",
    "#print (root.filename)"
   ]
  },
  {
   "cell_type": "code",
   "execution_count": null,
   "metadata": {},
   "outputs": [],
   "source": [
    "\n",
    "class HelloWorld(gtk.Window):\n",
    "\n",
    "    def __init__(self):\n",
    "\n",
    "        gtk.Window.__init__(self)\n",
    "        self.connect(\"delete_event\", gtk.main_quit)\n",
    "        self.set_border_width(10)\n",
    "        self.set_title(\"Hello World!\")\n",
    "\n",
    "        hbox = gtk.HBox()\n",
    "        self.add(hbox)\n",
    "\n",
    "        self.button1 = gtk.Button(\"Button 1\")\n",
    "        self.button1.connect(\"clicked\", self.button_pressed_cb)\n",
    "        hbox.pack_start(self.button1)\n",
    "\n",
    "        self.button2 = gtk.Button(\"Button 2\")\n",
    "        self.button2.connect(\"clicked\", self.button_pressed_cb)\n",
    "        hbox.pack_start(self.button2)\n",
    "\n",
    "    def button_pressed_cb(self, button):\n",
    "\n",
    "        print \"Hello again - %s was pressed\" % button.get_label()\n",
    "\n",
    "if __name__ == \"__main__\":\n",
    "\n",
    "    win = HelloWorld()\n",
    "    win.show_all()\n",
    "    gtk.main()"
   ]
  },
  {
   "cell_type": "code",
   "execution_count": null,
   "metadata": {},
   "outputs": [],
   "source": []
  }
 ],
 "metadata": {
  "kernelspec": {
   "display_name": "Python 2",
   "language": "python",
   "name": "python2"
  },
  "language_info": {
   "codemirror_mode": {
    "name": "ipython",
    "version": 2
   },
   "file_extension": ".py",
   "mimetype": "text/x-python",
   "name": "python",
   "nbconvert_exporter": "python",
   "pygments_lexer": "ipython2",
   "version": "2.7.13"
  }
 },
 "nbformat": 4,
 "nbformat_minor": 2
}
