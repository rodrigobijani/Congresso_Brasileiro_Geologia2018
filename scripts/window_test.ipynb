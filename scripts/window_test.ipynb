{
 "cells": [
  {
   "cell_type": "markdown",
   "metadata": {},
   "source": [
    "# Criando a janela que irá inserir os dados de profundidade e densidade"
   ]
  },
  {
   "cell_type": "code",
   "execution_count": 1,
   "metadata": {},
   "outputs": [],
   "source": [
    "################ python internal packages ###############\n",
    "import tkinter\n",
    "from tkinter import * # pyhton versão 3.4\n",
    "from functools import partial\n",
    "import Tkinter\n",
    "from Tkinter import * # para python inferior a versão 3.4\n",
    "import numpy as np\n",
    "%matplotlib tk\n",
    "#########################################################"
   ]
  },
  {
   "cell_type": "code",
   "execution_count": 4,
   "metadata": {},
   "outputs": [],
   "source": [
    "#abre janela que seleciona arquivos no computador\n",
    "#from Tkinter import *\n",
    "#import Tkinter, Tkconstants, tkFileDialog\n",
    " \n",
    "#root = Tk()\n",
    "#root.filename = tkFileDialog.askopenfilename(initialdir = \"/\",title = \"Select file\",filetypes = ((\"jpeg files\",\"*.jpg\"),(\"all files\",\"*.*\")))\n",
    "#print (root.filename)  "
   ]
  },
  {
   "cell_type": "code",
   "execution_count": 10,
   "metadata": {},
   "outputs": [
    {
     "name": "stdout",
     "output_type": "stream",
     "text": [
      "('231', '32')\n"
     ]
    }
   ],
   "source": [
    "def stopProg(e):\n",
    "    janela.destroy()\n",
    "    janela.quit()\n",
    "\n",
    "class MyDialog:\n",
    "    def __init__(janela, parent):\n",
    "\n",
    "        top = janela.top = Toplevel(parent)\n",
    "\n",
    "        Label(top, text=\"Value\").pack()\n",
    "\n",
    "        janela.e = Entry(top)\n",
    "        janela.e.pack(padx=5)\n",
    "\n",
    "        b = Button(top, text=\"OK\", command=janela.ok)\n",
    "        b.pack(pady=5)\n",
    "\n",
    "\n",
    "janela = Tkinter.Tk()\n",
    "janela.title(\"Main Window\")\n",
    "#janela[\"bg\"] = \"gray\" # ajusta a coloração da janela\n",
    "#janela[\"background\"] = \"gray\" \" ajusta a coloração da janela\n",
    "#janela.geometry(\"100x100+100+100\")# ajusta o tamanho da janela\n",
    "\n",
    "label1 = Label(janela, text=\"Add values of density constrast and depth.\")\n",
    "label1.pack(side=TOP)\n",
    "frame1 = Frame(janela)#coloca tudo no objeto janela\n",
    "frame1.pack(side=TOP)\n",
    "\n",
    "#label da entrada de prof\n",
    "label2 = Label(frame1, text=\"depth value =\")\n",
    "label2.pack(side=LEFT)\n",
    "\n",
    "# adiciona cx de entrada da prof\n",
    "\n",
    "z = Entry(frame1)\n",
    "z.pack(side=LEFT)\n",
    "\n",
    "\n",
    "#label da entrada de dens\n",
    "label3 = Label(frame1, text=\"density value =\")\n",
    "label3.pack(side=LEFT)\n",
    "\n",
    "#adiciona a cx de entrada da dens\n",
    "\n",
    "rho = Entry(frame1)\n",
    "rho.pack(side=LEFT)\n",
    "\n",
    "def buttons_click():\n",
    "    buttons[\"text\"] = \"Added!\"\n",
    "    prof=z.get()\n",
    "    dens=rho.get()\n",
    "    print(z.get(),rho.get()) #associa o valor que foi digitado no widget entry2\n",
    "    # Criando e escrevendo em arquivos de texto (modo 'w'). Saída de dados do clique\n",
    "    arquivo = open('arq01.txt','w')\n",
    "    arquivo.write(prof)\n",
    "    arquivo.write(\"  \")\n",
    "    arquivo.write(dens)\n",
    "    arquivo.close()\n",
    "    \n",
    "#janela.bind('<Return>', buttons_click)\n",
    "\n",
    "#Cria o botão que esta vinculado a função de captura de dados\n",
    "buttons = Button(janela, width=20, text=\"OK\", command= buttons_click)\n",
    "\n",
    "\n",
    "\n",
    "\n",
    "buttons.pack(side=TOP)\n",
    "#janela.after(1, ask_for_userinput)#finaliza o laço infinito com a função condicional ask_for_userinput()\n",
    "button1=Button(janela,text=\"Exit\")\n",
    "button1.pack()\n",
    "button1.bind('<Button-1>',stopProg)\n",
    "janela.mainloop() #laço infinito"
   ]
  },
  {
   "cell_type": "code",
   "execution_count": 11,
   "metadata": {},
   "outputs": [
    {
     "name": "stdout",
     "output_type": "stream",
     "text": [
      "231  32\n"
     ]
    }
   ],
   "source": [
    "# Lendo o arquivo criado:\n",
    "arquivo = open('arq01.txt','r')\n",
    "for linha in arquivo:\n",
    "    linha = linha.rstrip()\n",
    "    print (linha)\n",
    "arquivo.close()"
   ]
  },
  {
   "cell_type": "code",
   "execution_count": null,
   "metadata": {},
   "outputs": [],
   "source": []
  }
 ],
 "metadata": {
  "kernelspec": {
   "display_name": "Python 2",
   "language": "python",
   "name": "python2"
  },
  "language_info": {
   "codemirror_mode": {
    "name": "ipython",
    "version": 2
   },
   "file_extension": ".py",
   "mimetype": "text/x-python",
   "name": "python",
   "nbconvert_exporter": "python",
   "pygments_lexer": "ipython2",
   "version": "2.7.14"
  }
 },
 "nbformat": 4,
 "nbformat_minor": 2
}
