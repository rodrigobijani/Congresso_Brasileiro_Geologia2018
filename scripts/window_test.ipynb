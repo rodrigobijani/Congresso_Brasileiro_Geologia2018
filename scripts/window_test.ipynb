{
 "cells": [
  {
   "cell_type": "markdown",
   "metadata": {},
   "source": [
    "# Criando a janela que irá inserir os dados de profundidade e densidade"
   ]
  },
  {
   "cell_type": "code",
   "execution_count": 31,
   "metadata": {},
   "outputs": [],
   "source": [
    "################ python internal packages ###############\n",
    "import tkinter\n",
    "from tkinter import * # pyhton versão 3.4\n",
    "from functools import partial\n",
    "import Tkinter\n",
    "from Tkinter import * # para python inferior a versão 3.4\n",
    "\n",
    "%matplotlib tk\n",
    "#########################################################"
   ]
  },
  {
   "cell_type": "code",
   "execution_count": 32,
   "metadata": {},
   "outputs": [
    {
     "name": "stdout",
     "output_type": "stream",
     "text": [
      "Just type \"open\" to close the infinite loop: \n",
      "Just type \"open\" to close the infinite loop: open\n",
      "('2435123', '25412')\n"
     ]
    }
   ],
   "source": [
    "def buttons_click():\n",
    "    buttons[\"text\"] = \"Added!\"\n",
    "    print(entry2.get(),entry3.get()) #associa o valor que foi digitado no widget entry2\n",
    "    z = float(entry2.get()) #Converte a entrada z em um número real ao clocar o botão\n",
    "    rho = float(entry3.get())# converte a entrada rho em um número real ao clicar o botão\n",
    "    \n",
    "    #laço do condicional da mensagem de erro. Não funciona no notebook. Descomentar em um console e habilitar o stop do laço infinito\n",
    "    #if(str(z).isnumeric() and str(rho).isnumeric()):\n",
    "    #    label1[\"text\"]= \"Go to the next mass point!\"\n",
    "    #else:\n",
    "    #    label1[\"text\"]= \"Invalid value! Should be a integer or a real number!\"   \n",
    "    return z, rho;\n",
    "    \n",
    "janela = Tkinter.Tk()\n",
    "\n",
    "# o usuário deve escrever open para abrir a janela para inserir os dados\n",
    "def ask_for_userinput(): # Função que termina o laço infinito \n",
    "    user_input = raw_input(\"Just type \\\"open\\\" to close the infinite loop: \")\n",
    "    if user_input == \"open\":\n",
    "        janela.quit()\n",
    "    else:\n",
    "        label = Label(janela, text=user_input)\n",
    "        label.pack()\n",
    "        janela.after(0, ask_for_userinput)\n",
    "\n",
    "janela.title(\"Main Window\")\n",
    "#janela[\"bg\"] = \"gray\" # ajusta a coloração da janela\n",
    "#janela[\"background\"] = \"gray\" \" ajusta a coloração da janela\n",
    "#janela.geometry(\"100x100+100+100\")# ajusta o tamanho da janela\n",
    "\n",
    "label1 = Label(janela, text=\"Add values of mass and depht.\")\n",
    "label1.pack(side=TOP)\n",
    "frame1 = Frame(janela)#coloca tudo no objeto janela\n",
    "frame1.pack(side=TOP)\n",
    "\n",
    "#label da entrada de prof\n",
    "label2 = Label(frame1, text=\"depht(m)=\")\n",
    "label2.pack(side=LEFT)\n",
    "\n",
    "# adiciona cx de entrada da prof\n",
    "entry2 = Entry(frame1)\n",
    "entry2.pack(side=LEFT)\n",
    "\n",
    "#label da entrada de dens\n",
    "label3 = Label(frame1, text=\"density(kg/m3)=\")\n",
    "label3.pack(side=LEFT)\n",
    "\n",
    "#adiciona a cx de entrada da dens\n",
    "entry3 = Entry(frame1)\n",
    "entry3.pack(side=LEFT)\n",
    "\n",
    "#Cria o botão que esta vinculado a função de captura de dados\n",
    "\n",
    "buttons = Button(janela, width=20, text=\"OK\", command=buttons_click)\n",
    "#buttons.place(x=100,y=150)  \n",
    "buttons.pack(side=TOP)\n",
    "\n",
    "  \n",
    "janela.after(0, ask_for_userinput)#finaliza o laço infinito com a função condicional ask_for_userinput()\n",
    "janela.mainloop()#laço infinito"
   ]
  },
  {
   "cell_type": "code",
   "execution_count": null,
   "metadata": {},
   "outputs": [],
   "source": [
    "#abre janela que seleciona arquivos no computador\n",
    "#from Tkinter import *\n",
    "#import Tkinter, Tkconstants, tkFileDialog\n",
    " \n",
    "#root = Tk()\n",
    "#root.filename = tkFileDialog.askopenfilename(initialdir = \"/\",title = \"Select file\",filetypes = ((\"jpeg files\",\"*.jpg\"),(\"all files\",\"*.*\")))\n",
    "#print (root.filename)"
   ]
  }
 ],
 "metadata": {
  "kernelspec": {
   "display_name": "Python 2",
   "language": "python",
   "name": "python2"
  },
  "language_info": {
   "codemirror_mode": {
    "name": "ipython",
    "version": 2
   },
   "file_extension": ".py",
   "mimetype": "text/x-python",
   "name": "python",
   "nbconvert_exporter": "python",
   "pygments_lexer": "ipython2",
   "version": "2.7.13"
  }
 },
 "nbformat": 4,
 "nbformat_minor": 2
}
