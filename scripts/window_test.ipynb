{
 "cells": [
  {
   "cell_type": "markdown",
   "metadata": {},
   "source": [
    "# Criando a janela que irá inserir os dados de profundidade e densidade"
   ]
  },
  {
   "cell_type": "code",
   "execution_count": 5,
   "metadata": {},
   "outputs": [],
   "source": [
    "################ python internal packages ###############\n",
    "import numpy as np\n",
    "import matplotlib.pyplot as plt\n",
    "import tkinter\n",
    "from tkinter import ttk\n",
    "from Tkinter import *\n",
    "#import Tkinter as Tk\n",
    "import ipywidgets as widgets\n",
    "%matplotlib tk\n",
    "#########################################################"
   ]
  },
  {
   "cell_type": "code",
   "execution_count": null,
   "metadata": {},
   "outputs": [],
   "source": [
    "root = Tk()\n",
    "\n",
    "\n",
    "label1 = Label(root, text=\"Add values of mass and depht.\")\n",
    "label1.pack(side=TOP)\n",
    "frame1 = Frame(root)\n",
    "frame1.pack(side=TOP)\n",
    "\n",
    "label2 = Label(frame1, text=\"depht(m)=\")\n",
    "label2.pack(side=LEFT)\n",
    "entry2 = Entry(frame1)\n",
    "entry2.insert(0, 10000)\n",
    "entry2.pack(side=LEFT)\n",
    "\n",
    "label3 = Label(frame1, text=\"density=\")\n",
    "label3.pack(side=LEFT)\n",
    "entry3 = Entry(frame1)\n",
    "entry3.insert(0, 10000)\n",
    "entry3.pack(side=LEFT)\n",
    "    \n",
    "buttons= []\n",
    "buttons = Button(root, text=\"Insert\")\n",
    "buttons.pack(side=TOP)\n",
    "\n",
    "#for data in range(100): #create button matrix\n",
    "#    buttons.append(tk.Button(root, command=lambda x=data: something(x)))\n",
    "\n",
    "#x = StringVar() # Holds a string; default value \"\"\n",
    "\n",
    "#print x\n",
    "\n",
    "\n",
    "root.mainloop()"
   ]
  },
  {
   "cell_type": "code",
   "execution_count": 4,
   "metadata": {},
   "outputs": [],
   "source": [
    "#abre janela que seleciona arquivos no computador\n",
    "#from Tkinter import *\n",
    "#import Tkinter, Tkconstants, tkFileDialog\n",
    " \n",
    "#root = Tk()\n",
    "#root.filename = tkFileDialog.askopenfilename(initialdir = \"/\",title = \"Select file\",filetypes = ((\"jpeg files\",\"*.jpg\"),(\"all files\",\"*.*\")))\n",
    "#print (root.filename)"
   ]
  },
  {
   "cell_type": "code",
   "execution_count": null,
   "metadata": {},
   "outputs": [],
   "source": []
  }
 ],
 "metadata": {
  "kernelspec": {
   "display_name": "Python 2",
   "language": "python",
   "name": "python2"
  },
  "language_info": {
   "codemirror_mode": {
    "name": "ipython",
    "version": 2
   },
   "file_extension": ".py",
   "mimetype": "text/x-python",
   "name": "python",
   "nbconvert_exporter": "python",
   "pygments_lexer": "ipython2",
   "version": "2.7.13"
  }
 },
 "nbformat": 4,
 "nbformat_minor": 2
}
