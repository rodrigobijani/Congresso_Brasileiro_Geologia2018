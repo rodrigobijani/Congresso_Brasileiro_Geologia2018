{
 "cells": [
  {
   "cell_type": "markdown",
   "metadata": {},
   "source": [
    "<img src='Image/CBG18.png' width=\"220px\" align=\"right\"> <img src='Image/uff-logo.png' width=\"200px\" align=\"left\"> <img src='Image/logon.jpg' width=\"200px\" align=\"center\"> "
   ]
  },
  {
   "cell_type": "markdown",
   "metadata": {},
   "source": [
    "## <center> Synthetic data - Dike model <center> "
   ]
  },
  {
   "cell_type": "markdown",
   "metadata": {},
   "source": [
    "--------------------------------------------------------------------------------------------------------------------"
   ]
  },
  {
   "cell_type": "code",
   "execution_count": null,
   "metadata": {},
   "outputs": [],
   "source": [
    "################ python internal packages ###############\n",
    "import numpy as np\n",
    "import pylab as py\n",
    "import pandas as pd\n",
    "import matplotlib.pyplot as plt\n",
    "from scipy.interpolate import griddata\n",
    "from matplotlib import widgets\n",
    "from mpl_toolkits.mplot3d import Axes3D\n",
    "from mpl_toolkits.mplot3d.art3d import Poly3DCollection, Line3DCollection\n",
    "#from IPython.display import Latex\n",
    "#########################################################"
   ]
  },
  {
   "cell_type": "code",
   "execution_count": null,
   "metadata": {},
   "outputs": [],
   "source": [
    "################### import external packages #################\n",
    "from modules.sphere import sphere_gz\n",
    "from modules.plots import rectangle, draw_prism\n",
    "from modules.iplots import model_masses\n",
    "##############################################################"
   ]
  },
  {
   "cell_type": "markdown",
   "metadata": {},
   "source": [
    "# <center> Step # 01: Read synthetic data and the dike model info <center>"
   ]
  },
  {
   "cell_type": "code",
   "execution_count": null,
   "metadata": {},
   "outputs": [],
   "source": [
    "# read synthetic data file using pandas package:\n",
    "data = pd.read_csv('Synthetic/synthetic_data.txt', sep = ' ')\n",
    "print data\n",
    "# read dike file using pandas package (dike info is just for ploting issues!):\n",
    "dike = pd.read_csv('Synthetic/dike_model.txt', sep = ' ')\n",
    "print dike"
   ]
  },
  {
   "cell_type": "markdown",
   "metadata": {},
   "source": [
    "#  <center size=3> Some useful tools of pandas: <center>\n"
   ]
  },
  {
   "cell_type": "code",
   "execution_count": null,
   "metadata": {},
   "outputs": [],
   "source": [
    "data.min() # minimum values per column"
   ]
  },
  {
   "cell_type": "code",
   "execution_count": null,
   "metadata": {},
   "outputs": [],
   "source": [
    "data.max() # maximum values per column"
   ]
  },
  {
   "cell_type": "code",
   "execution_count": null,
   "metadata": {},
   "outputs": [],
   "source": [
    "data.sum() # sum values per column"
   ]
  },
  {
   "cell_type": "code",
   "execution_count": null,
   "metadata": {},
   "outputs": [],
   "source": [
    "data.abs() # abs values per column"
   ]
  },
  {
   "cell_type": "code",
   "execution_count": null,
   "metadata": {},
   "outputs": [],
   "source": [
    "data.diff() # diference values of each line"
   ]
  },
  {
   "cell_type": "code",
   "execution_count": null,
   "metadata": {},
   "outputs": [],
   "source": [
    "data.count() # number of lines of each column"
   ]
  },
  {
   "cell_type": "code",
   "execution_count": null,
   "metadata": {},
   "outputs": [],
   "source": [
    "data.mean() # mean of each column"
   ]
  },
  {
   "cell_type": "code",
   "execution_count": null,
   "metadata": {},
   "outputs": [],
   "source": [
    "data.median() # median of each column"
   ]
  },
  {
   "cell_type": "markdown",
   "metadata": {},
   "source": [
    "# Interpolate your data for map visualization.  This is for a non-gridded data, which is really a common situation !"
   ]
  },
  {
   "cell_type": "code",
   "execution_count": null,
   "metadata": {},
   "outputs": [],
   "source": [
    "# set the mesh limits from real data coordinates with pandas command presented above:\n",
    "xmin = data.min()[0]\n",
    "print 'min x coordinate =', xmin\n",
    "ymin = data.min()[1]\n",
    "print 'min y coordinate =', ymin\n",
    "xmax = data.max()[0]\n",
    "print 'max x coordinate =', xmax\n",
    "ymax = data.max()[1]\n",
    "print 'max y coordinate =', ymax\n",
    "\n",
    "# define the number of data in both x and y directions: \n",
    "nx = 100 \n",
    "ny = 100 \n",
    "\n",
    "# create a linspace for x coordinates:\n",
    "x = np.linspace(xmin, xmax, nx, endpoint=True)\n",
    "# and also for y coordinates:\n",
    "y = np.linspace(ymin, ymax, ny, endpoint=True)\n",
    "# mesh for interpolation:\n",
    "X,Y = np.meshgrid(x,y)"
   ]
  },
  {
   "cell_type": "markdown",
   "metadata": {},
   "source": [
    "# <center size=3>   Interpolation using scipy package : <center> "
   ]
  },
  {
   "cell_type": "code",
   "execution_count": null,
   "metadata": {},
   "outputs": [],
   "source": [
    "# put the read data into more mnemonic variables and convert to lists to perform calculations:\n",
    "coordx = data.iloc[:,0] # x coordinate (m)\n",
    "coordy = data.iloc[:,1] # y coordinate (m)\n",
    "elev   = data.iloc[:,2] # elevation (m) - in this case, is one elevation for the whole data-set! pay attention!\n",
    "gz     = data.iloc[:,3] # vertical attraction (mGal) \n",
    "\n",
    "real_coords = (coordx, coordy) # real observation positions\n",
    "grid_coords = (X,Y) # interpolated observation positions\n",
    "\n",
    "# function of scipy for interpolation:\n",
    "gzi = griddata(real_coords, gz, grid_coords , method='cubic') # from now on, this will be our \"real data\""
   ]
  },
  {
   "cell_type": "markdown",
   "metadata": {},
   "source": [
    "# <center size=3>   Visualization of the interpolated data and the contour of the dike : <center> "
   ]
  },
  {
   "cell_type": "code",
   "execution_count": null,
   "metadata": {},
   "outputs": [],
   "source": [
    "# contour of the dike using pandas commands:\n",
    "xmin_dike = dike.iloc[0,0]\n",
    "xmax_dike = dike.iloc[0,1]\n",
    "ymin_dike = dike.iloc[0,2]\n",
    "ymax_dike = dike.iloc[0,3]\n",
    "zmin_dike = dike.iloc[0,4]\n",
    "zmax_dike = dike.iloc[0,5]\n",
    "dens_dike = dike.iloc[0,6]\n",
    "\n",
    "# create a list with the contour of the dike (IN THIS CASE, THE REAL SOURCE!)\n",
    "dike2D = [xmin_dike, xmax_dike, ymin_dike, ymax_dike]\n",
    "\n",
    "# coordinates of the dike for 3D plot:\n",
    "dike3D = [xmin_dike, xmax_dike, ymin_dike, ymax_dike, zmin_dike, zmax_dike]\n",
    "\n",
    "print 'Horizontal limits of the dike = ', dike2D\n",
    "print 'Coordinates of the dike = ', dike3D"
   ]
  },
  {
   "cell_type": "code",
   "execution_count": null,
   "metadata": {},
   "outputs": [],
   "source": [
    "# Ploting the data to see if it's ok so far:\n",
    "plt.close('all')\n",
    "fig = plt.figure(figsize=(12,6))\n",
    "# adding axis to the figure:\n",
    "ax1 = plt.axes()\n",
    "fs = 14 # fontsize used in the labels\n",
    "\n",
    "# draw the edges of the dike for better vizualization:\n",
    "rectangle(ax1, dike2D, style='--k', linewidth=4, fill=None, alpha=1., label=None)\n",
    "\n",
    "# plot the data in countor map:\n",
    "plt.title('Dike model - interpolated noisy data', fontsize = fs)\n",
    "p = ax1.contour(X, Y, gzi, 10, colors='k', linewidths = 0.2, vmin=np.min(gzi), vmax=np.max(gzi) )\n",
    "\n",
    "# display the lines and the respective value of each line:\n",
    "ax1.clabel(p, inline=10, fontsize=10) #(only work for contour command!!!!!!)\n",
    "\n",
    "p = ax1.contourf(X, Y, gzi, 10, cmap = plt.cm.coolwarm, vmin = np.min(gz), vmax = np.max(gz))\n",
    "\n",
    "# Colorbar specifications:\n",
    "cbar = fig.colorbar(p, aspect=40, fraction = 0.1, orientation=\"vertical\")\n",
    "cbar.set_label('Gravity Anomaly ( $ mGal$ )',fontsize=15, rotation = 90)\n",
    "plt.ylabel('Horizontal coordinate Y (m)', fontsize = fs)\n",
    "plt.xlabel('Horizontal coordinate X (m)', fontsize = fs)\n",
    "plt.show()"
   ]
  },
  {
   "cell_type": "markdown",
   "metadata": {},
   "source": [
    "## Test #01: Place a single point mass at the very bottom of the interpretive model:"
   ]
  },
  {
   "cell_type": "code",
   "execution_count": null,
   "metadata": {},
   "outputs": [],
   "source": [
    "# ---------- set the properties of the point mass ------------:\n",
    "xc = 0.0 # meters\n",
    "yc = 0.0 # meters\n",
    "zc = 39000.0 # meters\n",
    "rho = 2000.0 # kg/m3\n",
    "\n",
    "# ---- save in a list to perform calculation of the gravity anomaly----:\n",
    "source = ( xc, yc, zc, rho ) \n",
    "# predicted vertical attraction gz:\n",
    "gz_pred = sphere_gz(X,Y,elev[0],source) "
   ]
  },
  {
   "cell_type": "markdown",
   "metadata": {},
   "source": [
    "## Plot data produced by the deep point mass and compare with the real data:"
   ]
  },
  {
   "cell_type": "code",
   "execution_count": null,
   "metadata": {
    "scrolled": true
   },
   "outputs": [],
   "source": [
    "# -------------------- Ploting all results obtained so far --------------------:\n",
    "plt.close('all')\n",
    "fig = plt.figure(figsize=(16,5))\n",
    "fs = 14 # fontsize used in the labels\n",
    "\n",
    "#-------------------- Plot the data produced by the dike model: --------------------\n",
    "ax1 = plt.subplot(1, 2, 1)\n",
    "plt.title('Gravity Anomaly - dike model ', fontsize = fs)\n",
    "\n",
    "# plot isolines:\n",
    "p = ax1.contour(X, Y, gzi, 10, colors='k', linewidths = 0.2, vmin=np.min(gzi), vmax=np.max(gzi) )\n",
    "\n",
    "# display the lines and the respective value of each line:\n",
    "plt.clabel(p, inline=1, fontsize=10) #(only work for contour command!!!!!!)\n",
    "\n",
    "p1 = ax1.contourf(X, Y, gzi, 10, cmap = plt.cm.coolwarm, vmin = np.min(gzi), vmax = np.max(gzi))\n",
    "cbar1 = plt.colorbar(p1, aspect=30, fraction = 0.05, orientation=\"horizontal\")\n",
    "cbar1.set_label('$g_z $ ( $ mGal$ )',fontsize=15, rotation = 0)\n",
    "\n",
    "# -------- plot the dike contour jointly with the color map ---------------------:\n",
    "rectangle(ax1,dike2D, style='--k', linewidth=4, fill= None, alpha=1., label=None)\n",
    "plt.ylabel('Horizontal coordinate Y (m)', fontsize = fs)\n",
    "plt.xlabel('Horizontal coordinate X (m)', fontsize = fs)\n",
    "\n",
    "###########################################################################################################################\n",
    "#-------------------- Plot the data produced by the deep point mass : --------------------\n",
    "ax2 = plt.subplot(1, 2, 2)\n",
    "plt.title('Gravity Anomaly - point mass model ', fontsize = fs)\n",
    "\n",
    "# plot isolines:\n",
    "p = ax2.contour(X, Y, gz_pred, 10, colors='k', linewidths = 0.2, vmin=np.min(gzi), vmax=np.max(gzi) )\n",
    "\n",
    "# display the lines and the respective value of each line:\n",
    "plt.clabel(p, inline=1, fontsize=10) #(only work for contour command!!!!!!)\n",
    "\n",
    "# for the color map as a function of the data produced by the deep point mass:\n",
    "p2 = ax2.contourf(X, Y, gz_pred, 10, cmap = plt.cm.coolwarm, vmin = np.min(gzi), vmax = np.max(gzi))\n",
    "\n",
    "#-------------------- Color bar specifications: --------------------\n",
    "cbar2 = plt.colorbar(p1, aspect=30, fraction = 0.05, orientation=\"horizontal\")\n",
    "cbar2.set_label('$g_z $ ( $ mGal$ )',fontsize=15, rotation = 0)\n",
    "\n",
    "# -------- plot the dike contour into the contor map ---------------------:\n",
    "rectangle(ax2, dike2D, style='--k', linewidth=4, fill= None, alpha=1., label=None)\n",
    "\n",
    "# -------- plot the point mass into the contor map ---------------------:\n",
    "plt.scatter(xc, yc, s=rho, c='k', marker='.')\n",
    "\n",
    "plt.ylabel('Horizontal coordinate Y (m)', fontsize = fs)\n",
    "plt.xlabel('Horizontal coordinate X (m)', fontsize = fs)\n",
    "\n",
    "plt.show()\n",
    "# save figure tests:\n",
    "fig.savefig('Synthetic/test#01-deep_mass_2D.pdf', dpi=300, transparent=True, bbox_inches='tight')"
   ]
  },
  {
   "cell_type": "markdown",
   "metadata": {},
   "source": [
    "#  <center> 3D Plot of model and data in slice <center>"
   ]
  },
  {
   "cell_type": "code",
   "execution_count": null,
   "metadata": {},
   "outputs": [],
   "source": [
    "# ------- compute the difference between the \"observed\" data and the predicted data -------:\n",
    "residuals = gzi - gz_pred"
   ]
  },
  {
   "cell_type": "code",
   "execution_count": null,
   "metadata": {
    "scrolled": true
   },
   "outputs": [],
   "source": [
    "plt.close('all')\n",
    "%matplotlib tk\n",
    "py.rcParams['contour.negative_linestyle'] = 'dashed'\n",
    "fig = plt.figure(figsize=(14,10))\n",
    "ax = fig.gca(projection='3d') # 3D boxplot where the figure goes\n",
    "\n",
    "# plot the dike and store it in pbox plotting object:\n",
    "pbox = draw_prism(ax, dike3D)\n",
    "\n",
    "# --- change size projection ---\n",
    "x_scale=1.\n",
    "y_scale=1.\n",
    "z_scale=1.\n",
    "scale=np.diag([x_scale, y_scale, z_scale, 1.0])\n",
    "scale=scale*(1.0/scale.max())\n",
    "scale[3,3]=1.0\n",
    "def short_proj():\n",
    "    return np.dot(Axes3D.get_proj(ax), scale)\n",
    "pbox.get_proj=short_proj\n",
    "\n",
    "# ----- define labels and limits of the plotbox:\n",
    "pbox.set_xlabel('Horizontal coordinate x (m)', labelpad=20 ,fontsize=fs)\n",
    "pbox.set_ylabel('Horizontal coordinate y (m)', labelpad=20 ,fontsize=fs)\n",
    "pbox.set_xlim( min(x), max(x) )\n",
    "pbox.set_ylim( min(y), max(y) )\n",
    "pbox.set_zlim(-500, 40000)\n",
    "pbox.set_zlabel('Depth (m)',labelpad=20 ,fontsize=fs, rotation = 90)\n",
    "pbox.view_init(35, 40)\n",
    "\n",
    "# put z downward\n",
    "pbox.invert_zaxis()\n",
    "\n",
    "# add the deep point mass here:\n",
    "pbox.scatter3D(xc, yc, zc, s=rho, c='k', marker = '.', depthshade=True)\n",
    "\n",
    "# ------------------- vertical gravitational atraction produced by the dike ------------------:\n",
    "p1 = pbox.contour(X, Y, residuals, 10, zdir='z', \n",
    "                offset=np.min(elev) , cmap='coolwarm', vmin = np.min(residuals), vmax = np.max(residuals) )\n",
    "cbar1 = fig.colorbar(p1, aspect = 50, fraction = 0.01, orientation=\"vertical\")\n",
    "cbar1.set_label('Residuals ( $ mGal $ )',fontsize=fs, rotation = 90)\n",
    "\n",
    "plt.tight_layout(True)\n",
    "plt.show()\n",
    "# save figure tests:\n",
    "fig.savefig('Synthetic/test#01-deep_mass_3D.pdf', dpi=300, transparent=True, bbox_inches='tight')"
   ]
  },
  {
   "cell_type": "markdown",
   "metadata": {},
   "source": [
    "# <center> Conclusão: <center> \n",
    "### Este é o conceito de espaço nulo, que consiste em um conjunto específico de parâmetros do modelo utilizado (massas pontuais) que não produz qualquer alteração nos dados calculados. Isso significa que alguns dos parâmetros utilizados (zc muito profundo) para o exemplo em questão não produz qualquer alteração na anomalia computada. \n"
   ]
  },
  {
   "cell_type": "markdown",
   "metadata": {},
   "source": [
    "## Test #02: Physical property tests - calibration of the density ranges:"
   ]
  },
  {
   "cell_type": "markdown",
   "metadata": {},
   "source": [
    "### <center> Point mass with super high density: <center>"
   ]
  },
  {
   "cell_type": "code",
   "execution_count": null,
   "metadata": {},
   "outputs": [],
   "source": [
    "# ---------- set the properties of the point mass ------------:\n",
    "xc = 0.0\n",
    "yc = 0.0\n",
    "zc = 3000.0\n",
    "rho = 20000.0\n",
    "source = ( xc, yc, zc, rho ) \n",
    "# predicted vertical attraction gz:\n",
    "gz_pred = sphere_gz(X,Y,elev[0],source) \n",
    "print gz_pred.shape"
   ]
  },
  {
   "cell_type": "code",
   "execution_count": null,
   "metadata": {},
   "outputs": [],
   "source": [
    "# ------- compute gravity data for all clicked point masses:\n",
    "# Calculating the gravity attraction for all point masses:\n",
    "gz = 0.0\n",
    "# range of all masses:\n",
    "source = [ xc, yc, zc, rho ] \n",
    "#print source\n",
    "gz_pred = sphere_gz(X, Y, elev[0], source) # sum the effect of all masses "
   ]
  },
  {
   "cell_type": "markdown",
   "metadata": {},
   "source": [
    "## <Center> Plot 2D contour map to check for the data-misfit. <center>"
   ]
  },
  {
   "cell_type": "code",
   "execution_count": null,
   "metadata": {},
   "outputs": [],
   "source": [
    "# -------------------- Ploting all results obtained so far --------------------:\n",
    "%matplotlib inline\n",
    "plt.close('all')\n",
    "fig = plt.figure(figsize=(16,5))\n",
    "fs = 14 # fontsize used in the labels\n",
    "\n",
    "#-------------------- Plot the data produced by the dike model: --------------------\n",
    "ax1 = plt.subplot(1, 2, 1)\n",
    "plt.title('Gravity Anomaly - dike model ', fontsize = fs)\n",
    "\n",
    "# plot isolines:\n",
    "p = ax1.contour(X, Y, gzi, 10, colors='k', linewidths = 0.2, vmin=np.min(gzi), vmax=np.max(gzi) )\n",
    "\n",
    "# display the lines and the respective value of each line:\n",
    "plt.clabel(p, inline=1, fontsize=10) #(only work for contour command!!!!!!)\n",
    "\n",
    "p1 = ax1.contourf(X, Y, gzi, 10, cmap = plt.cm.coolwarm, vmin = np.min(gzi), vmax = np.max(gzi))\n",
    "cbar1 = plt.colorbar(p1, aspect=30, fraction = 0.05, orientation=\"horizontal\")\n",
    "cbar1.set_label('$g_z $ ( $ mGal$ )',fontsize=15, rotation = 0)\n",
    "\n",
    "# -------- plot the dike contour jointly with the color map ---------------------:\n",
    "rectangle(ax1,dike2D, style='--k', linewidth=4, fill= None, alpha=1., label=None)\n",
    "plt.ylabel('Horizontal coordinate Y (m)', fontsize = fs)\n",
    "plt.xlabel('Horizontal coordinate X (m)', fontsize = fs)\n",
    "\n",
    "###########################################################################################################################\n",
    "#-------------------- Plot the data produced by the deep point mass : --------------------\n",
    "ax2 = plt.subplot(1, 2, 2)\n",
    "plt.title('Gravity Anomaly - point mass model ', fontsize = fs)\n",
    "\n",
    "# plot isolines:\n",
    "p = ax2.contour(X, Y, gz_pred, 10, colors='k', linewidths = 0.2, vmin=np.min(gzi), vmax=np.max(gzi) )\n",
    "\n",
    "# display the lines and the respective value of each line:\n",
    "plt.clabel(p, inline=1, fontsize=10) #(only work for contour command!!!!!!)\n",
    "\n",
    "# for the color map as a function of the data produced by the deep point mass:\n",
    "p2 = ax2.contourf(X, Y, gz_pred, 10, cmap = plt.cm.coolwarm, vmin = np.min(gzi), vmax = np.max(gzi))\n",
    "\n",
    "#-------------------- Color bar specifications: --------------------\n",
    "cbar2 = plt.colorbar(p1, aspect=30, fraction = 0.05, orientation=\"horizontal\")\n",
    "cbar2.set_label('$g_z $ ( $ mGal$ )',fontsize=15, rotation = 0)\n",
    "\n",
    "# -------- plot the dike contour into the contor map ---------------------:\n",
    "rectangle(ax2, dike2D, style='--k', linewidth=4, fill= None, alpha=1., label=None)\n",
    "\n",
    "# -------- plot the point mass into the contor map ---------------------:\n",
    "plt.scatter(xc, yc, s=1000.0, c='k', marker='.')\n",
    "\n",
    "plt.ylabel('Horizontal coordinate Y (m)', fontsize = fs)\n",
    "plt.xlabel('Horizontal coordinate X (m)', fontsize = fs)\n",
    "\n",
    "\n",
    "\n",
    "plt.show()\n",
    "# save figure tests:\n",
    "fig.savefig('Synthetic/test#02-High_Density_Mass_2D.pdf', dpi=300, transparent=True, bbox_inches='tight')"
   ]
  },
  {
   "cell_type": "markdown",
   "metadata": {},
   "source": [
    "#  <center> 3D Plot of model and data in slice <center>"
   ]
  },
  {
   "cell_type": "code",
   "execution_count": null,
   "metadata": {},
   "outputs": [],
   "source": [
    "# ------- compute the difference between the \"observed\" data and the predicted data -------:\n",
    "residuals = gzi-gz_pred"
   ]
  },
  {
   "cell_type": "code",
   "execution_count": null,
   "metadata": {},
   "outputs": [],
   "source": [
    "%matplotlib tk\n",
    "py.rcParams['contour.negative_linestyle'] = 'dashed'\n",
    "plt.close('all')\n",
    "fig = plt.figure(figsize=(14,10))\n",
    "ax = fig.gca(projection='3d') # 3D boxplot where the figure goes\n",
    "\n",
    "# plot the dike and store it in pbox plotting object:\n",
    "pbox = draw_prism(ax, dike3D)\n",
    "\n",
    "# --- change size projection ---\n",
    "x_scale=1.\n",
    "y_scale=1.\n",
    "z_scale=1.\n",
    "scale=np.diag([x_scale, y_scale, z_scale, 1.0])\n",
    "scale=scale*(1.0/scale.max())\n",
    "scale[3,3]=1.0\n",
    "def short_proj():\n",
    "    return np.dot(Axes3D.get_proj(ax), scale)\n",
    "pbox.get_proj=short_proj\n",
    "\n",
    "# ----- define labels and limits of the plotbox:\n",
    "pbox.set_xlabel('Horizontal coordinate x (m)', labelpad=20 ,fontsize=fs)\n",
    "pbox.set_ylabel('Horizontal coordinate y (m)', labelpad=20 ,fontsize=fs)\n",
    "pbox.set_xlim( min(x), max(x) )\n",
    "pbox.set_ylim( min(y), max(y) )\n",
    "pbox.set_zlim(-500,10000)\n",
    "pbox.set_zlabel('Depth (m)',labelpad=20 ,fontsize=fs, rotation = 90)\n",
    "pbox.view_init(15, 55)\n",
    "\n",
    "# put z downward\n",
    "pbox.invert_zaxis()\n",
    "\n",
    "# ------------------- vertical gravitational atraction produced by the dike ------------------:\n",
    "p1 = pbox.contour(X, Y, residuals, 10, zdir='z', \n",
    "                offset=np.min(elev), cmap='coolwarm', vmin = np.min(residuals), vmax = np.max(residuals) )\n",
    "cbar1 = fig.colorbar(p1, aspect = 50, fraction = 0.01, orientation=\"vertical\")\n",
    "cbar1.set_label('Residuals ( $ mGal $ )',fontsize=16, rotation = 90)\n",
    "\n",
    "###########################################################################################################################\n",
    "# ------------------- vertical gravitational atraction produced by the point mass--------:\n",
    "#p2 = pbox.contour(X, Y, gz_pred, 10, zdir='z', offset=np.min(elev) , colors='k', linewidths = 0.5, \n",
    "#                  vmin=np.min(gzi), vmax=np.max(gzi) )\n",
    "\n",
    "# add the deep point mass here:\n",
    "pbox.scatter3D(xc, yc, zc, s=rho , c='k', marker = '.')\n",
    "\n",
    "# ------------- Color bar specifications ---------------------------:\n",
    "#cbar2 = fig.colorbar(p1, aspect = 50, fraction = 0.01, orientation=\"vertical\")\n",
    "#cbar2.set_label('Gravity Anomaly ( $ mGal $ )',fontsize=fs, rotation = 90)\n",
    "#cbar2.add_lines(p2)\n",
    "\n",
    "#plt.clabel(p2, inline=1, fontsize=8)\n",
    "#plt.tight_layout(True)\n",
    "plt.show()\n",
    "# save figure tests:\n",
    "fig.savefig('Synthetic/test#02-High_Density_Mass_3D.pdf', dpi=300, transparent=True, bbox_inches='tight')"
   ]
  },
  {
   "cell_type": "markdown",
   "metadata": {},
   "source": [
    "### <center> Test #03 :  Point mass with super low density: <center>"
   ]
  },
  {
   "cell_type": "code",
   "execution_count": null,
   "metadata": {},
   "outputs": [],
   "source": [
    "# ---------- set the properties of the point mass ------------:\n",
    "xc = 0.0\n",
    "yc = 0.0\n",
    "zc = 3000.0\n",
    "rho = 500.0\n",
    "source = ( xc, yc, zc, rho ) \n",
    "# predicted vertical attraction gz:\n",
    "gz_pred = sphere_gz(X,Y,elev[0],source) \n",
    "print gz_pred.shape"
   ]
  },
  {
   "cell_type": "code",
   "execution_count": null,
   "metadata": {},
   "outputs": [],
   "source": [
    "# ------- compute gravity data for all clicked point masses:\n",
    "# Calculating the gravity attraction for all point masses:\n",
    "gz = 0.0\n",
    "# range of all masses:\n",
    "source = [ xc, yc, zc, rho ] \n",
    "#print source\n",
    "gz_pred = sphere_gz(X, Y, elev[0], source) # sum the effect of all masses "
   ]
  },
  {
   "cell_type": "markdown",
   "metadata": {},
   "source": [
    "## <Center> Plot 2D contour map to check for the data-misfit. <center>"
   ]
  },
  {
   "cell_type": "code",
   "execution_count": null,
   "metadata": {},
   "outputs": [],
   "source": [
    "# -------------------- Ploting all results obtained so far --------------------:\n",
    "%matplotlib inline\n",
    "plt.close('all')\n",
    "fig = plt.figure(figsize=(16,5))\n",
    "fs = 14 # fontsize used in the labels\n",
    "\n",
    "#-------------------- Plot the data produced by the dike model: --------------------\n",
    "ax1 = plt.subplot(1, 2, 1)\n",
    "plt.title('Gravity Anomaly - dike model ', fontsize = fs)\n",
    "\n",
    "# plot isolines:\n",
    "p = ax1.contour(X, Y, gzi, 10, colors='k', linewidths = 0.2, vmin=np.min(gzi), vmax=np.max(gzi) )\n",
    "\n",
    "# display the lines and the respective value of each line:\n",
    "plt.clabel(p, inline=1, fontsize=10) #(only work for contour command!!!!!!)\n",
    "\n",
    "p1 = ax1.contourf(X, Y, gzi, 10, cmap = plt.cm.coolwarm, vmin = np.min(gzi), vmax = np.max(gzi))\n",
    "cbar1 = plt.colorbar(p1, aspect=30, fraction = 0.05, orientation=\"horizontal\")\n",
    "cbar1.set_label('$g_z $ ( $ mGal$ )',fontsize=15, rotation = 0)\n",
    "\n",
    "# -------- plot the dike contour jointly with the color map ---------------------:\n",
    "rectangle(ax1,dike2D, style='--k', linewidth=4, fill= None, alpha=1., label=None)\n",
    "plt.ylabel('Horizontal coordinate Y (m)', fontsize = fs)\n",
    "plt.xlabel('Horizontal coordinate X (m)', fontsize = fs)\n",
    "\n",
    "###########################################################################################################################\n",
    "#-------------------- Plot the data produced by the deep point mass : --------------------\n",
    "ax2 = plt.subplot(1, 2, 2)\n",
    "plt.title('Gravity Anomaly - point mass model ', fontsize = fs)\n",
    "\n",
    "# plot isolines:\n",
    "p = ax2.contour(X, Y, gz_pred, 10, colors='k', linewidths = 0.2, vmin=np.min(gzi), vmax=np.max(gzi) )\n",
    "\n",
    "# display the lines and the respective value of each line:\n",
    "plt.clabel(p, inline=1, fontsize=10) #(only work for contour command!!!!!!)\n",
    "\n",
    "# for the color map as a function of the data produced by the deep point mass:\n",
    "p2 = ax2.contourf(X, Y, gz_pred, 10, cmap = plt.cm.coolwarm, vmin = np.min(gzi), vmax = np.max(gzi))\n",
    "\n",
    "#-------------------- Color bar specifications: --------------------\n",
    "cbar2 = plt.colorbar(p1, aspect=30, fraction = 0.05, orientation=\"horizontal\")\n",
    "cbar2.set_label('$g_z $ ( $ mGal$ )',fontsize=15, rotation = 0)\n",
    "\n",
    "# -------- plot the dike contour into the contor map ---------------------:\n",
    "rectangle(ax2, dike2D, style='--k', linewidth=4, fill= None, alpha=1., label=None)\n",
    "\n",
    "# -------- plot the point mass into the contor map ---------------------:\n",
    "plt.scatter(xc, yc, s=rho, c='k', marker='.')\n",
    "\n",
    "plt.ylabel('Horizontal coordinate Y (m)', fontsize = fs)\n",
    "plt.xlabel('Horizontal coordinate X (m)', fontsize = fs)\n",
    "plt.show()\n",
    "# save figure tests:\n",
    "fig.savefig('Synthetic/test#03-Low_Density_Mass_2D.pdf', dpi=300, transparent=True, bbox_inches='tight')"
   ]
  },
  {
   "cell_type": "markdown",
   "metadata": {},
   "source": [
    "#  <center> 3D Plot of model and data-misfit in slice <center>"
   ]
  },
  {
   "cell_type": "code",
   "execution_count": null,
   "metadata": {},
   "outputs": [],
   "source": [
    "# ------- compute the difference between the \"observed\" data and the predicted data -------:\n",
    "residuals = gzi - gz_pred"
   ]
  },
  {
   "cell_type": "code",
   "execution_count": null,
   "metadata": {},
   "outputs": [],
   "source": [
    "%matplotlib tk\n",
    "py.rcParams['contour.negative_linestyle'] = 'dashed'\n",
    "plt.close('all')\n",
    "fig = plt.figure(figsize=(14,10))\n",
    "ax = fig.gca(projection='3d') # 3D boxplot where the figure goes\n",
    "\n",
    "# plot the dike and store it in pbox plotting object:\n",
    "pbox = draw_prism(ax, dike3D)\n",
    "\n",
    "# --- change size projection ---\n",
    "x_scale=1.\n",
    "y_scale=1.\n",
    "z_scale=1.\n",
    "scale=np.diag([x_scale, y_scale, z_scale, 1.0])\n",
    "scale=scale*(1.0/scale.max())\n",
    "scale[3,3]=1.0\n",
    "def short_proj():\n",
    "    return np.dot(Axes3D.get_proj(ax), scale)\n",
    "pbox.get_proj=short_proj\n",
    "\n",
    "# ----- define labels and limits of the plotbox:\n",
    "pbox.set_xlabel('Horizontal coordinate x (m)', labelpad=20 ,fontsize=fs)\n",
    "pbox.set_ylabel('Horizontal coordinate y (m)', labelpad=20 ,fontsize=fs)\n",
    "pbox.set_xlim( min(x), max(x) )\n",
    "pbox.set_ylim( min(y), max(y) )\n",
    "pbox.set_zlim(-500,10000)\n",
    "pbox.set_zlabel('Depth (m)',labelpad=20 ,fontsize=fs, rotation = 90)\n",
    "pbox.view_init(15, 55)\n",
    "\n",
    "# put z downward\n",
    "pbox.invert_zaxis()\n",
    "\n",
    "# ------------------- vertical gravitational atraction produced by the dike ------------------:\n",
    "p1 = pbox.contour(X, Y, residuals, 10, zdir='z', \n",
    "                offset=np.min(elev), cmap='coolwarm', vmin = np.min(residuals), vmax = np.max(residuals) )\n",
    "cbar1 = fig.colorbar(p1, aspect = 50, fraction = 0.01, orientation=\"vertical\")\n",
    "cbar1.set_label('Residuals ( $ mGal $ )',fontsize=16, rotation = 90)\n",
    "\n",
    "###########################################################################################################################\n",
    "# ------------------- vertical gravitational atraction produced by the point mass--------:\n",
    "#p2 = pbox.contour(X, Y, gz_pred, 10, zdir='z', offset=np.min(elev) , colors='k', linewidths = 0.5, \n",
    "#                  vmin=np.min(gzi), vmax=np.max(gzi) )\n",
    "\n",
    "# add the deep point mass here:\n",
    "pbox.scatter3D(xc, yc, zc, s=rho , c='k', marker = '.')\n",
    "\n",
    "# ------------- Color bar specifications ---------------------------:\n",
    "#cbar2 = fig.colorbar(p1, aspect = 50, fraction = 0.01, orientation=\"vertical\")\n",
    "#cbar2.set_label('Gravity Anomaly ( $ mGal $ )',fontsize=fs, rotation = 90)\n",
    "#cbar2.add_lines(p2)\n",
    "\n",
    "plt.clabel(p2, inline=1, fontsize=8)\n",
    "plt.tight_layout(True)\n",
    "plt.show()\n",
    "# save figure tests:\n",
    "fig.savefig('Synthetic/test#03-Low_Density_Mass_3D.pdf', dpi=300, transparent=True, bbox_inches='tight')"
   ]
  },
  {
   "cell_type": "markdown",
   "metadata": {},
   "source": [
    "## Test #04: Using the click method for modeling with many point masses "
   ]
  },
  {
   "cell_type": "code",
   "execution_count": null,
   "metadata": {},
   "outputs": [],
   "source": [
    "#--------- define the plotting area for both (x,y) and (depth, density)---------:\n",
    "area_xy = [min(x) , max(x), min(y), max(y)]\n",
    "\n",
    "# based on the knowledge about the rock densities and common depth investigations!\n",
    "area_rhoz = [2800.0, 3000.0, np.min(elev), 7000.0]\n",
    "\n",
    "# dike info for plotting issues:\n",
    "true_source = [xmin_dike, xmax_dike, ymin_dike, ymax_dike, zmin_dike, zmax_dike, dens_dike]\n",
    "\n",
    "print 'area_xy=', area_xy\n",
    "print 'area_rhoz=', area_rhoz\n",
    "print 'true source=', true_source"
   ]
  },
  {
   "cell_type": "code",
   "execution_count": null,
   "metadata": {},
   "outputs": [],
   "source": [
    "# call function for picking x,y,z,rho values from the plot areas:\n",
    "%matplotlib tk\n",
    "xc,yc,zc,rho = model_masses(area_xy, area_rhoz, newclicks=None, dike=true_source)"
   ]
  },
  {
   "cell_type": "code",
   "execution_count": null,
   "metadata": {},
   "outputs": [],
   "source": [
    "print 'These numbers should be the same =', len(xc), len(yc), len(zc), len(rho)\n",
    "nmasses = len(xc)\n",
    "print 'number of clicks performed =', nmasses\n"
   ]
  },
  {
   "cell_type": "code",
   "execution_count": null,
   "metadata": {},
   "outputs": [],
   "source": [
    "# ------- compute gravity data for all clicked point masses:\n",
    "# Calculating the gravity attraction for all point masses:\n",
    "gz_pred = 0.0\n",
    "# range of all masses:\n",
    "for i in range( len(xc) ):\n",
    "    source=[]\n",
    "    source = [ xc[i], yc[i], zc[i], rho[i]/nmasses ]  # calling one source a time:\n",
    "    print source\n",
    "    gz_pred += sphere_gz(X, Y, data.mean()['elev(m)'], source) # sum the effect of all masses "
   ]
  },
  {
   "cell_type": "markdown",
   "metadata": {},
   "source": [
    "## <Center> Plot 2D contour map to check for the data-fit. <center>"
   ]
  },
  {
   "cell_type": "code",
   "execution_count": null,
   "metadata": {},
   "outputs": [],
   "source": [
    "# -------------------- Ploting all results obtained so far --------------------:\n",
    "%matplotlib inline\n",
    "plt.close('all')\n",
    "fig = plt.figure(figsize=(16,5))\n",
    "fs = 14 # fontsize used in the labels\n",
    "\n",
    "#-------------------- Plot the data produced by the dike model: --------------------\n",
    "ax1 = plt.subplot(1, 2, 1)\n",
    "plt.title('Gravity Anomaly - dike model ', fontsize = fs)\n",
    "\n",
    "# plot isolines:\n",
    "p = ax1.contour(X, Y, gzi, 10, colors='k', linewidths = 0.2, vmin=np.min(gzi), vmax=np.max(gzi) )\n",
    "\n",
    "# display the lines and the respective value of each line:\n",
    "plt.clabel(p, inline=1, fontsize=10) #(only work for contour command!!!!!!)\n",
    "\n",
    "p1 = ax1.contourf(X, Y, gzi, 10, cmap = plt.cm.coolwarm, vmin = np.min(gzi), vmax = np.max(gzi))\n",
    "cbar1 = plt.colorbar(p1, aspect=30, fraction = 0.05, orientation=\"horizontal\")\n",
    "cbar1.set_label('$g_z $ ( $ mGal$ )',fontsize=15, rotation = 0)\n",
    "\n",
    "# -------- plot the dike contour jointly with the color map ---------------------:\n",
    "rectangle(ax1,dike2D, style='--k', linewidth=4, fill= None, alpha=1., label=None)\n",
    "plt.ylabel('Horizontal coordinate Y (m)', fontsize = fs)\n",
    "plt.xlabel('Horizontal coordinate X (m)', fontsize = fs)\n",
    "\n",
    "###########################################################################################################################\n",
    "#-------------------- Plot the data produced by the deep point mass : --------------------\n",
    "ax2 = plt.subplot(1, 2, 2)\n",
    "plt.title('Gravity Anomaly - point mass model ', fontsize = fs)\n",
    "\n",
    "# plot isolines:\n",
    "p = ax2.contour(X, Y, gz_pred, 10, colors='k', linewidths=0.2, vmin=np.min(gzi), vmax=np.max(gzi) )\n",
    "\n",
    "# display the lines and the respective value of each line:\n",
    "plt.clabel(p, inline=1, fontsize=10) #(only work for contour command!!!!!!)\n",
    "\n",
    "# for the color map as a function of the data produced by the deep point mass:\n",
    "p2 = ax2.contourf(X, Y, gz_pred, 10, cmap = plt.cm.coolwarm, vmin = np.min(gzi), vmax = np.max(gzi))\n",
    "\n",
    "#-------------------- Color bar specifications: --------------------\n",
    "cbar2 = plt.colorbar(p1, aspect=30, fraction = 0.05, orientation=\"horizontal\")\n",
    "cbar2.set_label('$g_z $ ( $ mGal$ )',fontsize=15, rotation = 0)\n",
    "\n",
    "# -------- plot the dike contour into the contor map ---------------------:\n",
    "rectangle(ax2, dike2D, style='--k', linewidth=4, fill= None, alpha=1., label=None)\n",
    "\n",
    "# -------- plot the point mass into the contor map ---------------------:\n",
    "plt.scatter(xc, yc, s=rho, c='k', marker='.')\n",
    "\n",
    "plt.ylabel('Horizontal coordinate Y (m)', fontsize = fs)\n",
    "plt.xlabel('Horizontal coordinate X (m)', fontsize = fs)\n",
    "\n",
    "plt.show()\n",
    "# save figure tests:\n",
    "fig.savefig('Synthetic/test#04-multiple_masses_2D.pdf', dpi=300, transparent=True, bbox_inches='tight')"
   ]
  },
  {
   "cell_type": "markdown",
   "metadata": {},
   "source": [
    "#  <center> 3D Plot of model and data-misfit in slice <center>"
   ]
  },
  {
   "cell_type": "code",
   "execution_count": null,
   "metadata": {},
   "outputs": [],
   "source": [
    "# ------- compute the difference between the \"observed\" data and the predicted data -------:\n",
    "residuals = gzi - gz_pred"
   ]
  },
  {
   "cell_type": "code",
   "execution_count": null,
   "metadata": {},
   "outputs": [],
   "source": [
    "plt.close('all')\n",
    "%matplotlib tk\n",
    "py.rcParams['contour.negative_linestyle'] = 'dashed'\n",
    "\n",
    "# define figure instance:\n",
    "fig = plt.figure(figsize=(14,10))\n",
    "\n",
    "# 3D boxplot where the figure goes\n",
    "ax = fig.gca(projection='3d') \n",
    "\n",
    "# plot the dike and store it in pbox plotting object:\n",
    "pbox = draw_prism(ax, dike3D)\n",
    "\n",
    "# --- change size projection ---\n",
    "x_scale=1.\n",
    "y_scale=1.\n",
    "z_scale=1.\n",
    "scale=np.diag([x_scale, y_scale, z_scale, 1.0])\n",
    "scale=scale*(1.0/scale.max())\n",
    "scale[3,3]=1.0\n",
    "def short_proj():\n",
    "    return np.dot(Axes3D.get_proj(ax), scale)\n",
    "pbox.get_proj=short_proj\n",
    "\n",
    "# ----- define labels and limits of the plotbox:\n",
    "pbox.set_xlabel('Horizontal coordinate x (m)', labelpad=20 ,fontsize=fs)\n",
    "pbox.set_ylabel('Horizontal coordinate y (m)', labelpad=20 ,fontsize=fs)\n",
    "pbox.set_xlim( min(x), max(x) )\n",
    "pbox.set_ylim( min(y), max(y) )\n",
    "pbox.set_zlim(-500,10000)\n",
    "pbox.set_zlabel('Depth (m)',labelpad=20 ,fontsize=fs, rotation = 90)\n",
    "pbox.view_init(30, 55)\n",
    "\n",
    "# put z downward\n",
    "pbox.invert_zaxis()\n",
    "\n",
    "# ------------------- vertical gravitational atraction produced by the dike ------------------:\n",
    "p1 = pbox.contour(X, Y, residuals, 10, zdir='z', \n",
    "                offset=np.min(elev), cmap='coolwarm', vmin = np.min(residuals), vmax = np.max(residuals) )\n",
    "cbar1 = fig.colorbar(p1, aspect = 50, fraction = 0.01, orientation=\"vertical\")\n",
    "cbar1.set_label('Residuals ( $ mGal $ )',fontsize=16, rotation = 90)\n",
    "\n",
    "# add the deep point mass here:\n",
    "pbox.scatter3D(xc, yc, zc, s=rho , c='k', marker = '.')\n",
    "\n",
    "plt.tight_layout(True)\n",
    "plt.show()\n",
    "# save figure tests:\n",
    "fig.savefig('Synthetic/test#04-multiple_masses_3D.pdf', dpi=300, transparent=True, bbox_inches='tight')"
   ]
  }
 ],
 "metadata": {
  "kernelspec": {
   "display_name": "Python 2",
   "language": "python",
   "name": "python2"
  },
  "language_info": {
   "codemirror_mode": {
    "name": "ipython",
    "version": 2
   },
   "file_extension": ".py",
   "mimetype": "text/x-python",
   "name": "python",
   "nbconvert_exporter": "python",
   "pygments_lexer": "ipython2",
   "version": "2.7.15"
  }
 },
 "nbformat": 4,
 "nbformat_minor": 2
}
