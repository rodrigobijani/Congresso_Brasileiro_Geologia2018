{
 "cells": [
  {
   "cell_type": "markdown",
   "metadata": {},
   "source": [
    "# Teste do modelo interativo para agregar várias bolinhas de massas \n",
    "\n"
   ]
  },
  {
   "cell_type": "code",
   "execution_count": 1,
   "metadata": {},
   "outputs": [],
   "source": [
    "################ python internal packages ###############\n",
    "import numpy as np\n",
    "import matplotlib.pyplot as plt\n",
    "import tkinter\n",
    "from tkinter import ttk\n",
    "from Tkinter import *\n",
    "import ipywidgets as widgets\n",
    "%matplotlib tk\n",
    "#########################################################"
   ]
  },
  {
   "cell_type": "code",
   "execution_count": 2,
   "metadata": {},
   "outputs": [],
   "source": [
    "# Defining functions for clicking and saving coordinates:\n",
    "\n",
    "#def Pmass() #Creating a main function\n",
    "\n",
    "#x = []\n",
    "#z = []\n",
    "#m = []\n",
    "#plotx = []\n",
    "#plotz = []\n",
    "#plotm = []\n",
    "#pyplot.gca().invert_yaxis()\n",
    "\n",
    "def ontype(event):\n",
    "    \"\"\"Deal with keyboard events\"\"\"\n",
    "    print(\"You pressed key {:s}\".format(event.key))\n",
    "\n",
    "def onclick(event):\n",
    "    \"\"\"Deal with click events\"\"\"\n",
    "    button = ['left','middle','right']\n",
    "    toolbar = plt.get_current_fig_manager().toolbar\n",
    "    if toolbar.mode!='':\n",
    "        print(\"You clicked on something, but toolbar is in mode {:s}.\".format(toolbar.mode))\n",
    "    else:\n",
    "        print(\"You {0}-clicked coords ({1},{2}) (pix ({3},{4}))\".format(button[event.button+1],\\\n",
    "                                                                                   event.xdata,\\\n",
    "                                                                                   event.ydata,\\\n",
    "                                                                                       event.x,\\\n",
    "                                                                                       event.y))\n",
    "    plt.plot(event.xdata,event.ydata,'ro') #plotting the points of mass in red \n",
    "    plt.show() # shows the points of mass\n",
    "        \n",
    "def move(event):\n",
    "    if event.inaxes != ax:\n",
    "        return 'plot area wrongly set up. Please, check.'\n",
    "    if picking[0]:\n",
    "        draw_guide(event.xdata, event.ydata)      \n",
    "        axes.figure.canvas.draw()\n",
    "        \n",
    "def pick(event):\n",
    "    if event.inaxes != axes:\n",
    "        return 'plot area wrongly set up. Please, check.'\n",
    "    x.append(event.xdata)\n",
    "    z.append(event.ydata)\n",
    "    plotx.append(event.xdata)\n",
    "    ploty.append(event.ydata)\n",
    "    line.set_color('r')\n",
    "    line.set_marker('o')\n",
    "    line.set_data(plotx,ploty)\n",
    "    axes.figure.canvas.draw()\n",
    "\n",
    "def move(event):\n",
    "    if event.inaxes != axes:\n",
    "        return 'plot area wrongly set up. Please, check.'\n",
    "    if picking[0]:\n",
    "        draw_guide(event.xdata, event.ydata)\n",
    "        axes.figure.canvas.draw()\n",
    "        \n",
    "def erase(event):\n",
    "    if event.key == 'e' and picking[0]:\n",
    "        x.pop()\n",
    "        y.pop()\n",
    "        plotx.pop()\n",
    "        ploty.pop()\n",
    "        line.set_data(plotx, ploty)\n",
    "        draw_guide(event.xdata, event.ydata)\n",
    "        axes.figure.canvas.draw()\n",
    "                \n",
    "                \n",
    "#return x,z,m"
   ]
  },
  {
   "cell_type": "code",
   "execution_count": 3,
   "metadata": {},
   "outputs": [
    {
     "data": {
      "image/png": "[encoded data removed]",
      "text/plain": [
       "<Figure size 432x288 with 1 Axes>"
      ]
     },
     "metadata": {},
     "output_type": "display_data"
    }
   ],
   "source": [
    "#Drawing points:\n",
    "\n",
    "figure = plt.figure()\n",
    "#ax = fig.add_subplot(111)\n",
    "#ax.set_title('click to build points of mass')\n",
    "\n",
    "if __name__ == \"__main__\":\n",
    "    plt.plot([0],[0],'ko-',picker=5)\n",
    "    figure.canvas.mpl_connect('key_press_event',ontype)\n",
    "    figure.canvas.mpl_connect('button_press_event',onclick)\n",
    "    figure.canvas.draw()\n",
    "    plt.show()"
   ]
  },
  {
   "cell_type": "code",
   "execution_count": null,
   "metadata": {},
   "outputs": [],
   "source": [
    "root = Tk()\n",
    "\n",
    "\n",
    "label1 = Label(root, text=\"Add values of mass and depht.\")\n",
    "label1.pack(side=TOP)\n",
    "frame1 = Frame(root)\n",
    "frame1.pack(side=TOP)\n",
    "\n",
    "label2 = Label(frame1, text=\"depht(m)=\")\n",
    "label2.pack(side=LEFT)\n",
    "entry2 = Entry(frame1)\n",
    "entry2.insert(0, 10000)\n",
    "entry2.pack(side=LEFT)\n",
    "\n",
    "label3 = Label(frame1, text=\"density=\")\n",
    "label3.pack(side=LEFT)\n",
    "entry3 = Entry(frame1)\n",
    "entry3.insert(0, 10000)\n",
    "entry3.pack(side=LEFT)\n",
    "    \n",
    "buttons= []\n",
    "buttons = Button(root, text=\"Insert\")\n",
    "buttons.pack(side=TOP)\n",
    "\n",
    "#for data in range(100): #create button matrix\n",
    "#    buttons.append(tk.Button(root, command=lambda x=data: something(x)))\n",
    "\n",
    "x = StringVar() # Holds a string; default value \"\"\n",
    "\n",
    "print x\n",
    "\n",
    "\n",
    "root.mainloop()"
   ]
  },
  {
   "cell_type": "code",
   "execution_count": null,
   "metadata": {},
   "outputs": [],
   "source": [
    "#abre janela que seleciona arquivos no computador\n",
    "from Tkinter import *\n",
    "import Tkinter, Tkconstants, tkFileDialog\n",
    " \n",
    "root = Tk()\n",
    "root.filename = tkFileDialog.askopenfilename(initialdir = \"/\",title = \"Select file\",filetypes = ((\"jpeg files\",\"*.jpg\"),(\"all files\",\"*.*\")))\n",
    "print (root.filename)"
   ]
  }
 ],
 "metadata": {
  "kernelspec": {
   "display_name": "Python 2",
   "language": "python",
   "name": "python2"
  },
  "language_info": {
   "codemirror_mode": {
    "name": "ipython",
    "version": 2
   },
   "file_extension": ".py",
   "mimetype": "text/x-python",
   "name": "python",
   "nbconvert_exporter": "python",
   "pygments_lexer": "ipython2",
   "version": "2.7.14"
  }
 },
 "nbformat": 4,
 "nbformat_minor": 2
}
