{
 "cells": [
  {
   "cell_type": "markdown",
   "metadata": {},
   "source": [
    "# Cria um teste para o modelo interativo para agregar várias bolinhas de massas para saber se ele funciona\n",
    "\n"
   ]
  },
  {
   "cell_type": "code",
   "execution_count": 1,
   "metadata": {},
   "outputs": [],
   "source": [
    "################ python internal packages ###############\n",
    "import numpy as np\n",
    "import pylab as py\n",
    "import pandas as pd\n",
    "import scipy as sp\n",
    "import pandas as pd\n",
    "import matplotlib.pyplot as plt\n",
    "import ipywidgets as widgets\n",
    "%matplotlib tk\n",
    "#%matplotlib inline  # Inline figures\n",
    "#%matplotlib nbagg #Interactive figures inline \n",
    "#########################################################"
   ]
  },
  {
   "cell_type": "code",
   "execution_count": 26,
   "metadata": {},
   "outputs": [
    {
     "ename": "IndentationError",
     "evalue": "expected an indented block (<ipython-input-26-35969659cda3>, line 6)",
     "output_type": "error",
     "traceback": [
      "\u001b[0;36m  File \u001b[0;32m\"<ipython-input-26-35969659cda3>\"\u001b[0;36m, line \u001b[0;32m6\u001b[0m\n\u001b[0;31m    if xy2ne:\u001b[0m\n\u001b[0m     ^\u001b[0m\n\u001b[0;31mIndentationError\u001b[0m\u001b[0;31m:\u001b[0m expected an indented block\n"
     ]
    }
   ],
   "source": [
    "# Defining functions for clicking and saving coordinates:\n",
    "\n",
    "def pick_points(area, axes, marker='o', color='k', size=8, xy2ne=False):\n",
    "#def pick_points(area, axes, marker='o', color='k', size=8, xy2ne=False):\n",
    "\n",
    " if xy2ne:\n",
    "    axes.set_xlim(area[2], area[3])\n",
    "    axes.set_ylim(area[0], area[1])\n",
    "else:\n",
    "    axes.set_xlim(area[0], area[1])\n",
    "    axes.set_ylim(area[2], area[3])\n",
    "   \n",
    "line, = axes.plot([],[])\n",
    "tmpline, = axes.plot([], [])\n",
    "line.figure.canvas.draw()\n",
    "x = []\n",
    "y = []\n",
    "plotx = []\n",
    "ploty = []\n",
    "pyplot.gca().invert_yaxis()\n",
    "axes.figure.canvas.draw()\n",
    "# Hack because Python 2 doesn't like nonlocal variables that change value.\n",
    "# Lists it doesn't mind.\n",
    "picking = [True]\n",
    "def draw_guide(px, py):\n",
    "     if len(x) != 0:\n",
    "        tmpline.set_data([x[-1], px], [y[-1], py])\n",
    "\n",
    "def move(event):\n",
    "     if event.inaxes != ax:\n",
    "        return 'plot area wrongly set up. Please, check.'\n",
    "     if picking[0]:\n",
    "        draw_guide(event.xdata, event.ydata)\n",
    "        axes.figure.canvas.draw()\n",
    "\n",
    "def ontype(event):\n",
    "    \"\"\"Deal with keyboard events\"\"\"\n",
    "    print(\"You pressed key {:s}\".format(event.key))\n",
    "\n",
    "def onclick(event):\n",
    "    \"\"\"Deal with click events\"\"\"\n",
    "    button = ['left','middle','right']\n",
    "    toolbar = plt.get_current_fig_manager().toolbar\n",
    "    if toolbar.mode!='':\n",
    "        print(\"You clicked on something, but toolbar is in mode {:s}.\".format(toolbar.mode))\n",
    "    else:\n",
    "        print(\"You {0}-clicked coords ({1},{2}) (pix ({3},{4}))\".format(button[event.button+1],\\\n",
    "                                                                             event.xdata,\\\n",
    "                                                                             event.ydata,\\\n",
    "                                                                             event.x,\\\n",
    "                                                                             event.y)) \n",
    "\n",
    "\n",
    "\n",
    "def move(event):\n",
    "    if event.inaxes != ax:\n",
    "        return 'plot area wrongly set up. Please, check.'\n",
    "    if picking[0]:\n",
    "        draw_guide(event.xdata, event.ydata)      \n",
    "        axes.figure.canvas.draw()\n",
    "        \n",
    "def pick(event):\n",
    "    if event.inaxes != axes:\n",
    "        return 'plot area wrongly set up. Please, check.'\n",
    "    x.append(event.xdata)\n",
    "    y.append(event.ydata)\n",
    "    plotx.append(event.xdata)\n",
    "    ploty.append(event.ydata)\n",
    "    line.set_color('r')\n",
    "    line.set_marker('o')\n",
    "    line.set_data(plotx,ploty)\n",
    "    axes.figure.canvas.draw()\n",
    "\n",
    "def move(event):\n",
    "     if event.inaxes != axes:\n",
    "        return 'plot area wrongly set up. Please, check.'\n",
    "     if picking[0]:\n",
    "        draw_guide(event.xdata, event.ydata)\n",
    "        axes.figure.canvas.draw()\n",
    "        \n",
    "def erase(event):\n",
    "     if event.key == 'e' and picking[0]:\n",
    "        x.pop()\n",
    "        y.pop()\n",
    "        plotx.pop()\n",
    "        ploty.pop()\n",
    "        line.set_data(plotx, ploty)\n",
    "        draw_guide(event.xdata, event.ydata)\n",
    "        axes.figure.canvas.draw()\n",
    "        \n",
    "#line.figure.canvas.mpl_connect('button_press_event', pick)\n",
    "#line.figure.canvas.mpl_connect('key_press_event', erase)\n",
    "#line.figure.canvas.mpl_connect('motion_notify_event', move)\n",
    "#pyplot.show()\n",
    "\n",
    "return x,y"
   ]
  },
  {
   "cell_type": "code",
   "execution_count": 5,
   "metadata": {},
   "outputs": [
    {
     "name": "stdout",
     "output_type": "stream",
     "text": [
      "You right-clicked coords (2.0310483871,1.37380952381) (pix (335,101.0))\n",
      "You right-clicked coords (2.35483870968,2.18333333333) (pix (408,169.0))\n"
     ]
    }
   ],
   "source": [
    "#Drawing points:\n",
    "\n",
    "figure = plt.figure()\n",
    "#ax = fig.add_subplot(111)\n",
    "#ax.set_title('click to build points of mass')\n",
    "\n",
    "if __name__ == \"__main__\":\n",
    "    plt.plot([1,2,3],[4,5,1],'ko-',picker=5)\n",
    "    figure.canvas.mpl_connect('key_press_event',ontype)\n",
    "    figure.canvas.mpl_connect('button_press_event',onclick)\n",
    "    figure.canvas.draw()\n",
    "    plt.show()"
   ]
  },
  {
   "cell_type": "code",
   "execution_count": null,
   "metadata": {},
   "outputs": [],
   "source": []
  }
 ],
 "metadata": {
  "kernelspec": {
   "display_name": "Python 2",
   "language": "python",
   "name": "python2"
  },
  "language_info": {
   "codemirror_mode": {
    "name": "ipython",
    "version": 2
   },
   "file_extension": ".py",
   "mimetype": "text/x-python",
   "name": "python",
   "nbconvert_exporter": "python",
   "pygments_lexer": "ipython2",
   "version": "2.7.13"
  }
 },
 "nbformat": 4,
 "nbformat_minor": 2
}
