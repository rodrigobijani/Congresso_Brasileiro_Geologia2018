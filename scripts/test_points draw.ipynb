{
 "cells": [
  {
   "cell_type": "markdown",
   "metadata": {},
   "source": [
    "# Cria um teste para o modelo interativo para agregar várias bolinhas de massas para saber se ele funciona\n",
    "\n"
   ]
  },
  {
   "cell_type": "code",
   "execution_count": 5,
   "metadata": {},
   "outputs": [],
   "source": [
    "################ python internal packages ###############\n",
    "import numpy as np\n",
    "import matplotlib.pyplot as plt\n",
    "import tkinter\n",
    "import ipywidgets as widgets\n",
    "%matplotlib tk\n",
    "#########################################################"
   ]
  },
  {
   "cell_type": "code",
   "execution_count": 8,
   "metadata": {},
   "outputs": [
    {
     "ename": "IndentationError",
     "evalue": "unexpected indent (<ipython-input-8-f9c3faf256a6>, line 25)",
     "output_type": "error",
     "traceback": [
      "\u001b[0;36m  File \u001b[0;32m\"<ipython-input-8-f9c3faf256a6>\"\u001b[0;36m, line \u001b[0;32m25\u001b[0m\n\u001b[0;31m    plt.plot(event.xdata,event.ydata,'ro') #plotting the points of mass in red\u001b[0m\n\u001b[0m    ^\u001b[0m\n\u001b[0;31mIndentationError\u001b[0m\u001b[0;31m:\u001b[0m unexpected indent\n"
     ]
    }
   ],
   "source": [
    "# Defining functions for clicking and saving coordinates:\n",
    "\n",
    "#def Pmass() #Creating a main function\n",
    "\n",
    "#x = []\n",
    "#z = []\n",
    "#m = []\n",
    "#plotx = []\n",
    "#plotz = []\n",
    "#plotm = []\n",
    "#pyplot.gca().invert_yaxis()\n",
    "\n",
    "def ontype(event):\n",
    "    \"\"\"Deal with keyboard events\"\"\"\n",
    "    print(\"You pressed key {:s}\".format(event.key))\n",
    "\n",
    "def onclick(event):\n",
    "    \"\"\"Deal with click events\"\"\"\n",
    "    button = ['left','middle','right']\n",
    "    toolbar = plt.get_current_fig_manager().toolbar\n",
    "    if toolbar.mode!='':\n",
    "        print(\"You clicked on something, but toolbar is in mode {:s}.\".format(toolbar.mode))\n",
    "    else:\n",
    "        print(\"You {0}-clicked coords ({1},{2}) (pix ({3},{4}))\".format(button[event.button+1],\\\n",
    "                                                                                   event.xdata,\\\n",
    "                                                                                   event.ydata,\\\n",
    "                                                                                       event.x,\\\n",
    "                                                                                       event.y))\n",
    "                                                                                    plt.plot(event.xdata,event.ydata,'ro') #plotting the points of mass in red \n",
    "                    plt.show() # shows the points of mass\n",
    "        \n",
    "def move(event):\n",
    "    if event.inaxes != ax:\n",
    "        return 'plot area wrongly set up. Please, check.'\n",
    "    if picking[0]:\n",
    "        draw_guide(event.xdata, event.ydata)      \n",
    "        axes.figure.canvas.draw()\n",
    "        \n",
    "def pick(event):\n",
    "    if event.inaxes != axes:\n",
    "        return 'plot area wrongly set up. Please, check.'\n",
    "    x.append(event.xdata)\n",
    "    z.append(event.ydata)\n",
    "    plotx.append(event.xdata)\n",
    "    ploty.append(event.ydata)\n",
    "    line.set_color('r')\n",
    "    line.set_marker('o')\n",
    "    line.set_data(plotx,ploty)\n",
    "    axes.figure.canvas.draw()\n",
    "\n",
    "def move(event):\n",
    "    if event.inaxes != axes:\n",
    "        return 'plot area wrongly set up. Please, check.'\n",
    "    if picking[0]:\n",
    "        draw_guide(event.xdata, event.ydata)\n",
    "        axes.figure.canvas.draw()\n",
    "        \n",
    "def erase(event):\n",
    "    if event.key == 'e' and picking[0]:\n",
    "        x.pop()\n",
    "        y.pop()\n",
    "        plotx.pop()\n",
    "        ploty.pop()\n",
    "        line.set_data(plotx, ploty)\n",
    "        draw_guide(event.xdata, event.ydata)\n",
    "        axes.figure.canvas.draw()\n",
    "                \n",
    "                \n",
    "#return x,z,m"
   ]
  },
  {
   "cell_type": "code",
   "execution_count": 31,
   "metadata": {},
   "outputs": [
    {
     "name": "stdout",
     "output_type": "stream",
     "text": [
      "You right-clicked coords (-0.006875,-0.0156547619048) (pix (297,185.0))\n",
      "You right-clicked coords (-0.00931451612903,0.00517857142857) (pix (286,255.0))\n",
      "You right-clicked coords (0.00133064516129,0.0167857142857) (pix (334,294.0))\n",
      "You right-clicked coords (0.00798387096774,-0.0180357142857) (pix (364,177.0))\n",
      "You right-clicked coords (None,None) (pix (388,43.0))\n",
      "You right-clicked coords (0.000665322580645,-0.0358928571429) (pix (331,117.0))\n",
      "You right-clicked coords (-0.00133064516129,-0.0290476190476) (pix (322,140.0))\n",
      "You right-clicked coords (-0.00510080645161,-0.0254761904762) (pix (305,152.0))\n",
      "You right-clicked coords (-0.00510080645161,-0.0254761904762) (pix (305,152.0))\n",
      "You right-clicked coords (0.0141935483871,-0.0108928571429) (pix (392,201.0))\n",
      "You right-clicked coords (0.00776209677419,0.0194642857143) (pix (363,303.0))\n",
      "You right-clicked coords (-0.00510080645161,0.0227380952381) (pix (305,314.0))\n",
      "You right-clicked coords (-0.00288306451613,0.0138095238095) (pix (315,284.0))\n",
      "You right-clicked coords (0.0241733870968,0.0355357142857) (pix (437,357.0))\n",
      "You right-clicked coords (-0.00709677419355,0.0435714285714) (pix (296,384.0))\n"
     ]
    }
   ],
   "source": [
    "#Drawing points:\n",
    "\n",
    "figure = plt.figure()\n",
    "#ax = fig.add_subplot(111)\n",
    "#ax.set_title('click to build points of mass')\n",
    "\n",
    "if __name__ == \"__main__\":\n",
    "    plt.plot([0],[0],'ko-',picker=5)\n",
    "    figure.canvas.mpl_connect('key_press_event',ontype)\n",
    "    figure.canvas.mpl_connect('button_press_event',onclick)\n",
    "    figure.canvas.draw()\n",
    "    plt.show()"
   ]
  },
  {
   "cell_type": "code",
   "execution_count": null,
   "metadata": {},
   "outputs": [],
   "source": [
    "#create a new window\n",
    "window = tkinter.Tk()\n",
    "\n",
    "#create a label widget called 'lbl'\n",
    "lbl = tkinter.Label(window, text=\"Label\")\n",
    "#pack (add) the widget into the window\n",
    "lbl.pack()\n",
    "\n",
    "#draw the window, and start the 'application'\n",
    "window.mainloop()"
   ]
  },
  {
   "cell_type": "code",
   "execution_count": null,
   "metadata": {},
   "outputs": [],
   "source": []
  }
 ],
 "metadata": {
  "kernelspec": {
   "display_name": "Python 2",
   "language": "python",
   "name": "python2"
  },
  "language_info": {
   "codemirror_mode": {
    "name": "ipython",
    "version": 2
   },
   "file_extension": ".py",
   "mimetype": "text/x-python",
   "name": "python",
   "nbconvert_exporter": "python",
   "pygments_lexer": "ipython2",
   "version": "2.7.14"
  }
 },
 "nbformat": 4,
 "nbformat_minor": 2
}
