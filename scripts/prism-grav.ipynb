{
 "cells": [
  {
   "cell_type": "markdown",
   "metadata": {},
   "source": [
    "<img src='Image/CBG18.png' width=\"220px\" align=\"right\"> <img src='Image/uff-logo.png' width=\"200px\" align=\"left\"> <img src='Image/logon.jpg' width=\"200px\" align=\"center\"> "
   ]
  },
  {
   "cell_type": "markdown",
   "metadata": {},
   "source": [
    "# Synthetic data: a Vertical Prism ( dike model )\n",
    "### Compute the gravity attraction produced by a dike model (approximated by a vertical prism)\n",
    "**Reference: Blakely (1996) - Potencial Theory in Gravity and Magnetic Aplications**"
   ]
  },
  {
   "cell_type": "code",
   "execution_count": null,
   "metadata": {
    "collapsed": true
   },
   "outputs": [],
   "source": [
    "# Importing all usefull internal python libraries:\n",
    "import numpy as np\n",
    "import pylab as py\n",
    "import matplotlib.pyplot as plt\n",
    "import pandas as pd\n",
    "from mpl_toolkits.mplot3d import Axes3D\n",
    "from mpl_toolkits.mplot3d.art3d import Poly3DCollection, Line3DCollection\n",
    "from matplotlib.ticker import MaxNLocator\n",
    "from matplotlib.colors import BoundaryNorm\n",
    "%matplotlib tk\n",
    "#%matplotlib inline"
   ]
  },
  {
   "cell_type": "code",
   "execution_count": null,
   "metadata": {
    "collapsed": true
   },
   "outputs": [],
   "source": [
    "# importing particular functions implemented by us:\n",
    "from modules.prism import prism_gz\n",
    "from modules.plots import draw_prism, rectangle\n",
    "from modules.numerics import addnoise"
   ]
  },
  {
   "cell_type": "code",
   "execution_count": null,
   "metadata": {
    "collapsed": true
   },
   "outputs": [],
   "source": [
    "# Positions and number of points\n",
    "nx = 100\n",
    "ny = 100\n",
    "\n",
    "# define the x and y ranges:\n",
    "x = np.linspace(-5000., 5000.0, nx) # meters\n",
    "#y = np.copy(x) # for identical axis\n",
    "y = np.linspace(-3000.0, 3000.0, ny)\n",
    "z = -100.0  #np.linspace(-20., -20.0, nx)  # meters (flight hight)\n",
    "\n",
    "# Computes the mesh of all points\n",
    "X, Y  = np.meshgrid(x, y)"
   ]
  },
  {
   "cell_type": "code",
   "execution_count": null,
   "metadata": {
    "collapsed": true
   },
   "outputs": [],
   "source": [
    "# Setting the parameters for prism\n",
    "# dike = [xmin(m), xmax(m) , ymin(m), ymax(m), zmin(m), zmax(m), dens(km/m3)]\n",
    "dike = [-500., 500., -500., 500., 2000., 5000., 2900.0] "
   ]
  },
  {
   "cell_type": "code",
   "execution_count": null,
   "metadata": {
    "collapsed": true
   },
   "outputs": [],
   "source": [
    "# create data frame with pandas to save data file:\n",
    "columns=['xmin','xmax','ymin', 'ymax', 'zmin', 'zmax', 'density(kg/m3)']\n",
    "datadike = pd.DataFrame( [dike], columns=columns)\n",
    "datadike.to_csv(\"Synthetic/dike_model.txt\", sep = ' ', index = False, header = True)"
   ]
  },
  {
   "cell_type": "code",
   "execution_count": null,
   "metadata": {},
   "outputs": [],
   "source": [
    "# make the 3D plot for visualization of the model:\n",
    "fig = plt.figure(figsize=(14,10))\n",
    "ax = fig.gca(projection='3d') # 3D boxplot where the figure goes\n",
    "box = draw_prism( ax, dike )\n",
    "\n",
    "# ----- labels (these should be used outside of the function!)\n",
    "box.set_xlabel('Horizontal coordinate x (m)', labelpad=20 ,fontsize=14)\n",
    "box.set_ylabel('Horizontal coordinate y (m)', labelpad=20 ,fontsize=14)\n",
    "box.set_xlim( min(x), max(x) )\n",
    "box.set_ylim( min(y), max(y) )\n",
    "box.set_zlim(-100,10000)\n",
    "box.set_zlabel('Depth (m)', labelpad=20 ,fontsize=14, rotation = 90)\n",
    "\n",
    "#visualization angle\n",
    "box.view_init(20, 60)\n",
    "box.invert_zaxis()\n",
    "plt.title('Dike model', fontsize=17)\n",
    "plt.tight_layout(True)"
   ]
  },
  {
   "cell_type": "code",
   "execution_count": null,
   "metadata": {
    "collapsed": true
   },
   "outputs": [],
   "source": [
    "# Calculating the gravity components\n",
    "gz = prism_gz(X, Y, z, dike)"
   ]
  },
  {
   "cell_type": "code",
   "execution_count": null,
   "metadata": {},
   "outputs": [],
   "source": [
    "# Adicionar ruido aos dados, visando simular a realidade das medidas:\n",
    "gz_noise = addnoise(gz, 0.1, 0.05)"
   ]
  },
  {
   "cell_type": "code",
   "execution_count": null,
   "metadata": {
    "scrolled": true
   },
   "outputs": [],
   "source": [
    "# Ploting all results obtained so far:\n",
    "plt.close('all')\n",
    "%matplotlib inline\n",
    "plt.figure(figsize=(18,6))\n",
    "fs = 14\n",
    "#############################################################################\n",
    "#-------------------- Plot the data produced by the dike model: --------------------\n",
    "ax1 = plt.subplot(1, 2, 1)\n",
    "plt.title('$z$ component of gravity ', fontsize = fs)\n",
    "\n",
    "p = ax1.contour(X, Y, gz, 10, colors='k', linewidths = 0.2, vmin=np.min(gz_noise), vmax=np.max(gz_noise) )\n",
    "# display the lines and the respective value of each line:\n",
    "plt.clabel(p, inline=1, fontsize=10) #(only work for contour command!!!!!!)\n",
    "\n",
    "p1 = ax1.contourf(X, Y, gz, 10, cmap = plt.cm.coolwarm, vmin = np.min(gz_noise), vmax = np.max(gz_noise))\n",
    "cbar = plt.colorbar(p1, aspect=20, fraction = 0.05, orientation=\"vertical\")\n",
    "cbar.set_label('$g_z $ ( $ mGal$ )',fontsize=15, rotation = 90)\n",
    "\n",
    "# ------ plot the contour of the dike as a background image--------------------:\n",
    "rectangle(ax1, dike[0:4], style='--k', linewidth=4, fill= None, alpha=1., label=None)\n",
    "plt.ylabel('Horizontal coordinate Y (m)', fontsize = fs)\n",
    "plt.xlabel('Horizontal coordinate X (m)', fontsize = fs)\n",
    "#############################################################################\n",
    "ax2 = plt.subplot(1, 2, 2)\n",
    "plt.title('Noise-corrupted $z$ component of gravity ', fontsize = fs)\n",
    "\n",
    "p = ax2.contour(X, Y, gz_noise, 10, colors='k', linewidths = 0.2, vmin=np.min(gz_noise), vmax=np.max(gz_noise) )\n",
    "# display the lines and the respective value of each line:\n",
    "plt.clabel(p, inline=1, fontsize=10) #(only work for contour command!!!!!!)\n",
    "\n",
    "p2 = ax2.contourf(X, Y, gz_noise, 10, cmap = plt.cm.coolwarm, vmin = np.min(gz_noise), vmax = np.max(gz_noise))\n",
    "cbar = plt.colorbar(p2, aspect=20, fraction = 0.05, orientation=\"vertical\")\n",
    "cbar.set_label('$g_z $ ( $ mGal$ )',fontsize=15, rotation = 90)\n",
    "\n",
    "# ------ plot the contour of the dike as a background image--------------------:\n",
    "rectangle(ax2, dike[0:4], style='--k', linewidth=4, fill= None, alpha=1., label=None)\n",
    "#plt.ylabel('Horizontal coordinate Y (m)', fontsize = fs)\n",
    "plt.xlabel('Horizontal coordinate X (m)', fontsize = fs)\n",
    "\n",
    "plt.show()"
   ]
  },
  {
   "cell_type": "code",
   "execution_count": null,
   "metadata": {
    "collapsed": true
   },
   "outputs": [],
   "source": [
    "############ set output file to be used in another script ###########:\n",
    "Xn = np.reshape(X, (nx*ny) )\n",
    "Yn = np.reshape(Y, (nx*ny) )\n",
    "GZ = np.reshape(gz_noise, (nx*ny) )\n",
    "elev = np.linspace(z,z,nx*ny)\n",
    "\n",
    "# create data frame with pandas to save data file:\n",
    "columns=['X(m)','Y(m)','elev(m)', 'gz(mgal)']\n",
    "data = np.transpose( (Xn, Yn, elev, GZ) )\n",
    "data = pd.DataFrame(data, columns=columns)\n",
    "#print data\n",
    "data.to_csv(\"Synthetic/synthetic_data.txt\", index=False, encoding='utf8', sep = ' ')"
   ]
  },
  {
   "cell_type": "markdown",
   "metadata": {},
   "source": [
    "#  <center> 3D Plot of model and data in slice <center>"
   ]
  },
  {
   "cell_type": "code",
   "execution_count": null,
   "metadata": {},
   "outputs": [],
   "source": [
    "# ----------------Make the 3D plot for visualization of the model ------------------------:\n",
    "plt.close('all')\n",
    "py.rcParams['contour.negative_linestyle'] = 'dashed'\n",
    "%matplotlib tk\n",
    "fig = plt.figure(figsize=(14,10))\n",
    "ax = fig.gca(projection='3d') # 3D boxplot where the figure goes\n",
    "\n",
    "# plot the dike and store it in pbox plotting object:\n",
    "pbox = draw_prism(ax, dike)\n",
    "\n",
    "# ----- define labels and limits of the plotbox:\n",
    "pbox.set_xlabel('Horizontal coordinate x (m)', labelpad=20 ,fontsize=14)\n",
    "pbox.set_ylabel('Horizontal coordinate y (m)', labelpad=20 ,fontsize=14)\n",
    "box.set_xlim( min(x), max(x) )\n",
    "box.set_ylim( min(y), max(y) )\n",
    "pbox.set_zlim(-100,10000)\n",
    "pbox.set_zlabel('Depth (m)',labelpad=20 ,fontsize=14, rotation = 90)\n",
    "pbox.set_title('Dike model + gravity in slice')\n",
    "pbox.view_init(35, 40)\n",
    "\n",
    "# put z downward\n",
    "pbox.invert_zaxis()\n",
    "\n",
    "# ------------------- vertical gravitational atraction produced by the dike ------------------:\n",
    "p1 = pbox.contour(X, Y, gz_noise, 10, zdir='z', \n",
    "                offset=z, cmap='coolwarm', vmin = np.min(gz_noise), vmax = np.max(gz_noise) )\n",
    "cbar1 = fig.colorbar(p1, aspect = 50, fraction = 0.01, orientation=\"vertical\")\n",
    "cbar1.set_label('Gravity Anomaly ( $ mGal $ )',fontsize=fs, rotation = 90)\n",
    "plt.show()"
   ]
  },
  {
   "cell_type": "markdown",
   "metadata": {},
   "source": [
    "# <center> END OF THE SCRIPT THAT GENERATES SYNTHETIC GRAVITY DATA <center>"
   ]
  }
 ],
 "metadata": {
  "kernelspec": {
   "display_name": "Python 2",
   "language": "python",
   "name": "python2"
  },
  "language_info": {
   "codemirror_mode": {
    "name": "ipython",
    "version": 2
   },
   "file_extension": ".py",
   "mimetype": "text/x-python",
   "name": "python",
   "nbconvert_exporter": "python",
   "pygments_lexer": "ipython2",
   "version": "2.7.13"
  }
 },
 "nbformat": 4,
 "nbformat_minor": 2
}
