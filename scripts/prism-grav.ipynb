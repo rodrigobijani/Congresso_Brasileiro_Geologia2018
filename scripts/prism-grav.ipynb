{
 "cells": [
  {
   "cell_type": "markdown",
   "metadata": {
    "collapsed": true
   },
   "source": [
    "# Gravitational attraction produced by a Vertical Prism ( dike model )\n",
    "\n",
    "**Reference: Blakely (1996) - Potencial Theory in Gravity and Magnetic Aplications**"
   ]
  },
  {
   "cell_type": "code",
   "execution_count": null,
   "metadata": {
    "collapsed": true
   },
   "outputs": [],
   "source": [
    "# Importing all usefull libraries\n",
    "import numpy as np\n",
    "import matplotlib.pyplot as plt\n",
    "%matplotlib tk"
   ]
  },
  {
   "cell_type": "code",
   "execution_count": null,
   "metadata": {},
   "outputs": [],
   "source": [
    "# importing particular functions implemented by us:\n",
    "from modules.prism import prism_gx, prism_gy, prism_gz\n",
    "from modules.plots import prism3D, rectangle\n",
    "from modules.numerics import addnoise"
   ]
  },
  {
   "cell_type": "code",
   "execution_count": null,
   "metadata": {},
   "outputs": [],
   "source": [
    "# Positions and number of points\n",
    "n = 100\n",
    "x = np.linspace(-300, 300, n) # meters\n",
    "y = np.copy(x)\n",
    "z = -100. # meters\n",
    "# Computes the mesh of all points\n",
    "X, Y = np.meshgrid(x, y)"
   ]
  },
  {
   "cell_type": "code",
   "execution_count": null,
   "metadata": {
    "collapsed": true
   },
   "outputs": [],
   "source": [
    "# Setting the parameters for prism\n",
    "model = [-100., 20., 0., 20., 10., 50., 2800] # meters + kg/m3\n",
    "# set area for plot the rectangle over the contourmap:\n",
    "area = [ model[0], model[1], model[2], model[3] ]"
   ]
  },
  {
   "cell_type": "code",
   "execution_count": null,
   "metadata": {},
   "outputs": [],
   "source": [
    "# make the 3D plot for visualization of the model:\n",
    "prism3D(model, 45, 30, 'x(m)', 'y(m)', 'Depth(m)' ,'black', 'model')"
   ]
  },
  {
   "cell_type": "code",
   "execution_count": null,
   "metadata": {
    "collapsed": true
   },
   "outputs": [],
   "source": [
    "# Calculating the gravity components\n",
    "gx = prism_gx(X, Y, z, model)\n",
    "gy = prism_gy(X, Y, z, model)\n",
    "gz = prism_gz(X, Y, z, model)"
   ]
  },
  {
   "cell_type": "code",
   "execution_count": null,
   "metadata": {
    "collapsed": true
   },
   "outputs": [],
   "source": [
    "# Ploting all results \n",
    "plt.close('all')\n",
    "plt.figure(figsize=(20,14))\n",
    "\n",
    "plt.subplot(2, 2, 1)\n",
    "plt.title('G$x$ component (mGal)')\n",
    "plt.contourf(X, Y, gx, 20, cmap = plt.cm.jet)\n",
    "plt.colorbar()\n",
    "rectangle(area, style='-k', linewidth=2, fill=None, alpha=1., label=None)\n",
    "plt.xlabel('X coordinate (m)')\n",
    "plt.ylabel('Y coordinate (m)')\n",
    "\n",
    "plt.subplot(2, 2, 2)\n",
    "plt.title('G$y$ component (mGal)')\n",
    "plt.contourf(X, Y, gy, 20, cmap = plt.cm.jet)\n",
    "plt.colorbar()\n",
    "rectangle(area, style='-k', linewidth=2, fill=None, alpha=1., label=None)\n",
    "plt.xlabel('X coordinate (m)')\n",
    "plt.ylabel('Y coordinate (m)')\n",
    "\n",
    "plt.subplot(2, 2, 3)\n",
    "plt.title('G$z$ component (mGal)')\n",
    "plt.contourf(X, Y, gz, 20, cmap = plt.cm.jet)\n",
    "plt.colorbar()\n",
    "rectangle(area, style='-k', linewidth=2, fill= None, alpha=0.5, label='Prism')\n",
    "plt.xlabel('X coordinate (m)')\n",
    "plt.ylabel('Y coordinate (m)')\n",
    "\n",
    "#plt.savefig('figures/prism-gravity')\n",
    "\n",
    "plt.show()"
   ]
  },
  {
   "cell_type": "code",
   "execution_count": null,
   "metadata": {
    "collapsed": true
   },
   "outputs": [],
   "source": [
    "# Adicionar ruido aos dados, visando simular a realidade das medidas:\n",
    "gx_noise = addnoise(gx, 1., 0.005)\n",
    "gy_noise = addnoise(gy, 1., 0.005)\n",
    "gz_noise = addnoise(gz, 1., 0.005)"
   ]
  },
  {
   "cell_type": "code",
   "execution_count": null,
   "metadata": {
    "collapsed": true
   },
   "outputs": [],
   "source": [
    "# Ploting all results \n",
    "plt.close('all')\n",
    "plt.figure(figsize=(20,14))\n",
    "\n",
    "plt.subplot(2, 2, 1)\n",
    "plt.title('G$x$ component with noise (mGal)')\n",
    "plt.contourf(X, Y, gx_noise, 20, cmap = plt.cm.jet)\n",
    "plt.colorbar()\n",
    "rectangle(area, style='-k', linewidth=2, fill=None, alpha=1., label=None)\n",
    "plt.xlabel('X coordinate (m)')\n",
    "plt.ylabel('Y coordinate (m)')\n",
    "\n",
    "plt.subplot(2, 2, 2)\n",
    "plt.title('G$y$ component with noise (mGal)')\n",
    "plt.contourf(X, Y, gy_noise, 20, cmap = plt.cm.jet)\n",
    "plt.colorbar()\n",
    "rectangle(area, style='-k', linewidth=2, fill=None, alpha=1., label=None)\n",
    "plt.xlabel('X coordinate (m)')\n",
    "plt.ylabel('Y coordinate (m)')\n",
    "\n",
    "plt.subplot(2, 2, 3)\n",
    "plt.title('G$z$ component with noise (mGal)')\n",
    "plt.contourf(X, Y, gz_noise, 20, cmap = plt.cm.jet)\n",
    "plt.colorbar()\n",
    "rectangle(area, style='-k', linewidth=2, fill= None, alpha=0.5, label='Prism')\n",
    "plt.xlabel('X coordinate (m)')\n",
    "plt.ylabel('Y coordinate (m)')\n",
    "\n",
    "plt.show()"
   ]
  },
  {
   "cell_type": "code",
   "execution_count": null,
   "metadata": {
    "collapsed": true
   },
   "outputs": [],
   "source": []
  }
 ],
 "metadata": {
  "kernelspec": {
   "display_name": "Python 2",
   "language": "python",
   "name": "python2"
  },
  "language_info": {
   "codemirror_mode": {
    "name": "ipython",
    "version": 2
   },
   "file_extension": ".py",
   "mimetype": "text/x-python",
   "name": "python",
   "nbconvert_exporter": "python",
   "pygments_lexer": "ipython2",
   "version": "2.7.14"
  }
 },
 "nbformat": 4,
 "nbformat_minor": 2
}
