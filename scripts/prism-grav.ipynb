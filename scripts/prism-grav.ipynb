{
 "cells": [
  {
   "cell_type": "markdown",
   "metadata": {
    "collapsed": true
   },
   "source": [
    "# Gravitational potential and gravity attraction - Prism\n",
    "\n",
    "**Reference: Blakely (1996)**"
   ]
  },
  {
   "cell_type": "code",
   "execution_count": 8,
   "metadata": {
    "collapsed": true
   },
   "outputs": [],
   "source": [
    "# Importing all usefull libraries\n",
    "import numpy as np\n",
    "import matplotlib.pyplot as plt\n",
    "%matplotlib tk"
   ]
  },
  {
   "cell_type": "code",
   "execution_count": 9,
   "metadata": {
    "collapsed": true
   },
   "outputs": [],
   "source": [
    "# Positions and number of points\n",
    "n = 500\n",
    "x = np.linspace(-3000, 3000, n) # meters\n",
    "y = np.copy(x)\n",
    "z = -100. # meters\n",
    "# Computes the mesh of all points\n",
    "X, Y = np.meshgrid(x, y)"
   ]
  },
  {
   "cell_type": "code",
   "execution_count": 10,
   "metadata": {},
   "outputs": [],
   "source": [
    "# Setting the parameters for prism\n",
    "model = [-1000., 1000., -1000., 1000., 50., 100., 2800] # meters + g/cm3\n",
    "# set area for plot the rectangle over the contourmap:\n",
    "area = [ model[0], model[1], model[2], model[3] ]"
   ]
  },
  {
   "cell_type": "code",
   "execution_count": 11,
   "metadata": {},
   "outputs": [],
   "source": [
    "from modules.prism import prism_gx, prism_gy, prism_gz\n",
    "from modules.plots import prism3D, rectangle"
   ]
  },
  {
   "cell_type": "code",
   "execution_count": 12,
   "metadata": {},
   "outputs": [],
   "source": [
    "prism3D(model, 45, 30, 'x(m)', 'y(m)', 'Depth(m)' ,'black', 'model')"
   ]
  },
  {
   "cell_type": "code",
   "execution_count": 13,
   "metadata": {
    "collapsed": true
   },
   "outputs": [],
   "source": [
    "# Calculating the gravity components\n",
    "gx = prism_gx(X, Y, z, model)\n",
    "gy = prism_gy(X, Y, z, model)\n",
    "gz = prism_gz(X, Y, z, model)"
   ]
  },
  {
   "cell_type": "code",
   "execution_count": 14,
   "metadata": {},
   "outputs": [],
   "source": [
    "# Ploting all results \n",
    "plt.close('all')\n",
    "plt.figure(figsize=(20,14))\n",
    "\n",
    "plt.subplot(2, 2, 1)\n",
    "plt.title('Gravity $X$ component (mGal)')\n",
    "plt.contourf(X, Y, gx, 20, cmap = plt.cm.jet)\n",
    "plt.colorbar()\n",
    "rectangle(area, style='-k', linewidth=2, fill=None, alpha=1., label=None)\n",
    "plt.xlabel('X coordinate (m)')\n",
    "plt.ylabel('Y coordinate (m)')\n",
    "\n",
    "\n",
    "plt.subplot(2, 2, 2)\n",
    "plt.title('Gravity $Y$ component (mGal)')\n",
    "plt.contourf(X, Y, gy, 20, cmap = plt.cm.jet)\n",
    "plt.colorbar()\n",
    "rectangle(area, style='-k', linewidth=2, fill=None, alpha=1., label=None)\n",
    "plt.xlabel('X coordinate (m)')\n",
    "plt.ylabel('Y coordinate (m)')\n",
    "\n",
    "plt.subplot(2, 2, 3)\n",
    "plt.title('Gravity $Z$ component (mGal)')\n",
    "plt.contourf(X, Y, gz, 20, cmap = plt.cm.jet)\n",
    "plt.colorbar()\n",
    "rectangle(area, style='-k', linewidth=2, fill= None, alpha=0.5, label='Prism')\n",
    "plt.xlabel('X coordinate (m)')\n",
    "plt.ylabel('Y coordinate (m)')\n",
    "\n",
    "#plt.savefig('figures/prism-gravity')\n",
    "\n",
    "plt.show()"
   ]
  },
  {
   "cell_type": "code",
   "execution_count": null,
   "metadata": {
    "collapsed": true
   },
   "outputs": [],
   "source": []
  }
 ],
 "metadata": {
  "kernelspec": {
   "display_name": "Python 2",
   "language": "python",
   "name": "python2"
  },
  "language_info": {
   "codemirror_mode": {
    "name": "ipython",
    "version": 2
   },
   "file_extension": ".py",
   "mimetype": "text/x-python",
   "name": "python",
   "nbconvert_exporter": "python",
   "pygments_lexer": "ipython2",
   "version": "2.7.14"
  }
 },
 "nbformat": 4,
 "nbformat_minor": 2
}
