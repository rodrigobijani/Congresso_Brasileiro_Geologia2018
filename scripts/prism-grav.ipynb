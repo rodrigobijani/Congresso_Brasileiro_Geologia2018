{
 "cells": [
  {
   "cell_type": "markdown",
   "metadata": {},
   "source": [
    "<img src='Image/CBG18.png' width=\"220px\" align=\"right\"> <img src='Image/uff-logo.png' width=\"200px\" align=\"left\"> <img src='Image/logon.jpg' width=\"200px\" align=\"center\"> "
   ]
  },
  {
   "cell_type": "markdown",
   "metadata": {
    "collapsed": true
   },
   "source": [
    "# Synthetic data: a Vertical Prism ( dike model )\n",
    "### Compute the gravity attraction produced by a dike model (approximated by a vertical prism)\n",
    "**Reference: Blakely (1996) - Potencial Theory in Gravity and Magnetic Aplications**"
   ]
  },
  {
   "cell_type": "code",
   "execution_count": null,
   "metadata": {},
   "outputs": [],
   "source": [
    "# Importing all usefull internal python libraries:\n",
    "import numpy as np\n",
    "import pylab as py\n",
    "import matplotlib.pyplot as plt\n",
    "import pandas as pd\n",
    "from mpl_toolkits.mplot3d import Axes3D\n",
    "from matplotlib.ticker import MaxNLocator\n",
    "from matplotlib.colors import BoundaryNorm\n",
    "from mpl_toolkits.mplot3d.art3d import Poly3DCollection, Line3DCollection\n",
    "#%matplotlib tk\n",
    "%matplotlib inline"
   ]
  },
  {
   "cell_type": "code",
   "execution_count": null,
   "metadata": {},
   "outputs": [],
   "source": [
    "# importing particular functions implemented by us:\n",
    "from modules.prism import prism_gz\n",
    "from modules.plots import prism3D, rectangle\n",
    "from modules.numerics import addnoise"
   ]
  },
  {
   "cell_type": "code",
   "execution_count": null,
   "metadata": {},
   "outputs": [],
   "source": [
    "# Positions and number of points\n",
    "nx = 100\n",
    "ny = 100\n",
    "# to be used in the plot:\n",
    "shape = (nx,ny)\n",
    "\n",
    "# define the x and y ranges:\n",
    "x = np.linspace(-5000., 5000.0, nx) # meters\n",
    "y = np.copy(x) # for identical axis\n",
    "#y = np.linspace(-3000.0, 3000.0, ny)\n",
    "z = -500.0  #np.linspace(-20., -20.0, nx)  # meters (flight hight)\n",
    "\n",
    "# Computes the mesh of all points\n",
    "X, Y  = np.meshgrid(x, y)"
   ]
  },
  {
   "cell_type": "code",
   "execution_count": null,
   "metadata": {},
   "outputs": [],
   "source": [
    "# Setting the parameters for prism\n",
    "# dike = [xmin, xmax, ymin, ymax, zmin, zmax, dens]\n",
    "dike = [-1000., 1000., -500., 500., 500., 3000., 2900.0] # meters + kg/m3\n",
    "\n",
    "# ---- define the plot area ---- :\n",
    "area = dike[0:4]\n",
    "print area\n",
    "# --- set view area for plotting the rectangle over the contourmap:\n",
    "view3D = [ np.min(x), np.max(x), np.min(y), np.max(y), z, 7000.0 ]"
   ]
  },
  {
   "cell_type": "code",
   "execution_count": null,
   "metadata": {},
   "outputs": [],
   "source": [
    "# create data frame with pandas to save data file:\n",
    "columns=['xmin','xmax','ymin', 'ymax', 'zmin', 'zmax', 'density(kg/m3)']\n",
    "datadike = pd.DataFrame( [dike], columns=columns)\n",
    "datadike.to_csv(\"Synthetic/dike_model.txt\", sep = ' ', index = False, header = True)"
   ]
  },
  {
   "cell_type": "code",
   "execution_count": null,
   "metadata": {},
   "outputs": [],
   "source": [
    "# make the 3D plot for visualization of the model:\n",
    "py.rcParams['figure.figsize'] = (12.0, 10.0) #set up the plotting area\n",
    "fig = plt.figure()\n",
    "m = prism3D(fig, dike, 'black', 12, 30, view3D,'x(m)', 'y(m)', 'Depth(m)', 'Dike model' )"
   ]
  },
  {
   "cell_type": "code",
   "execution_count": null,
   "metadata": {},
   "outputs": [],
   "source": [
    "# Calculating the gravity components\n",
    "gz = prism_gz(X, Y, z, dike)"
   ]
  },
  {
   "cell_type": "code",
   "execution_count": null,
   "metadata": {},
   "outputs": [],
   "source": [
    "# Adicionar ruido aos dados, visando simular a realidade das medidas:\n",
    "gz_noise = addnoise(gz, 0.5, 0.1)"
   ]
  },
  {
   "cell_type": "code",
   "execution_count": null,
   "metadata": {
    "scrolled": true
   },
   "outputs": [],
   "source": [
    "# Ploting all results obtained so far:\n",
    "plt.close('all')\n",
    "plt.figure(figsize=(18,6))\n",
    "fs = 14\n",
    "#############################################################################\n",
    "plt.subplot(1, 2, 1)\n",
    "plt.title('$z$ component of gravity ', fontsize = fs)\n",
    "p1 = plt.contourf(X, Y, gz, 20, cmap = plt.cm.coolwarm, vmin = np.min(gz), vmax = np.max(gz))\n",
    "cbar = plt.colorbar(p1, aspect=20, fraction = 0.05, orientation=\"vertical\")\n",
    "cbar.set_label('$g_z $ ( $ mGal$ )',fontsize=15, rotation = 90)\n",
    "#plt.colorbar()\n",
    "rectangle(area, style='--k', linewidth=2, fill= None, alpha=1., label=None)\n",
    "plt.ylabel('Horizontal coordinate Y (m)', fontsize = fs)\n",
    "plt.xlabel('Horizontal coordinate X (m)', fontsize = fs)\n",
    "#############################################################################\n",
    "plt.subplot(1, 2, 2)\n",
    "plt.title('Noise-corrupted $z$ component of gravity ', fontsize = fs)\n",
    "p2 = plt.contourf(X, Y, gz_noise, 20,cmap = plt.cm.coolwarm, vmin = np.min(gz), vmax = np.max(gz))\n",
    "cbar = plt.colorbar(p2, aspect=20, fraction = 0.05, orientation=\"vertical\")\n",
    "cbar.set_label('$g_z $ ( $ mGal$ )',fontsize=15, rotation = 90)\n",
    "#plt.colorbar()\n",
    "rectangle(area, style='--k', linewidth=2, fill= None, alpha=1., label=None)\n",
    "#plt.ylabel('Horizontal coordinate Y (m)', fontsize = fs)\n",
    "plt.xlabel('Horizontal coordinate X (m)', fontsize = fs)\n",
    "\n",
    "#plt.savefig('figures/prism-gravity')\n",
    "\n",
    "plt.show()"
   ]
  },
  {
   "cell_type": "code",
   "execution_count": null,
   "metadata": {},
   "outputs": [],
   "source": [
    "## escrevendo o arquivo com os dados:#\n",
    "Xn = np.reshape(X, (nx*ny) )\n",
    "Yn = np.reshape(Y, (nx*ny) )\n",
    "GZ = np.reshape(gz_noise, (nx*ny) )\n",
    "elev = np.linspace(z,z,nx*ny)\n",
    "\n",
    "# create data frame with pandas to save data file:\n",
    "columns=['X(m)','Y(m)','elev(m)', 'gz(mgal)']\n",
    "data = np.transpose( (Xn, Yn, elev, GZ) )\n",
    "data = pd.DataFrame(data, columns=columns)\n",
    "#print data\n",
    "data.to_csv(\"Synthetic/synthetic_data.txt\", index=False, encoding='utf8', sep = ' ')"
   ]
  },
  {
   "cell_type": "code",
   "execution_count": null,
   "metadata": {},
   "outputs": [],
   "source": [
    "# ---------- Plot of model and data in slice ---------------------------------:\n",
    "py.rcParams['contour.negative_linestyle'] = 'solid'\n",
    "plt.close('all')\n",
    "fig = plt.figure(figsize=(14,10))\n",
    "ax = fig.gca(projection='3d')\n",
    "\n",
    "# ------------------- vertical gravitational atraction plot ------------------:\n",
    "p = ax.contour(X, Y, gz_noise, 30, zdir='z', offset=2*z, cmap='coolwarm', vmin = np.min(gz), vmax = np.max(gz) )\n",
    "cbar = fig.colorbar(p, aspect = 50, fraction = 0.01, orientation=\"vertical\")\n",
    "cbar.set_label('Gravity Anomaly ( $ mGal $ )',fontsize=fs, rotation = 90)\n",
    "    \n",
    "# vertices of a prism\n",
    "x1, x2 = dike[0:2]\n",
    "y1, y2 = dike[2:4]\n",
    "z1, z2 = dike[4:6]\n",
    "v = np.array([[x1, y1, z1], [x1, y2, z1], [x2, y2, z1],  [x2, y1, z1], \n",
    "              [x1, y1, z2], [x1, y2, z2], [x2, y2, z2],  [x2, y1, z2]])\n",
    "ax.scatter3D(v[:, 0], v[:, 1], v[:, 2])\n",
    "\n",
    "# generate list of sides of our prism\n",
    "verts = [[v[0],v[1],v[2],v[3]], [v[0],v[1],v[5],v[4]], [v[1],v[2],v[6],v[5]],\n",
    "         [v[2],v[3],v[7],v[6]], [v[3],v[0],v[4],v[7]], [v[4],v[5],v[6],v[7]]]\n",
    "\n",
    "# plot sides\n",
    "ax.add_collection3d(Poly3DCollection(verts,facecolors='red', linewidths=1, edgecolors='k', alpha=0.9))\n",
    "\n",
    "#change size projection\n",
    "x_scale=1.\n",
    "y_scale=1.\n",
    "z_scale=1.\n",
    "scale=np.diag([x_scale, y_scale, z_scale, 1.0])\n",
    "scale=scale*(1.0/scale.max())\n",
    "scale[3,3]=1.0\n",
    "def short_proj():\n",
    "    return np.dot(Axes3D.get_proj(ax), scale)\n",
    "ax.get_proj=short_proj\n",
    "\n",
    "#labels\n",
    "ax.set_xlabel('Horizontal coordinate x (m)', labelpad=20 ,fontsize=fs)\n",
    "ax.set_ylabel('Horizontal coordinate y (m)', labelpad=20 ,fontsize=fs)\n",
    "ax.set_zlim(-1000,7000)\n",
    "ax.set_zlabel('Depth (m)',labelpad=20 ,fontsize=fs, rotation = 90)\n",
    "\n",
    "#visualization angle\n",
    "ax.view_init(30, 45)\n",
    "ax.invert_zaxis()\n",
    "plt.tight_layout(True)\n",
    "plt.show()\n"
   ]
  },
  {
   "cell_type": "code",
   "execution_count": null,
   "metadata": {},
   "outputs": [],
   "source": []
  }
 ],
 "metadata": {
  "kernelspec": {
   "display_name": "Python 2",
   "language": "python",
   "name": "python2"
  },
  "language_info": {
   "codemirror_mode": {
    "name": "ipython",
    "version": 2
   },
   "file_extension": ".py",
   "mimetype": "text/x-python",
   "name": "python",
   "nbconvert_exporter": "python",
   "pygments_lexer": "ipython2",
   "version": "2.7.15"
  }
 },
 "nbformat": 4,
 "nbformat_minor": 2
}
