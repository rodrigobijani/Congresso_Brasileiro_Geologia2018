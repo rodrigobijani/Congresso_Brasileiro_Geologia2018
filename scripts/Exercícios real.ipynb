{
 "cells": [
  {
   "cell_type": "markdown",
   "metadata": {},
   "source": [
    "  <img src='Image/CBG18.png' width=\"230px\" align=\"right\"> <img src='Image/logoON.jpg' width=\"250px\" align=\"left\"> "
   ]
  },
  {
   "cell_type": "markdown",
   "metadata": {},
   "source": [
    "<center size=2> Dado Real <center> \n",
    "    "
   ]
  },
  {
   "cell_type": "markdown",
   "metadata": {},
   "source": [
    "--------------------------------------------------------------------------------------------------------------------"
   ]
  },
  {
   "cell_type": "code",
   "execution_count": 36,
   "metadata": {},
   "outputs": [],
   "source": [
    "################PACOTES###############\n",
    "import re \n",
    "import numpy as np\n",
    "import pylab as py\n",
    "import scipy as sp\n",
    "from scipy import stats\n",
    "import pandas as pd\n",
    "import matplotlib.pyplot as plt\n",
    "from IPython.display import Latex\n",
    "from pandas import Series, DataFrame\n",
    "#####################################"
   ]
  },
  {
   "cell_type": "markdown",
   "metadata": {},
   "source": [
    "# Geologia Regional e Contexto Geotectônico da Área de Estudo"
   ]
  },
  {
   "cell_type": "markdown",
   "metadata": {},
   "source": [
    "A Bacia do Paraná desenvolveu-se sobre uma área de escudo do continente Gondwana Sul e é composta por uma série de núcleos cratônicos, rodeados por vários cinturões móveis e cobertos por bacias molássicas, que foram desenvolvidas durante o ciclo termo-tectônico Brasiliano que se estendeu desde o neoproterozóico até o Ordoviciano. A deformação decorrente deste ciclo teve início entre $700$ Ma e $650$ Ma, sendo que a maior parte das intrusões de granitos que podemos observar na Bacia, situou-se dentro do limite entre o Proterozóico e o Paleozóico (cerca de $570$ Ma) com resfriamento durante o Cambro-Ordoviciano entre $500-450$ Ma \\cite{zalan_p._v._tectonica_1987, hawkesworth_tectonic_2000}.\n",
    "\n",
    "O embasamento que circunda a Bacia do Paraná é dividido em: margem Leste/Sudeste, representado pelas faixas Dom Feliciano e Ribeira ,de idade Brasiliana e de direção NE-SW, separados por um núcleo cratônico designado Rio de La Plata/ Luiz Alves; margem Norte/Nordeste, representada pela faixa Uruaçu, de idade mesoproterozóica, de direção NW e por dois maciços arqueanos (Guaxupé e Goiás) remobilizados durante o ciclo Brasiliano; margem Oeste/Noroeste representada pela faixa de dobramentos Paraguai/Araguaia, também do ciclo Brasiliano, que delimita o extremo da borda Noroeste da Bacia \\citep{borghi_2002, hawkesworth_tectonic_2000}.\n",
    "\n",
    "Dentre os principais grupos de estruturas, nota-se três grupos de lineamentos de direções preferenciais NW-SE, E-W e NE-SW, representando cada um evento termo-tectônico distinto. O conjunto de lineamentos NW-SE são os mais antigos e estão relacionados ao evento  termo-tectônico do Transamazônico, e, as zonas de falhas geológicas associadas a este evento foram reativadas durante o rifteamento do Atlântico Sul, no Cretáceo.  Os lineamentos E-W, tiveram início a partir do Triássico e são paralelos às zonas de fratura oceânica, sugerindo uma ligação com o desenvolvimento do Atlântico Sul. Os lineamentos NE-SW são derivados do evento tremo-tectônico Brasiliano e de seus cinturões móveis associados. Este último conjunto de lineamentos é isento de diques de basalto \\citep{milani_outline_1999}. \n",
    "\n",
    "O registro estratigráfico da Bacia do Paraná é formado por pacote sedimentar e magmático de espessura máxima em torno de $7000$ m, que coincide geograficamente com o depocentro estrutural da sinéclise e com a calha do rio paraná \\citep{milani_orogenias_1998}. O registro estratigráfico da Bacia do Paraná é dividido em seis unidades de ampla escala ou supersequências \\citep{Vail_1977} na forma de pacotes rochosos com intervalos temporais de algumas dezenas de milhões de anos de duração e envelopados por superfícies de discordância de caráter inter-regional: Rio Ivaí (Ordoviciano-Siluriano), Paraná (Devoniano), Gondwana I (Carbonífero-Eotriássico), Gondwana II (Meso a Neotriássico), Gondwana III (Neojurássico-Eocretáceo) e Bauru (Neocretáceo). As três primeiras supersequências são representadas por sucessões sedimentares que definem ciclos transgressivos e regressivos ligados às oscilações do nível relativo do mar, durante o Paleozóico, ao passo que as demais correspondem a pacotes de sedimentos continentais com rochas ígneas associadas. As unidades formais da litoestratigrafia, quais sejam os grupos, formações e membros comumente utilizados na descrição do arranjo espacial dos estratos da bacia, inserem-se como elementos particularizados neste arcabouço aloestratigráfico de escala regional \\citep{boletim_2007}.\n",
    "\n",
    "O mapa geológico-estrutural abaixo apresenta as formações aflorantes bem como as principais lineamentos e o Arco de Ponta Grossa e a localização da área de estudo."
   ]
  },
  {
   "cell_type": "markdown",
   "metadata": {},
   "source": [
    "  <img src='Image/Figure1revision.png' width=\"750px\" align=\"center\">"
   ]
  },
  {
   "cell_type": "code",
   "execution_count": 37,
   "metadata": {},
   "outputs": [
    {
     "name": "stdout",
     "output_type": "stream",
     "text": [
      "               Lat  Long  mGal\n",
      "0       -23.737157   NaN   NaN\n",
      "1       -23.737165   NaN   NaN\n",
      "2       -23.737172   NaN   NaN\n",
      "3       -23.737179   NaN   NaN\n",
      "4       -23.737186   NaN   NaN\n",
      "5       -23.737194   NaN   NaN\n",
      "6       -23.737201   NaN   NaN\n",
      "7       -23.737208   NaN   NaN\n",
      "8       -23.737215   NaN   NaN\n",
      "9       -23.737222   NaN   NaN\n",
      "10      -23.737230   NaN   NaN\n",
      "11      -23.737237   NaN   NaN\n",
      "12      -23.737244   NaN   NaN\n",
      "13      -23.737251   NaN   NaN\n",
      "14      -23.737259   NaN   NaN\n",
      "15      -23.737266   NaN   NaN\n",
      "16      -23.737273   NaN   NaN\n",
      "17      -23.737280   NaN   NaN\n",
      "18      -23.737287   NaN   NaN\n",
      "19      -23.737295   NaN   NaN\n",
      "20      -23.737302   NaN   NaN\n",
      "21      -23.737309   NaN   NaN\n",
      "22      -23.737316   NaN   NaN\n",
      "23      -23.737324   NaN   NaN\n",
      "24      -23.737331   NaN   NaN\n",
      "25      -23.737338   NaN   NaN\n",
      "26      -23.737345   NaN   NaN\n",
      "27      -23.737352   NaN   NaN\n",
      "28      -23.737360   NaN   NaN\n",
      "29      -23.737367   NaN   NaN\n",
      "...            ...   ...   ...\n",
      "1048545 -21.113313   NaN   NaN\n",
      "1048546 -21.113163   NaN   NaN\n",
      "1048547 -21.113013   NaN   NaN\n",
      "1048548 -21.112863   NaN   NaN\n",
      "1048549 -21.112713   NaN   NaN\n",
      "1048550 -21.112562   NaN   NaN\n",
      "1048551 -21.112412   NaN   NaN\n",
      "1048552 -21.112262   NaN   NaN\n",
      "1048553 -21.112112   NaN   NaN\n",
      "1048554 -21.111962   NaN   NaN\n",
      "1048555 -21.111812   NaN   NaN\n",
      "1048556 -21.111662   NaN   NaN\n",
      "1048557 -21.111512   NaN   NaN\n",
      "1048558 -21.111362   NaN   NaN\n",
      "1048559 -21.111212   NaN   NaN\n",
      "1048560 -21.111062   NaN   NaN\n",
      "1048561 -21.110912   NaN   NaN\n",
      "1048562 -21.110761   NaN   NaN\n",
      "1048563 -21.110611   NaN   NaN\n",
      "1048564 -21.110461   NaN   NaN\n",
      "1048565 -21.110311   NaN   NaN\n",
      "1048566 -21.110161   NaN   NaN\n",
      "1048567 -21.110012   NaN   NaN\n",
      "1048568 -21.109862   NaN   NaN\n",
      "1048569 -21.109712   NaN   NaN\n",
      "1048570 -21.109562   NaN   NaN\n",
      "1048571 -21.109412   NaN   NaN\n",
      "1048572 -21.109262   NaN   NaN\n",
      "1048573 -21.109112   NaN   NaN\n",
      "1048574 -21.108962   NaN   NaN\n",
      "\n",
      "[1048575 rows x 3 columns]\n"
     ]
    }
   ],
   "source": [
    "data = pd.read_csv('Real/Grav.csv', encoding='UTF-8')\n",
    "data = pd.DataFrame(data, columns=['Lat','Long','mGal'])\n",
    "print(data)"
   ]
  },
  {
   "cell_type": "code",
   "execution_count": 38,
   "metadata": {},
   "outputs": [
    {
     "data": {
      "text/plain": [
       "Lat    -2.377206e+07\n",
       "Long    0.000000e+00\n",
       "mGal    0.000000e+00\n",
       "dtype: float64"
      ]
     },
     "execution_count": 38,
     "metadata": {},
     "output_type": "execute_result"
    }
   ],
   "source": [
    "data.sum()"
   ]
  },
  {
   "cell_type": "code",
   "execution_count": 39,
   "metadata": {},
   "outputs": [
    {
     "data": {
      "text/plain": [
       "Lat    -24.25981\n",
       "Long         NaN\n",
       "mGal         NaN\n",
       "dtype: float64"
      ]
     },
     "execution_count": 39,
     "metadata": {},
     "output_type": "execute_result"
    }
   ],
   "source": [
    "data.min()"
   ]
  },
  {
   "cell_type": "code",
   "execution_count": 40,
   "metadata": {},
   "outputs": [
    {
     "data": {
      "text/plain": [
       "Lat    -21.025533\n",
       "Long          NaN\n",
       "mGal          NaN\n",
       "dtype: float64"
      ]
     },
     "execution_count": 40,
     "metadata": {},
     "output_type": "execute_result"
    }
   ],
   "source": [
    "data.max()"
   ]
  },
  {
   "cell_type": "code",
   "execution_count": null,
   "metadata": {},
   "outputs": [],
   "source": []
  }
 ],
 "metadata": {
  "kernelspec": {
   "display_name": "Python 2",
   "language": "python",
   "name": "python2"
  },
  "language_info": {
   "codemirror_mode": {
    "name": "ipython",
    "version": 2
   },
   "file_extension": ".py",
   "mimetype": "text/x-python",
   "name": "python",
   "nbconvert_exporter": "python",
   "pygments_lexer": "ipython2",
   "version": "2.7.14"
  }
 },
 "nbformat": 4,
 "nbformat_minor": 2
}
