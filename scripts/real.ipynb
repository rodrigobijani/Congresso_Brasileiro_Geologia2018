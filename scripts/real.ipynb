{
 "cells": [
  {
   "cell_type": "markdown",
   "metadata": {},
   "source": [
    "  <img src='Image/CBG18.png' width=\"230px\" align=\"right\"> <img src='Image/logoON.jpg' width=\"250px\" align=\"left\"> "
   ]
  },
  {
   "cell_type": "markdown",
   "metadata": {},
   "source": [
    "### <center size=2> Dado Real - Bacia do Paraná<center> \n",
    "    "
   ]
  },
  {
   "cell_type": "markdown",
   "metadata": {},
   "source": [
    "--------------------------------------------------------------------------------------------------------------------"
   ]
  },
  {
   "cell_type": "code",
   "execution_count": null,
   "metadata": {
    "scrolled": true
   },
   "outputs": [],
   "source": [
    "################PACOTES###############\n",
    "import numpy as np\n",
    "import numpy.ma as ma\n",
    "import ipywidgets as widgets\n",
    "import scipy as sp\n",
    "import pandas as pd\n",
    "import matplotlib.pyplot as plt\n",
    "from mpl_toolkits.mplot3d import Axes3D\n",
    "from IPython.display import Latex\n",
    "from scipy import stats\n",
    "from scipy.interpolate import griddata\n",
    "from pandas import Series, DataFrame\n",
    "from mpl_toolkits.mplot3d import axes3d\n",
    "import pylab as py\n",
    "#####################################"
   ]
  },
  {
   "cell_type": "markdown",
   "metadata": {},
   "source": [
    "# Geologia Regional e Contexto Geotectônico da Área de Estudo"
   ]
  },
  {
   "cell_type": "markdown",
   "metadata": {},
   "source": [
    "A Bacia do Paraná desenvolveu-se sobre uma área de escudo do continente Gondwana Sul e é composta por uma série de núcleos cratônicos, rodeados por vários cinturões móveis e cobertos por bacias molássicas, que foram desenvolvidas durante o ciclo termo-tectônico Brasiliano que se estendeu desde o neoproterozóico até o Ordoviciano. A deformação decorrente deste ciclo teve início entre $700$ Ma e $650$ Ma, sendo que a maior parte das intrusões de granitos que podemos observar na Bacia, situou-se dentro do limite entre o Proterozóico e o Paleozóico (cerca de $570$ Ma) com resfriamento durante o Cambro-Ordoviciano entre $500-450$ Ma \\cite{zalan_p._v._tectonica_1987, hawkesworth_tectonic_2000}.\n",
    "\n",
    "O embasamento que circunda a Bacia do Paraná é dividido em: margem Leste/Sudeste, representado pelas faixas Dom Feliciano e Ribeira ,de idade Brasiliana e de direção NE-SW, separados por um núcleo cratônico designado Rio de La Plata/ Luiz Alves; margem Norte/Nordeste, representada pela faixa Uruaçu, de idade mesoproterozóica, de direção NW e por dois maciços arqueanos (Guaxupé e Goiás) remobilizados durante o ciclo Brasiliano; margem Oeste/Noroeste representada pela faixa de dobramentos Paraguai/Araguaia, também do ciclo Brasiliano, que delimita o extremo da borda Noroeste da Bacia \\citep{borghi_2002, hawkesworth_tectonic_2000}.\n",
    "\n",
    "Dentre os principais grupos de estruturas, nota-se três grupos de lineamentos de direções preferenciais NW-SE, E-W e NE-SW, representando cada um evento termo-tectônico distinto. O conjunto de lineamentos NW-SE são os mais antigos e estão relacionados ao evento  termo-tectônico do Transamazônico, e, as zonas de falhas geológicas associadas a este evento foram reativadas durante o rifteamento do Atlântico Sul, no Cretáceo.  Os lineamentos E-W, tiveram início a partir do Triássico e são paralelos às zonas de fratura oceânica, sugerindo uma ligação com o desenvolvimento do Atlântico Sul. Os lineamentos NE-SW são derivados do evento tremo-tectônico Brasiliano e de seus cinturões móveis associados. Este último conjunto de lineamentos é isento de diques de basalto \\citep{milani_outline_1999}. \n",
    "\n",
    "O registro estratigráfico da Bacia do Paraná é formado por pacote sedimentar e magmático de espessura máxima em torno de $7000$ m, que coincide geograficamente com o depocentro estrutural da sinéclise e com a calha do rio paraná \\citep{milani_orogenias_1998}. O registro estratigráfico da Bacia do Paraná é dividido em seis unidades de ampla escala ou supersequências \\citep{Vail_1977} na forma de pacotes rochosos com intervalos temporais de algumas dezenas de milhões de anos de duração e envelopados por superfícies de discordância de caráter inter-regional: Rio Ivaí (Ordoviciano-Siluriano), Paraná (Devoniano), Gondwana I (Carbonífero-Eotriássico), Gondwana II (Meso a Neotriássico), Gondwana III (Neojurássico-Eocretáceo) e Bauru (Neocretáceo). As três primeiras supersequências são representadas por sucessões sedimentares que definem ciclos transgressivos e regressivos ligados às oscilações do nível relativo do mar, durante o Paleozóico, ao passo que as demais correspondem a pacotes de sedimentos continentais com rochas ígneas associadas. As unidades formais da litoestratigrafia, quais sejam os grupos, formações e membros comumente utilizados na descrição do arranjo espacial dos estratos da bacia, inserem-se como elementos particularizados neste arcabouço aloestratigráfico de escala regional \\citep{boletim_2007}.\n",
    "\n",
    "O mapa geológico-estrutural abaixo apresenta as formações aflorantes bem como as principais lineamentos e o Arco de Ponta Grossa e a localização da área de estudo."
   ]
  },
  {
   "cell_type": "markdown",
   "metadata": {},
   "source": [
    "  <img src='Image/Figure1revision.png' width=\"750px\" align=\"center\">"
   ]
  },
  {
   "cell_type": "code",
   "execution_count": null,
   "metadata": {},
   "outputs": [],
   "source": [
    "data = pd.read_csv('Real/Grav.csv', sep=',')\n",
    "print(data)"
   ]
  },
  {
   "cell_type": "code",
   "execution_count": null,
   "metadata": {},
   "outputs": [],
   "source": [
    "# Some useful tools of pandas:\n",
    "# sum all data per column:\n",
    "data.sum()"
   ]
  },
  {
   "cell_type": "code",
   "execution_count": null,
   "metadata": {},
   "outputs": [],
   "source": [
    "# get the min value per column:\n",
    "data.min()"
   ]
  },
  {
   "cell_type": "code",
   "execution_count": null,
   "metadata": {},
   "outputs": [],
   "source": [
    "# get the max value per column:\n",
    "data.max()"
   ]
  },
  {
   "cell_type": "markdown",
   "metadata": {},
   "source": [
    "# <center size=3>  Create a mesh to plot the real data flight: <center> "
   ]
  },
  {
   "cell_type": "code",
   "execution_count": null,
   "metadata": {
    "scrolled": true
   },
   "outputs": [],
   "source": [
    "# Create a mesh for interpolation of the real datA:\n",
    "\n",
    "# set the mesh limits from real data with pandas command presented above:\n",
    "latmin = data.min()[0]\n",
    "print latmin\n",
    "lonmin = data.min()[1]\n",
    "print lonmin\n",
    "latmax = data.max()[0]\n",
    "print latmax\n",
    "lonmax = data.max()[1]\n",
    "print lonmax\n",
    "\n",
    "# define the number of data in both latitude and longitude directions: \n",
    "nlat = 200  # 825 - numer of lines collected from factoration of total number of data flight.\n",
    "nlon = 200  # 1271\n",
    "\n",
    "# create a linspace for longitudes:\n",
    "x = np.linspace(lonmin, lonmax, nlon)\n",
    "# and for latitudes:\n",
    "y = np.linspace(latmin, latmax, nlat)\n",
    "# mesh for interpolation:\n",
    "LON,LAT = np.meshgrid(x,y)"
   ]
  },
  {
   "cell_type": "markdown",
   "metadata": {},
   "source": [
    "# <center size=3>   Interpolation of flight data: <center> "
   ]
  },
  {
   "cell_type": "code",
   "execution_count": null,
   "metadata": {},
   "outputs": [],
   "source": [
    "# convert lists to mnemonic arrays to perform calculations:\n",
    "lat = np.array(data.iloc[:,0]) # latitude\n",
    "lon = np.array(data.iloc[:,1]) # longitude\n",
    "gz = np.array(data.iloc[:,2]) # gz"
   ]
  },
  {
   "cell_type": "code",
   "execution_count": null,
   "metadata": {},
   "outputs": [],
   "source": [
    "flight_obs = (lon,lat) # real observation positions\n",
    "grid_obs = (LON,LAT) # interpolated observation positions\n",
    "\n",
    "# function of scipy for interpolation:\n",
    "gzi = griddata(flight_obs, gz, grid_obs , method='cubic')"
   ]
  },
  {
   "cell_type": "code",
   "execution_count": null,
   "metadata": {},
   "outputs": [],
   "source": [
    "# Define the region where there is no flight:\n",
    "i = np.where(x <= -53.5)\n",
    "j = np.where(y <= -23.5)\n",
    "I,J = np.meshgrid(i,j)\n",
    "gzi[I,J] = np.nan"
   ]
  },
  {
   "cell_type": "code",
   "execution_count": null,
   "metadata": {},
   "outputs": [],
   "source": [
    "# Plot the surface:\n",
    "# definindo os limites da figura:\n",
    "plt.close('all')\n",
    "py.rcParams['figure.figsize'] = (10.0, 10.0) #Redimensiona a figura\n",
    "fig = plt.figure()\n",
    "#ax = fig.add_subplot(111)\n",
    "fs = 14 # fontsize!!!!\n",
    "\n",
    "# plot the data in colors:\n",
    "plt.title('Gravity data - Parana Basin ', fontsize = fs)\n",
    "#p = plt.pcolormesh(LON, LAT, gzi, vmin= gz.min(), vmax = gz.max() )\n",
    "p = plt.imshow(gzi, cmap=plt.cm.coolwarm,interpolation=\"none\",\n",
    "                origin='lower',extent=[lonmin, lonmax, latmin, latmax])\n",
    "\n",
    "\n",
    "cbar = fig.colorbar(p, aspect=60, fraction = 0.1, orientation=\"vertical\")\n",
    "\n",
    "\n",
    "cbar.set_label('Gravity anomaly ( $ mGal$ )',fontsize=15, rotation = 90)\n",
    "plt.xlabel('Longitude ($^o$)', fontsize = fs)\n",
    "plt.ylabel('Latitude ($^o$)', fontsize = fs)\n",
    "plt.show()"
   ]
  }
 ],
 "metadata": {
  "kernelspec": {
   "display_name": "Python 2",
   "language": "python",
   "name": "python2"
  },
  "language_info": {
   "codemirror_mode": {
    "name": "ipython",
    "version": 2
   },
   "file_extension": ".py",
   "mimetype": "text/x-python",
   "name": "python",
   "nbconvert_exporter": "python",
   "pygments_lexer": "ipython2",
   "version": "2.7.15"
  }
 },
 "nbformat": 4,
 "nbformat_minor": 2
}
