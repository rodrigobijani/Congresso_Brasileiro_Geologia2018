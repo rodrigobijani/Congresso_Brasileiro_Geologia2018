{
 "cells": [
  {
   "cell_type": "markdown",
   "metadata": {},
   "source": [
    "<img src='Image/CBG18.png' width=\"220px\" align=\"right\"> <img src='Image/uff-logo.png' width=\"200px\" align=\"left\"> <img src='Image/logon.jpg' width=\"200px\" align=\"center\"> "
   ]
  },
  {
   "cell_type": "markdown",
   "metadata": {},
   "source": [
    "### <center size=2> Real data example : Paraná Basin, Brazil <center> \n",
    "    "
   ]
  },
  {
   "cell_type": "markdown",
   "metadata": {},
   "source": [
    "--------------------------------------------------------------------------------------------------------------------"
   ]
  },
  {
   "cell_type": "code",
   "execution_count": 1,
   "metadata": {
    "scrolled": true
   },
   "outputs": [],
   "source": [
    "#----------------------------- INTERNAL PACKAGES --------------------------- #\n",
    "import numpy as np\n",
    "import numpy.ma as ma\n",
    "import ipywidgets as widgets\n",
    "import scipy as sp\n",
    "import pandas as pd\n",
    "import matplotlib.pyplot as plt\n",
    "from mpl_toolkits.mplot3d import Axes3D\n",
    "from matplotlib import cm\n",
    "import matplotlib.mlab as ml\n",
    "from matplotlib.ticker import LinearLocator, FormatStrFormatter\n",
    "from IPython.display import Latex\n",
    "from scipy import stats\n",
    "from mpl_toolkits.basemap import Basemap\n",
    "from matplotlib.patches import Polygon\n",
    "from scipy.interpolate import griddata\n",
    "from pandas import Series, DataFrame\n",
    "from mpl_toolkits.mplot3d import axes3d\n",
    "import pylab as py\n",
    "%matplotlib tk\n",
    "#________________________________________________________________________________#"
   ]
  },
  {
   "cell_type": "markdown",
   "metadata": {},
   "source": [
    "# Geologia Regional e Contexto Geotectônico da Área de Estudo"
   ]
  },
  {
   "cell_type": "markdown",
   "metadata": {},
   "source": [
    "> A Bacia do Paraná desenvolveu-se sobre uma área de escudo do continente Gondwana Sul e é composta por uma série de núcleos cratônicos, rodeados por vários cinturões móveis e cobertos por bacias molássicas, que foram desenvolvidas durante o ciclo termo-tectônico Brasiliano que se estendeu desde o neoproterozóico até o Ordoviciano. A deformação decorrente deste ciclo teve início entre 700 Ma e 650 Ma, sendo que a maior parte das intrusões de granitos que podemos observar na Bacia, situou-se dentro do limite entre o Proterozóico e o Paleozóico (cerca de 570 Ma) com resfriamento durante o Cambro-Ordoviciano entre 500-450 Ma (Zalan, 1987; Hawkesworth,2000).\n",
    ">\n",
    "> O embasamento que circunda a Bacia do Paraná é dividido em: margem Leste/Sudeste, representado pelas faixas Dom Feliciano e Ribeira ,de idade Brasiliana e de direção NE-SW, separados por um núcleo cratônico designado Rio de La Plata/ Luiz Alves; margem Norte/Nordeste, representada pela faixa Uruaçu, de idade mesoproterozóica, de direção NW e por dois maciços arqueanos (Guaxupé e Goiás) remobilizados durante o ciclo Brasiliano; margem Oeste/Noroeste representada pela faixa de dobramentos Paraguai/Araguaia, também do ciclo Brasiliano, que delimita o extremo da borda Noroeste da Bacia (Hawkesworth, 2000; Borghi, 2002) .\n",
    ">\n",
    "> Dentre os principais grupos de estruturas, nota-se três grupos de lineamentos de direções preferenciais NW-SE, E-W e NE-SW, representando cada um evento termo-tectônico distinto. O conjunto de lineamentos NW-SE são os mais antigos e estão relacionados ao evento  termo-tectônico do Transamazônico, e, as zonas de falhas geológicas associadas a este evento foram reativadas durante o rifteamento do Atlântico Sul, no Cretáceo.  Os lineamentos E-W, tiveram início a partir do Triássico e são paralelos às zonas de fratura oceânica, sugerindo uma ligação com o desenvolvimento do Atlântico Sul. Os lineamentos NE-SW são derivados do evento tremo-tectônico Brasiliano e de seus cinturões móveis associados. Este último conjunto de lineamentos é isento de diques de basalto (Milani, 1999). \n",
    ">\n",
    "> O registro estratigráfico da Bacia do Paraná é formado por pacote sedimentar e magmático de espessura máxima em torno de 7000 m, que coincide geograficamente com o depocentro estrutural da sinéclise e com a calha do rio paraná (Milani,1998). O registro estratigráfico da Bacia do Paraná é dividido em seis unidades de ampla escala ou supersequências (Vail, 1977) na forma de pacotes rochosos com intervalos temporais de algumas dezenas de milhões de anos de duração e envelopados por superfícies de discordância de caráter inter-regional: Rio Ivaí (Ordoviciano-Siluriano), Paraná (Devoniano), Gondwana I (Carbonífero-Eotriássico), Gondwana II (Meso a Neotriássico), Gondwana III (Neojurássico-Eocretáceo) e Bauru (Neocretáceo). As três primeiras supersequências são representadas por sucessões sedimentares que definem ciclos transgressivos e regressivos ligados às oscilações do nível relativo do mar, durante o Paleozóico, ao passo que as demais correspondem a pacotes de sedimentos continentais com rochas ígneas associadas. As unidades formais da litoestratigrafia, quais sejam os grupos, formações e membros comumente utilizados na descrição do arranjo espacial dos estratos da bacia, inserem-se como elementos particularizados neste arcabouço aloestratigráfico de escala regional (boletim_2007).\n",
    ">\n",
    "> O mapa geológico-estrutural abaixo apresenta as formações aflorantes bem como as principais lineamentos e o Arco de Ponta Grossa e a localização da área de estudo."
   ]
  },
  {
   "cell_type": "markdown",
   "metadata": {},
   "source": [
    "  <img src='Image/Figure1revision.png' width=\"750px\" align=\"center\">"
   ]
  },
  {
   "cell_type": "markdown",
   "metadata": {},
   "source": [
    "# Typical rock densities for Paraná Sedimentary Basin (Geology information)"
   ]
  },
  {
   "cell_type": "markdown",
   "metadata": {},
   "source": [
    "\n",
    "|       Geological Formation       | Densities(g/cm³)| Depositions Cycles  |\n",
    "|----------------------------------|-----------------|---------------------|\n",
    "|Serra Geral                       |      2.80       |     Gondwana III    |\n",
    "|Botucatu                          |      2.33       |     Gondwana III    | \n",
    "|Pirambóia                         |      2.47       |      Gondwana I     | \n",
    "|Rio do Rasto                      |      2.40       |      Gondwana I     |\n",
    "|Teresina                          |      2.50       |      Gondwana I     |\n",
    "|Irati                             |      2.60       |      Gondwana I     |\n",
    "|Palermo                           |      2.55       |      Gondwana I     |\n",
    "|Rio Bonito                        |      2.57       |      Gondwana I     |\n",
    "|Taciba (Mb. Chapeo do Sol)        |      2.63       |      Gondwana I     |\n",
    "|Campo Mourão                      |      2.60       |      Gondwana I     |\n",
    "|Lagoa Azul (Mb. Taquaral)         |      2.63       |      Gondwana I     |\n",
    "|Lagoa Azul (Mb. Cuiaba Paulista)  |      2.57       |      Gondwana I     |\n",
    "|Ponta Grossa                      |      2.60       |        Paraná       |\n",
    "|Furnas                            |      2.20       |        Paraná       |\n",
    "|Vila Maria                        |      2.23       |       Rio Ivaí      |\n",
    "|Embasamento                       |      2.75       |    Pré-Cambriano    |\n"
   ]
  },
  {
   "cell_type": "markdown",
   "metadata": {},
   "source": [
    "# <center> Start coding from here on ! <center>"
   ]
  },
  {
   "cell_type": "code",
   "execution_count": null,
   "metadata": {},
   "outputs": [],
   "source": [
    "# Use pandas to read the real data:\n",
    "data = pd.read_table('Real/Grav.csv', sep=',' )\n",
    "print(data)"
   ]
  },
  {
   "cell_type": "markdown",
   "metadata": {},
   "source": [
    "#  <center size=3> Some useful tools of pandas: <center>"
   ]
  },
  {
   "cell_type": "code",
   "execution_count": null,
   "metadata": {},
   "outputs": [],
   "source": [
    "# sum all data per column:\n",
    "#data.sum()[\"Lat\"]\n",
    "data.sum()"
   ]
  },
  {
   "cell_type": "code",
   "execution_count": null,
   "metadata": {},
   "outputs": [],
   "source": [
    "# get the min value per column:\n",
    "data.min()"
   ]
  },
  {
   "cell_type": "code",
   "execution_count": null,
   "metadata": {},
   "outputs": [],
   "source": [
    "# get the max value per column:\n",
    "data.max()"
   ]
  },
  {
   "cell_type": "markdown",
   "metadata": {},
   "source": [
    "#  <center size=3> Plot the spacial distribution of the real data set: <center>"
   ]
  },
  {
   "cell_type": "code",
   "execution_count": null,
   "metadata": {},
   "outputs": [],
   "source": [
    "# ------------ plot the flight lines to check for the interpolation:--------#\n",
    "# ------------ set figure size: ------------------------------------------#\n",
    "plt.close('all')\n",
    "#py.rcParams['figure.figsize'] = (10.0, 8.0) \n",
    "fig = plt.figure()\n",
    "p = plt.scatter(data[' Long'], data['Lat'], s=1.0, c=data[' mGal'], marker='.', cmap=plt.cm.coolwarm)\n",
    "cbar = plt.colorbar(p, aspect=30, fraction = 0.03, orientation=\"vertical\")\n",
    "cbar.set_label('Gravity Anomaly $ mGal $',fontsize=15, rotation = 90)\n",
    "plt.show()"
   ]
  },
  {
   "cell_type": "markdown",
   "metadata": {},
   "source": [
    "# <center size=3>  Create a mesh to plot the real data flight: <center> "
   ]
  },
  {
   "cell_type": "code",
   "execution_count": null,
   "metadata": {
    "scrolled": true
   },
   "outputs": [],
   "source": [
    "# set the mesh spacial boundaries from real data by means of pandas commands:\n",
    "#latmin = data.min()['Lat']\n",
    "latmin = data.min()[0]\n",
    "print 'min latitude = ', latmin\n",
    "#lonmin = data.min()[' Long']\n",
    "lonmin = data.min()[1]\n",
    "print 'min longitude =', lonmin\n",
    "#latmax = data.max()[\"Lat\"]\n",
    "latmax = data.max()[0]\n",
    "print 'max latitude =', latmax\n",
    "#lonmax = data.max()[\" Long\"]\n",
    "lonmax = data.max()[1]\n",
    "print 'max longitude =', lonmax\n",
    "\n",
    "# define the number of data in both latitude and longitude directions: \n",
    "nlat = 200  # 825 - numer of lines collected from factoration of total number of data flight.\n",
    "nlon = 200  # 1271\n",
    "\n",
    "# create a linspace for longitudes:\n",
    "x = np.linspace(lonmin, lonmax, nlon)\n",
    "# and for latitudes:\n",
    "y = np.linspace(latmin, latmax, nlat)\n",
    "# mesh for interpolation:\n",
    "LON,LAT = np.meshgrid(x,y)"
   ]
  },
  {
   "cell_type": "markdown",
   "metadata": {},
   "source": [
    "# <center size=3>   Interpolation of flight data: <center> "
   ]
  },
  {
   "cell_type": "code",
   "execution_count": null,
   "metadata": {},
   "outputs": [],
   "source": [
    "# convert lists to mnemonic arrays to perform calculations:\n",
    "#lat = (data.iloc[:,0]) # latitude\n",
    "#lon = (data.iloc[:,1]) # longitude\n",
    "#gz =  (data.iloc[:,2]) # gz\n",
    "\n",
    "# Columns names as identificators:\n",
    "lat = ( data[\"Lat\"] ) # latitude\n",
    "lon = ( data[\" Long\"] ) # longitude\n",
    "gz =  ( data[\" mGal\"]) # gz\n",
    "#print lon, lat, gz"
   ]
  },
  {
   "cell_type": "code",
   "execution_count": null,
   "metadata": {},
   "outputs": [],
   "source": [
    "flight_obs = (lon,lat) # real observation positions\n",
    "grid_obs = (LON,LAT) # interpolated observation positions\n",
    "\n",
    "# function of scipy for interpolation:\n",
    "gzi = griddata(flight_obs, gz, grid_obs , method='cubic')"
   ]
  },
  {
   "cell_type": "markdown",
   "metadata": {},
   "source": [
    "# <center size=3> Plot of the interpolated data for verification: <center>"
   ]
  },
  {
   "cell_type": "code",
   "execution_count": null,
   "metadata": {},
   "outputs": [],
   "source": [
    "# ------------ set figure size: ------------------------------------------#\n",
    "plt.close('all')\n",
    "py.rcParams['figure.figsize'] = (12.0, 8.0) \n",
    "fig = plt.figure()\n",
    "fs = 14 # fontsize\n",
    "\n",
    "# ------------ plot the interpolated gravity anomaly in contourmap: -------#\n",
    "plt.title('Gravity data - Parana Basin ', fontsize = fs)\n",
    "image = plt.imshow(gzi, cmap=plt.cm.coolwarm,interpolation=\"none\",\n",
    "                origin='lower',extent=[lonmin, lonmax, latmin, latmax])\n",
    "\n",
    "# ------------ plot the flight lines to check for the interpolation:--------#\n",
    "plt.plot(lon, lat, color='black', marker='.', markersize=0.5)\n",
    "\n",
    "# colobar specifications:\n",
    "cbar = fig.colorbar(image, aspect=60, fraction = 0.1, orientation=\"vertical\")\n",
    "cbar.set_label('Gravity anomaly ( $ mGal$ )',fontsize=fs, rotation = 90)\n",
    "plt.xlabel('Longitude ($^o$)', fontsize = fs)\n",
    "plt.ylabel('Latitude ($^o$)', fontsize = fs)\n",
    "plt.show()"
   ]
  },
  {
   "cell_type": "code",
   "execution_count": null,
   "metadata": {},
   "outputs": [],
   "source": [
    "# ------------- copy the interpolated data into another array for convenience: -------------#\n",
    "gzgrid = np.copy(gzi)\n",
    "gzgrid = np.asarray(gzgrid)\n",
    "nx, ny = np.shape(gzgrid)\n",
    "print 'number of gridded points in longitude =', nx\n",
    "print 'number of gridded points in latitude = ', ny"
   ]
  },
  {
   "cell_type": "code",
   "execution_count": null,
   "metadata": {},
   "outputs": [],
   "source": [
    "# ------------- Define the region where there is no flight lines (ONLY WORK FOR CORNES!): -----------------#\n",
    "i = np.where(x <= -53.6) #and np.where(x>= -52.5)\n",
    "j = np.where(y <= -23.5) #and np.where(y>= -22.5)\n",
    "I,J = np.meshgrid(i,j)\n",
    "\n",
    "# define nans for undesired regions: \n",
    "gzgrid[J,I] = np.nan       "
   ]
  },
  {
   "cell_type": "code",
   "execution_count": null,
   "metadata": {},
   "outputs": [],
   "source": [
    "# ------------ set figure size: ------------------------------------------#\n",
    "plt.close('all')\n",
    "py.rcParams['figure.figsize'] = (6.0, 8.0) \n",
    "fig = plt.figure()\n",
    "fs = 14 # fontsize!!!!\n",
    "\n",
    "# ------------ plot the interpolated gravity anomaly in contourmap: -------#\n",
    "plt.title('Gravity data - Parana Basin ', fontsize = fs)\n",
    "#p = plt.pcolormesh(LON, LAT, gzgrid, vmin= gz.min(), vmax = gz.max() )\n",
    "p = plt.imshow(gzgrid, cmap=plt.cm.coolwarm,interpolation=\"none\",\n",
    "                origin='lower',extent=[lonmin, lonmax, latmin, latmax])\n",
    "\n",
    "# color bar specifications:\n",
    "cbar = fig.colorbar(p, aspect=60, fraction = 0.1, orientation=\"vertical\")\n",
    "cbar.set_label('Gravity anomaly ( $ mGal$ )',fontsize=15, rotation = 90)\n",
    "plt.xlabel('Longitude ($^o$)', fontsize = fs)\n",
    "plt.ylabel('Latitude ($^o$)', fontsize = fs)       \n",
    "plt.show()"
   ]
  },
  {
   "cell_type": "markdown",
   "metadata": {},
   "source": [
    "# Delimiting a study region using Pandas commands:"
   ]
  },
  {
   "cell_type": "code",
   "execution_count": null,
   "metadata": {},
   "outputs": [],
   "source": [
    "# longitude filter:\n",
    "target = data.loc[ (data[' Long']<= -52.2) & (data[' Long']>= -52.5) ] # should have the whitespace \" LONG\" !\n",
    "# latitude filter:\n",
    "target = target.loc[ (target['Lat' ]<= -22.3) & (target['Lat']>= -23.3) ]\n",
    "# check if is right:\n",
    "target.max(), target.min()"
   ]
  },
  {
   "cell_type": "code",
   "execution_count": null,
   "metadata": {},
   "outputs": [],
   "source": [
    "# INterpolate the desired data \n",
    "# set the mesh limits from real data with pandas command presented above:\n",
    "#latmin = data.min()['Lat']\n",
    "lat1 = target.min()[0]\n",
    "print 'min target latitude = ', lat1\n",
    "#lonmin = data.min()[' Long']\n",
    "lon1 = target.min()[1]\n",
    "print 'min target longitude =', lon1\n",
    "#latmax = data.max()[\"Lat\"]\n",
    "lat2 = target.max()[0]\n",
    "print 'max target latitude =', lat2\n",
    "#lonmax = data.max()[\" Long\"]\n",
    "lon2 = target.max()[1]\n",
    "print 'max target longitude =', lon2\n",
    "\n",
    "# create a linspace for filtered longitudes:\n",
    "targ_lon = np.linspace(lon1, lon2, 200, endpoint=True)\n",
    "# and for filtered latitudes:\n",
    "targ_lat = np.linspace(lat1, lat2, 200, endpoint=True)\n",
    "# mesh for interpolation:\n",
    "targ_LON, targ_LAT = np.meshgrid(targ_lon, targ_lat)"
   ]
  },
  {
   "cell_type": "markdown",
   "metadata": {},
   "source": [
    "# <center> Perform interpolation of the target area : <center>"
   ]
  },
  {
   "cell_type": "code",
   "execution_count": null,
   "metadata": {},
   "outputs": [],
   "source": [
    "# working arrays for more clear code:\n",
    "w1 = (np.array( target[' Long'] ), np.array( target['Lat']) )  # real coordinates\n",
    "w2 = (targ_LON, targ_LAT) # interpolated coordinates\n",
    "w3 = np.array( target[' mGal'] ) # real gravity data\n",
    "# function of scipy for interpolation:\n",
    "targ_gzi = griddata( w1, w3 , w2, method='cubic')"
   ]
  },
  {
   "cell_type": "code",
   "execution_count": null,
   "metadata": {},
   "outputs": [],
   "source": [
    "print np.where(targ_gzi == np.nan)\n",
    "print targ_gzi"
   ]
  },
  {
   "cell_type": "code",
   "execution_count": null,
   "metadata": {},
   "outputs": [],
   "source": [
    "# ------------ set figure size: ------------------------------------------#\n",
    "plt.close('all')\n",
    "py.rcParams['figure.figsize'] = (10.0, 10.0) \n",
    "fig = plt.figure()\n",
    "fs = 14 # fontsize!!!!\n",
    "\n",
    "# ------------ plot the interpolated gravity anomaly in contourmap: -------#\n",
    "plt.title('Target Gravity data - Parana Basin ', fontsize = fs)\n",
    "#p = plt.pcolormesh(LON, LAT, gzgrid, vmin= gz.min(), vmax = gz.max() )\n",
    "p = plt.imshow(targ_gzi, cmap=plt.cm.coolwarm,interpolation=\"none\",\n",
    "                origin='lower', extent=[lon1, lon2, lat1, lat2])\n",
    "\n",
    "# color bar specifications:\n",
    "cbar = fig.colorbar(p, aspect=60, fraction = 0.1, orientation=\"vertical\")\n",
    "cbar.set_label('Gravity anomaly ( $ mGal$ )',fontsize=15, rotation = 90)\n",
    "plt.xlabel('Longitude ($^o$)', fontsize = fs)\n",
    "plt.ylabel('Latitude ($^o$)', fontsize = fs)       \n",
    "plt.show()\n"
   ]
  },
  {
   "cell_type": "markdown",
   "metadata": {},
   "source": [
    "#  <center> Let's plot the maps into more realistic Cartographic projections?? <center> "
   ]
  },
  {
   "cell_type": "markdown",
   "metadata": {},
   "source": [
    "# Topography"
   ]
  },
  {
   "cell_type": "code",
   "execution_count": null,
   "metadata": {},
   "outputs": [],
   "source": [
    "#Define the coordinates of the projection \n",
    "lon0 = 0.5*(lonmin + lonmax)\n",
    "lat0 = 0.5*(latmin + latmax)\n",
    "\n",
    "# ------- use basemap function to create the plot : ---------# \n",
    "m = Basemap(llcrnrlon=latmin,llcrnrlat=lonmin,\n",
    "            urcrnrlon=latmax,urcrnrlat=lonmax, \n",
    "            resolution='l',projection='poly', \n",
    "            lon_0=lon0, lat_0=lat0,epsg=3395)\n",
    "\n",
    "#map.arcgisimage(service='World_Shaded_Relief', xpixels = 150000, ypixels= 150000, verbose= True)\n",
    "#plt.show()"
   ]
  },
  {
   "cell_type": "code",
   "execution_count": null,
   "metadata": {},
   "outputs": [],
   "source": [
    "map = Basemap(llcrnrlon=-54, llcrnrlat=-24, urcrnrlon=-50, urcrnrlat=-20, llcrnrx=None, llcrnry=None, urcrnrx=None, urcrnry=None, \n",
    "              projection='poly', resolution=None, area_thresh=None, rsphere=6370997.0, ellps=True, \n",
    "              lat_ts=None, lat_1=None, lat_2=None, lat_0=None, lon_0=None, lon_1=None, lon_2=None, o_lon_p=None, o_lat_p=None,\n",
    "              k_0=True, no_rot=True, suppress_ticks=True, satellite_height=35786000, boundinglat=None, fix_aspect=True, anchor='SW', celestial=True,\n",
    "              round=False, epsg=3395, ax=None)\n",
    "#http://server.arcgisonline.com/arcgis/rest/services\n",
    "#3395 WGS84\n",
    "\n",
    "map.arcgisimage(service='World_Shaded_Relief', xpixels = 150000, ypixels= 150000, verbose= True)\n",
    "\n",
    "plt.show()"
   ]
  },
  {
   "cell_type": "code",
   "execution_count": 3,
   "metadata": {},
   "outputs": [
    {
     "name": "stdout",
     "output_type": "stream",
     "text": [
      "         -23.7371574738792  -53.4012407160472  338.238341659465\n",
      "0               -23.737165         -53.401241        338.217446\n",
      "1               -23.737172         -53.401241        338.196551\n",
      "2               -23.737179         -53.401241        338.175655\n",
      "3               -23.737186         -53.401241        338.154759\n",
      "4               -23.737194         -53.401241        338.133864\n",
      "5               -23.737201         -53.401241        338.112968\n",
      "6               -23.737208         -53.401241        338.092072\n",
      "7               -23.737215         -53.401241        338.071176\n",
      "8               -23.737222         -53.401241        338.050280\n",
      "9               -23.737230         -53.401241        338.029384\n",
      "10              -23.737237         -53.401241        338.008488\n",
      "11              -23.737244         -53.401241        337.987592\n",
      "12              -23.737251         -53.401241        337.966696\n",
      "13              -23.737259         -53.401241        337.945800\n",
      "14              -23.737266         -53.401241        337.924904\n",
      "15              -23.737273         -53.401241        337.904007\n",
      "16              -23.737280         -53.401241        337.883111\n",
      "17              -23.737287         -53.401241        337.862214\n",
      "18              -23.737295         -53.401241        337.841318\n",
      "19              -23.737302         -53.401241        337.820421\n",
      "20              -23.737309         -53.401241        337.799524\n",
      "21              -23.737316         -53.401241        337.778626\n",
      "22              -23.737324         -53.401241        337.757728\n",
      "23              -23.737331         -53.401241        337.736830\n",
      "24              -23.737338         -53.401241        337.715932\n",
      "25              -23.737345         -53.401241        337.695034\n",
      "26              -23.737352         -53.401241        337.674136\n",
      "27              -23.737360         -53.401241        337.653238\n",
      "28              -23.737367         -53.401241        337.632340\n",
      "29              -23.737374         -53.401241        337.611442\n",
      "...                    ...                ...               ...\n",
      "1048544         -21.109712         -51.796095        259.815668\n",
      "1048545         -21.109562         -51.796098        259.771635\n",
      "1048546         -21.109412         -51.796101        259.727588\n",
      "1048547         -21.109262         -51.796104        259.683536\n",
      "1048548         -21.109112         -51.796107        259.639477\n",
      "1048549         -21.108962         -51.796110        259.595406\n",
      "1048550         -21.108812         -51.796112        259.551325\n",
      "1048551         -21.108662         -51.796115        259.507234\n",
      "1048552         -21.108512         -51.796117        259.463132\n",
      "1048553         -21.108363         -51.796120        259.419021\n",
      "1048554         -21.108213         -51.796122        259.374900\n",
      "1048555         -21.108063         -51.796124        259.330766\n",
      "1048556         -21.107913         -51.796126        259.286623\n",
      "1048557         -21.107763         -51.796129        259.242473\n",
      "1048558         -21.107613         -51.796130        259.198307\n",
      "1048559         -21.107464         -51.796132        259.154137\n",
      "1048560         -21.107314         -51.796134        259.109955\n",
      "1048561         -21.107164         -51.796136        259.065763\n",
      "1048562         -21.107014         -51.796137        259.021559\n",
      "1048563         -21.106865         -51.796139        258.977342\n",
      "1048564         -21.106715         -51.796140        258.933110\n",
      "1048565         -21.106565         -51.796141        258.888864\n",
      "1048566         -21.106415         -51.796142        258.844605\n",
      "1048567         -21.106266         -51.796143        258.800334\n",
      "1048568         -21.106116         -51.796143        258.756056\n",
      "1048569         -21.105966         -51.796144        258.711769\n",
      "1048570         -21.105817         -51.796145        258.667476\n",
      "1048571         -21.105667         -51.796145        258.623168\n",
      "1048572         -21.105517         -51.796146        258.578846\n",
      "1048573         -21.105368         -51.796146        258.534523\n",
      "\n",
      "[1048574 rows x 3 columns]\n"
     ]
    }
   ],
   "source": [
    "topo = pd.read_table('Real/Topo.txt', sep=',' )\n",
    "print(topo)"
   ]
  },
  {
   "cell_type": "code",
   "execution_count": null,
   "metadata": {},
   "outputs": [],
   "source": [
    "# set the mesh spacial boundaries from real data by means of pandas commands:\n",
    "latmin = topo.min()[0]\n",
    "print 'min latitude = ', latmin\n",
    "lonmin = topo.min()[1]\n",
    "print 'min longitude =', lonmin\n",
    "zmin = topo.min()[2]\n",
    "print 'min longitude =', zmin\n",
    "latmax = topo.max()[0]\n",
    "print 'max latitude =', latmax\n",
    "lonmax = topo.max()[1]\n",
    "print 'max longitude =', lonmax\n",
    "zmax = topo.max()[2]\n",
    "print 'max altitude =', zmax\n",
    "\n",
    "# define the number of data in both latitude and longitude directions: \n",
    "nlat = 200  # 825 - numer of lines collected from factoration of total number of data flight.\n",
    "nlon = 200  # 1271\n",
    "nz = 200\n",
    "\n",
    "# create a linspace for longitudes: Redefines the grid\n",
    "x = np.linspace(lonmin, lonmax, nlon)\n",
    "# and for latitudes:\n",
    "y = np.linspace(latmin, latmax, nlat)\n",
    "\n",
    "#z = np.linspace(zmin, zmax, nz) #funcionou errado, mas funcionou!\n",
    "\n",
    "# mesh for interpolation:\n",
    "\n",
    "# convert lists to mnemonic arrays to perform calculations:\n",
    "X = np.array(topo.iloc[:,0]) # latitude\n",
    "Y = np.array(topo.iloc[:,1]) # longitude\n",
    "z = np.array(topo.iloc[:,2]) # topo\n",
    "\n",
    "LON,LAT = np.meshgrid(x,y)\n",
    "xi = np.linspace(min(X), max(X))\n",
    "yi = np.linspace(min(Y), max(Y))\n",
    "Z = ml.griddata(X, Y, z, xi, yi)\n",
    "\n",
    "\n",
    "fig = plt.figure()\n",
    "ax = fig.gca(projection='3d')\n",
    "surf = ax.plot_surface(LON, LAT, Z, cmap=cm.coolwarm)\n",
    "\n",
    "\n",
    "# Add a color bar which maps values to colors.\n",
    "fig.colorbar(surf, shrink=0.5, aspect=5)\n",
    "\n",
    "plt.show()"
   ]
  },
  {
   "cell_type": "markdown",
   "metadata": {},
   "source": [
    "# Null space"
   ]
  },
  {
   "cell_type": "code",
   "execution_count": null,
   "metadata": {},
   "outputs": [],
   "source": []
  },
  {
   "cell_type": "markdown",
   "metadata": {},
   "source": [
    "# Proposed model for the region"
   ]
  },
  {
   "cell_type": "code",
   "execution_count": null,
   "metadata": {},
   "outputs": [],
   "source": []
  }
 ],
 "metadata": {
  "kernelspec": {
   "display_name": "Python 2",
   "language": "python",
   "name": "python2"
  },
  "language_info": {
   "codemirror_mode": {
    "name": "ipython",
    "version": 2
   },
   "file_extension": ".py",
   "mimetype": "text/x-python",
   "name": "python",
   "nbconvert_exporter": "python",
   "pygments_lexer": "ipython2",
   "version": "2.7.13"
  }
 },
 "nbformat": 4,
 "nbformat_minor": 2
}
