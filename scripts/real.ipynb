{
 "cells": [
  {
   "cell_type": "markdown",
   "metadata": {},
   "source": [
    "<img src='Image/CBG18.png' width=\"220px\" align=\"right\"> <img src='Image/uff-logo.png' width=\"200px\" align=\"left\"> <img src='Image/logon.jpg' width=\"200px\" align=\"center\"> "
   ]
  },
  {
   "cell_type": "markdown",
   "metadata": {},
   "source": [
    "### <center size=2> Real data example : Paraná Basin, Brazil <center> \n",
    "    "
   ]
  },
  {
   "cell_type": "markdown",
   "metadata": {},
   "source": [
    "--------------------------------------------------------------------------------------------------------------------"
   ]
  },
  {
   "cell_type": "code",
   "execution_count": null,
   "metadata": {
    "scrolled": true
   },
   "outputs": [],
   "source": [
    "#----------------------------- ALL INTERNAL PACKAGES --------------------------- #\n",
    "import numpy as np\n",
    "import ipywidgets as widgets\n",
    "import scipy as sp\n",
    "import pandas as pd\n",
    "import pylab as py\n",
    "import matplotlib.pyplot as plt\n",
    "from matplotlib.ticker import LinearLocator, FormatStrFormatter\n",
    "from IPython.display import Latex\n",
    "from mpl_toolkits.basemap import Basemap\n",
    "from matplotlib.patches import Polygon\n",
    "from scipy.interpolate import griddata\n",
    "from mpl_toolkits.mplot3d import axes3d"
   ]
  },
  {
   "cell_type": "markdown",
   "metadata": {},
   "source": [
    "# Geologia Regional e Contexto Geotectônico da Área de Estudo"
   ]
  },
  {
   "cell_type": "markdown",
   "metadata": {},
   "source": [
    "> A Bacia do Paraná desenvolveu-se sobre uma área de escudo do continente Gondwana Sul e é composta por uma série de núcleos cratônicos, rodeados por vários cinturões móveis e cobertos por bacias molássicas, que foram desenvolvidas durante o ciclo termo-tectônico Brasiliano que se estendeu desde o neoproterozóico até o Ordoviciano. A deformação decorrente deste ciclo teve início entre 700 Ma e 650 Ma, sendo que a maior parte das intrusões de granitos que podemos observar na Bacia, situou-se dentro do limite entre o Proterozóico e o Paleozóico (cerca de 570 Ma) com resfriamento durante o Cambro-Ordoviciano entre 500-450 Ma (Zalan, 1987; Hawkesworth,2000).\n",
    ">\n",
    "> O embasamento que circunda a Bacia do Paraná é dividido em: margem Leste/Sudeste, representado pelas faixas Dom Feliciano e Ribeira ,de idade Brasiliana e de direção NE-SW, separados por um núcleo cratônico designado Rio de La Plata/ Luiz Alves; margem Norte/Nordeste, representada pela faixa Uruaçu, de idade mesoproterozóica, de direção NW e por dois maciços arqueanos (Guaxupé e Goiás) remobilizados durante o ciclo Brasiliano; margem Oeste/Noroeste representada pela faixa de dobramentos Paraguai/Araguaia, também do ciclo Brasiliano, que delimita o extremo da borda Noroeste da Bacia (Hawkesworth, 2000; Borghi, 2002) .\n",
    ">\n",
    "> Dentre os principais grupos de estruturas, nota-se três grupos de lineamentos de direções preferenciais NW-SE, E-W e NE-SW, representando cada um evento termo-tectônico distinto. O conjunto de lineamentos NW-SE são os mais antigos e estão relacionados ao evento  termo-tectônico do Transamazônico, e, as zonas de falhas geológicas associadas a este evento foram reativadas durante o rifteamento do Atlântico Sul, no Cretáceo.  Os lineamentos E-W, tiveram início a partir do Triássico e são paralelos às zonas de fratura oceânica, sugerindo uma ligação com o desenvolvimento do Atlântico Sul. Os lineamentos NE-SW são derivados do evento tremo-tectônico Brasiliano e de seus cinturões móveis associados. Este último conjunto de lineamentos é isento de diques de basalto (Milani, 1999). \n",
    ">\n",
    "> O registro estratigráfico da Bacia do Paraná é formado por pacote sedimentar e magmático de espessura máxima em torno de 7000 m, que coincide geograficamente com o depocentro estrutural da sinéclise e com a calha do rio paraná (Milani,1998). O registro estratigráfico da Bacia do Paraná é dividido em seis unidades de ampla escala ou supersequências (Vail, 1977) na forma de pacotes rochosos com intervalos temporais de algumas dezenas de milhões de anos de duração e envelopados por superfícies de discordância de caráter inter-regional: Rio Ivaí (Ordoviciano-Siluriano), Paraná (Devoniano), Gondwana I (Carbonífero-Eotriássico), Gondwana II (Meso a Neotriássico), Gondwana III (Neojurássico-Eocretáceo) e Bauru (Neocretáceo). As três primeiras supersequências são representadas por sucessões sedimentares que definem ciclos transgressivos e regressivos ligados às oscilações do nível relativo do mar, durante o Paleozóico, ao passo que as demais correspondem a pacotes de sedimentos continentais com rochas ígneas associadas. As unidades formais da litoestratigrafia, quais sejam os grupos, formações e membros comumente utilizados na descrição do arranjo espacial dos estratos da bacia, inserem-se como elementos particularizados neste arcabouço aloestratigráfico de escala regional (boletim_2007).\n",
    ">\n",
    "> O mapa geológico-estrutural abaixo apresenta as formações aflorantes bem como as principais lineamentos e o Arco de Ponta Grossa e a localização da área de estudo."
   ]
  },
  {
   "cell_type": "markdown",
   "metadata": {},
   "source": [
    "  <img src='Image/Figure1revision.png' width=\"750px\" align=\"center\">"
   ]
  },
  {
   "cell_type": "markdown",
   "metadata": {},
   "source": [
    "# Typical rock densities for Paraná Sedimentary Basin (Geology information)"
   ]
  },
  {
   "cell_type": "markdown",
   "metadata": {},
   "source": [
    "\n",
    "|       Geological Formation       | Densities(g/cm³)| Depositions Cycles  |\n",
    "|----------------------------------|-----------------|---------------------|\n",
    "|Serra Geral                       |      2.80       |     Gondwana III    |\n",
    "|Botucatu                          |      2.33       |     Gondwana III    | \n",
    "|Pirambóia                         |      2.47       |      Gondwana I     | \n",
    "|Rio do Rasto                      |      2.40       |      Gondwana I     |\n",
    "|Teresina                          |      2.50       |      Gondwana I     |\n",
    "|Irati                             |      2.60       |      Gondwana I     |\n",
    "|Palermo                           |      2.55       |      Gondwana I     |\n",
    "|Rio Bonito                        |      2.57       |      Gondwana I     |\n",
    "|Taciba (Mb. Chapeo do Sol)        |      2.63       |      Gondwana I     |\n",
    "|Campo Mourão                      |      2.60       |      Gondwana I     |\n",
    "|Lagoa Azul (Mb. Taquaral)         |      2.63       |      Gondwana I     |\n",
    "|Lagoa Azul (Mb. Cuiaba Paulista)  |      2.57       |      Gondwana I     |\n",
    "|Ponta Grossa                      |      2.60       |        Paraná       |\n",
    "|Furnas                            |      2.20       |        Paraná       |\n",
    "|Vila Maria                        |      2.23       |       Rio Ivaí      |\n",
    "|Embasamento                       |      2.75       |    Pré-Cambriano    |\n"
   ]
  },
  {
   "cell_type": "markdown",
   "metadata": {},
   "source": [
    "# <center> Start coding from here on ! <center>"
   ]
  },
  {
   "cell_type": "code",
   "execution_count": null,
   "metadata": {},
   "outputs": [],
   "source": [
    "# ------------- Use pandas to read the real data -----------------:\n",
    "names = ['Lat','Lon','mGal']\n",
    "data = pd.read_csv( 'Real/Grav.txt', sep=',', names=names )\n",
    "print(data)"
   ]
  },
  {
   "cell_type": "code",
   "execution_count": null,
   "metadata": {},
   "outputs": [],
   "source": [
    "# ------------- Use pandas to read the topographic data -----------------:\n",
    "names = ['Lat', 'Lon', 'Elev']\n",
    "topo = pd.read_csv('Real/Topo.txt', sep=',', names=names)\n",
    "print topo"
   ]
  },
  {
   "cell_type": "markdown",
   "metadata": {},
   "source": [
    "#  <center size=3> Some useful tools of pandas: <center>"
   ]
  },
  {
   "cell_type": "code",
   "execution_count": null,
   "metadata": {},
   "outputs": [],
   "source": [
    "# sum all data per column:\n",
    "#data.sum()[\"Lat\"]\n",
    "data.sum()"
   ]
  },
  {
   "cell_type": "code",
   "execution_count": null,
   "metadata": {},
   "outputs": [],
   "source": [
    "topo.sum()"
   ]
  },
  {
   "cell_type": "code",
   "execution_count": null,
   "metadata": {},
   "outputs": [],
   "source": [
    "# get the min value per column:\n",
    "data.min()"
   ]
  },
  {
   "cell_type": "code",
   "execution_count": null,
   "metadata": {},
   "outputs": [],
   "source": [
    "topo.min()"
   ]
  },
  {
   "cell_type": "code",
   "execution_count": null,
   "metadata": {},
   "outputs": [],
   "source": [
    "# get the max value per column:\n",
    "data.max()"
   ]
  },
  {
   "cell_type": "code",
   "execution_count": null,
   "metadata": {},
   "outputs": [],
   "source": [
    "topo.max()"
   ]
  },
  {
   "cell_type": "markdown",
   "metadata": {},
   "source": [
    "#  <center size=3> Plot the spacial distribution of the real data set and the topography: <center>"
   ]
  },
  {
   "cell_type": "code",
   "execution_count": null,
   "metadata": {},
   "outputs": [],
   "source": [
    "# ------------ plot the flight lines to check for the interpolation:--------#\n",
    "# ------------ set figure size: ------------------------------------------#\n",
    "plt.close('all')\n",
    "fig = plt.figure(figsize=(20,7))\n",
    "\n",
    "plt.subplot(1,2,1)\n",
    "plt.title('Gravity data - Parana Basin',fontsize=15)\n",
    "plt.xlabel('Longitude ($^o$)', fontsize = 15)\n",
    "plt.ylabel('Latitude ($^o$)', fontsize = 15)\n",
    "p1 = plt.scatter(data['Lon'], data['Lat'], s=1.0, c=data['mGal'], marker='.', cmap=plt.cm.coolwarm)\n",
    "cbar = plt.colorbar(p1, aspect=30, fraction = 0.03, orientation=\"horizontal\")\n",
    "cbar.set_label('Gravity Anomaly $ (mGal) $',fontsize=15, rotation = 0)\n",
    "\n",
    "###########################################################################################################################\n",
    "\n",
    "plt.subplot(1,2,2)\n",
    "plt.title('Topography - Parana Basin ',fontsize=15)\n",
    "plt.xlabel('Longitude ($^o$)', fontsize = 15)\n",
    "plt.ylabel('Latitude ($^o$)', fontsize = 15)\n",
    "\n",
    "p2 = plt.scatter(topo['Lon'], topo['Lat'], s=1.0, c=topo['Elev'], marker='.', cmap=plt.cm.rainbow)\n",
    "cbar = plt.colorbar(p2, aspect=30, fraction = 0.03, orientation=\"horizontal\")\n",
    "cbar.set_label('Topography $ (m) $',fontsize=15,rotation = 0)\n",
    "\n",
    "plt.show()"
   ]
  },
  {
   "cell_type": "markdown",
   "metadata": {},
   "source": [
    "# <center size=3>  Create a mesh to plot the real data flight: <center> "
   ]
  },
  {
   "cell_type": "code",
   "execution_count": null,
   "metadata": {
    "scrolled": true
   },
   "outputs": [],
   "source": [
    "# set the mesh spacial boundaries from real data by means of pandas commands:\n",
    "#latmin = data.min()['Lat']\n",
    "latmin = data.min()[0]\n",
    "print 'min latitude = ', latmin\n",
    "#lonmin = data.min()['Lon']\n",
    "lonmin = data.min()[1]\n",
    "print 'min longitude =', lonmin\n",
    "#latmax = data.max()[\"Lat\"]\n",
    "latmax = data.max()[0]\n",
    "print 'max latitude =', latmax\n",
    "#lonmax = data.max()[\"Lon\"]\n",
    "lonmax = data.max()[1]\n",
    "print 'max longitude =', lonmax\n",
    "\n",
    "# define the number of data in both latitude and longitude directions: \n",
    "nlat = 100  # 825 - numer of lines collected from factoration of total number of data flight.\n",
    "nlon = 100  # 1271\n",
    "\n",
    "# create a linspace for longitudes:\n",
    "x = np.linspace(lonmin, lonmax, nlon)\n",
    "# and for latitudes:\n",
    "y = np.linspace(latmin, latmax, nlat)\n",
    "# mesh for interpolation:\n",
    "LON,LAT = np.meshgrid(x,y)"
   ]
  },
  {
   "cell_type": "markdown",
   "metadata": {},
   "source": [
    "# <center size=3>   Interpolation of flight data: <center> "
   ]
  },
  {
   "cell_type": "code",
   "execution_count": null,
   "metadata": {},
   "outputs": [],
   "source": [
    "# convert lists to mnemonic arrays to perform calculations:\n",
    "#lat = (data.iloc[:,0]) # latitude\n",
    "#lon = (data.iloc[:,1]) # longitude\n",
    "#gz =  (data.iloc[:,2]) # gz\n",
    "#top = topo.iloc[:,3]) # elevation\n",
    "\n",
    "# Columns names as identificators:\n",
    "lat = ( data[\"Lat\"] ) # latitude\n",
    "lon = ( data[\"Lon\"] ) # longitude\n",
    "gz  = ( data[\"mGal\"]) # gz\n",
    "top = ( topo[\"Elev\"]) # elevation\n",
    "#print lat, lon, gz, top"
   ]
  },
  {
   "cell_type": "code",
   "execution_count": null,
   "metadata": {},
   "outputs": [],
   "source": [
    "flight_obs = (lon,lat) # real observation positions\n",
    "grid_obs   = (LON,LAT) # interpolated observation positions\n",
    "\n",
    "# function of scipy for interpolation:\n",
    "gzi  = griddata(flight_obs, gz, grid_obs , method='cubic') # gravity data interpolated in grid_obs observations"
   ]
  },
  {
   "cell_type": "code",
   "execution_count": null,
   "metadata": {},
   "outputs": [],
   "source": [
    "topi = griddata(flight_obs, top, grid_obs , method='linear') # topographic data interpolated in grid_obs observations"
   ]
  },
  {
   "cell_type": "markdown",
   "metadata": {},
   "source": [
    "# <center size=3> Plot of the interpolated data for verification: <center>"
   ]
  },
  {
   "cell_type": "code",
   "execution_count": null,
   "metadata": {},
   "outputs": [],
   "source": [
    "# ------------ set figure size: ------------------------------------------#\n",
    "plt.close('all')\n",
    "fig = plt.figure(figsize=(20,7))\n",
    "plt.subplot(1,2,1)\n",
    "fs = 14 # fontsize\n",
    "\n",
    "# ------------ plot the flight lines to check for the interpolation:--------#\n",
    "plt.scatter(data['Lon'], data['Lat'], s=1.0, c='black')\n",
    "\n",
    "# ------------ plot the interpolated gravity anomaly in contourmap: -------#\n",
    "plt.title('Gravity data - Parana Basin ', fontsize = fs)\n",
    "image = plt.imshow(gzi, cmap=plt.cm.coolwarm,interpolation=\"none\", aspect='auto',\n",
    "                origin='lower',extent=[lonmin, lonmax, latmin, latmax])\n",
    "\n",
    "# colobar specifications:\n",
    "cbar1 = plt.colorbar(image, aspect=60, fraction = 0.1, orientation=\"vertical\")\n",
    "cbar1.set_label('Gravity anomaly ( $ mGal$ )',fontsize=fs, rotation = 90)\n",
    "plt.xlabel('Longitude ($^o$)', fontsize = fs)\n",
    "plt.ylabel('Latitude ($^o$)', fontsize = fs)\n",
    "\n",
    "###########################################################################################################################\n",
    "\n",
    "plt.subplot(1,2,2)\n",
    "\n",
    "# ------------ plot the interpolated gravity anomaly in contourmap: -------#\n",
    "plt.title('Topography - Parana Basin ', fontsize = fs)\n",
    "i2 = plt.imshow(topi, cmap=plt.cm.terrain, interpolation=\"none\", aspect='auto',\n",
    "                origin='lower',extent=[lonmin, lonmax, latmin, latmax])\n",
    "\n",
    "# ------------ plot the flight lines to check for the interpolation:--------#\n",
    "plt.scatter(lon, lat, color='black', s=1.0)\n",
    "\n",
    "# colobar specifications:\n",
    "cbar2 = plt.colorbar(i2, aspect=60, fraction = 0.1, orientation=\"vertical\")\n",
    "cbar2.set_label('Topography ( $ (m)$ )',fontsize=fs, rotation = 90)\n",
    "plt.xlabel('Longitude ($^o$)', fontsize = fs)\n",
    "plt.ylabel('Latitude ($^o$)', fontsize = fs)\n",
    "\n",
    "plt.show()"
   ]
  },
  {
   "cell_type": "code",
   "execution_count": null,
   "metadata": {},
   "outputs": [],
   "source": [
    "# ------------- copy the interpolated data into another array for convenience: -------------#\n",
    "gzgrid = np.copy(gzi)\n",
    "gzgrid = np.asarray(gzgrid)\n",
    "\n",
    "topgrid = np.copy(topi)\n",
    "topgrid = np.asarray(topgrid)\n",
    "nx, ny = np.shape(topgrid)\n",
    "print 'number of gridded points in longitude =', nx\n",
    "print 'number of gridded points in latitude = ', ny"
   ]
  },
  {
   "cell_type": "code",
   "execution_count": null,
   "metadata": {},
   "outputs": [],
   "source": [
    "# ------------- Define the region where there is no flight lines (ONLY WORK FOR CORNES! - Corners exterminatior!): ---------#\n",
    "i = np.where(x <= -53.6) #and np.where(x>= -52.5) # should be the interpolated positions!\n",
    "j = np.where(y <= -23.5) #and np.where(y>= -22.5)\n",
    "I,J = np.meshgrid(i,j)\n",
    "\n",
    "# define nans for undesired regions: \n",
    "gzgrid[J,I] = np.nan\n",
    "topgrid[J,I] = np.nan"
   ]
  },
  {
   "cell_type": "code",
   "execution_count": null,
   "metadata": {},
   "outputs": [],
   "source": [
    "# ------------ set figure size: ------------------------------------------#\n",
    "plt.close('all')\n",
    "fig = plt.figure(figsize=(20,7))\n",
    "plt.subplot(1,2,1)\n",
    "fs = 14 # fontsize!!!!\n",
    "\n",
    "# ------------ plot the interpolated gravity anomaly in contourmap: -------#\n",
    "plt.title('Gravity data - Parana Basin ', fontsize = fs)\n",
    "#p = plt.pcolormesh(LON, LAT, gzgrid, vmin= gz.min(), vmax = gz.max() )\n",
    "p1 = plt.imshow(gzgrid, cmap=plt.cm.coolwarm,interpolation=\"none\", aspect='auto',\n",
    "                origin='lower',extent=[lonmin, lonmax, latmin, latmax])\n",
    "\n",
    "# color bar specifications:\n",
    "cbar1 = plt.colorbar(p1, aspect=60, fraction = 0.1, orientation=\"vertical\")\n",
    "cbar1.set_label('Gravity anomaly ( $ mGal$ )',fontsize=15, rotation = 90)\n",
    "plt.xlabel('Longitude ($^o$)', fontsize = fs)\n",
    "plt.ylabel('Latitude ($^o$)', fontsize = fs)       \n",
    "\n",
    "###########################################################################################################################\n",
    "\n",
    "plt.subplot(1,2,2)\n",
    "# ------------ plot the interpolated gravity anomaly in contourmap: -------#\n",
    "plt.title('Topography - Parana Basin ', fontsize = fs)\n",
    "#p = plt.pcolormesh(LON, LAT, gzgrid, vmin= gz.min(), vmax = gz.max() )\n",
    "p2 = plt.imshow(topgrid, cmap=plt.cm.terrain,interpolation=\"none\", aspect='auto',\n",
    "                origin='lower',extent=[lonmin, lonmax, latmin, latmax])\n",
    "\n",
    "# color bar specifications:\n",
    "cbar2 = plt.colorbar(p2, aspect=60, fraction = 0.1, orientation=\"vertical\")\n",
    "cbar2.set_label('Topography ( $ (m) $ )',fontsize=15, rotation = 90)\n",
    "plt.xlabel('Longitude ($^o$)', fontsize = fs)\n",
    "plt.ylabel('Latitude ($^o$)', fontsize = fs)       \n",
    "\n",
    "plt.show()"
   ]
  },
  {
   "cell_type": "markdown",
   "metadata": {},
   "source": [
    "# Delimiting a study region using Pandas commands:"
   ]
  },
  {
   "cell_type": "code",
   "execution_count": null,
   "metadata": {},
   "outputs": [],
   "source": [
    "# longitude filter:\n",
    "target = data.loc[ (data['Lon']<= -51.9) & (data['Lon']>= -52.5) ] # should have the whitespace \" LONG\" !\n",
    "# latitude filter:\n",
    "target = target.loc[ (target['Lat']<= -22.3) & (target['Lat']>= -23.5) ]\n",
    "# check if is right:\n",
    "target.max(), target.min()"
   ]
  },
  {
   "cell_type": "code",
   "execution_count": null,
   "metadata": {},
   "outputs": [],
   "source": [
    "# INterpolate the desired data \n",
    "# set the mesh limits from real data with pandas command presented above:\n",
    "#latmin = data.min()['Lat']\n",
    "lat1 = target.min()[0]\n",
    "print 'min target latitude = ', lat1\n",
    "#lonmin = data.min()['Lon']\n",
    "lon1 = target.min()[1]\n",
    "print 'min target longitude =', lon1\n",
    "#latmax = data.max()[\"Lat\"]\n",
    "lat2 = target.max()[0]\n",
    "print 'max target latitude =', lat2\n",
    "#lonmax = data.max()[\"Lon\"]\n",
    "lon2 = target.max()[1]\n",
    "print 'max target longitude =', lon2\n",
    "\n",
    "# create a linspace for filtered longitudes:\n",
    "targ_lon = np.linspace(lon1, lon2, 100, endpoint=True)\n",
    "# and for filtered latitudes:\n",
    "targ_lat = np.linspace(lat1, lat2, 100, endpoint=True)\n",
    "# mesh for interpolation:\n",
    "targ_LON, targ_LAT = np.meshgrid(targ_lon, targ_lat)"
   ]
  },
  {
   "cell_type": "markdown",
   "metadata": {},
   "source": [
    "# <center> Perform interpolation of the target area : <center>"
   ]
  },
  {
   "cell_type": "code",
   "execution_count": null,
   "metadata": {},
   "outputs": [],
   "source": [
    "# working arrays for more clear code:\n",
    "w1 = (np.array( target['Lon'] ), np.array( target['Lat']) )  # real coordinates\n",
    "w2 = (targ_LON, targ_LAT) # interpolated coordinates\n",
    "w3 = np.array( target['mGal'] ) # real gravity data\n",
    "# function of scipy for interpolation:\n",
    "targ_gzi = griddata( w1, w3 , w2, method='cubic')"
   ]
  },
  {
   "cell_type": "code",
   "execution_count": null,
   "metadata": {},
   "outputs": [],
   "source": [
    "print np.size(targ_gzi)"
   ]
  },
  {
   "cell_type": "code",
   "execution_count": null,
   "metadata": {},
   "outputs": [],
   "source": [
    "# ------------ set figure size: ------------------------------------------#\n",
    "plt.close('all')\n",
    "fig = plt.figure(figsize=(20,7))\n",
    "plt.subplot(1,2,1)\n",
    "fs = 14 # fontsize!!!!\n",
    "\n",
    "# ------------ plot the interpolated gravity anomaly in contourmap: -------#\n",
    "plt.title('Complete Gravity data - Parana Basin ', fontsize = fs)\n",
    "#p = plt.pcolormesh(LON, LAT, gzgrid, vmin= gz.min(), vmax = gz.max() )\n",
    "p1 = plt.imshow(gzgrid, cmap=plt.cm.coolwarm,interpolation=\"none\", aspect='auto',\n",
    "                origin='lower',extent=[lonmin, lonmax, latmin, latmax])\n",
    "\n",
    "# color bar specifications:\n",
    "cbar1 = plt.colorbar(p1, aspect=60, fraction = 0.1, orientation=\"vertical\")\n",
    "cbar1.set_label('Gravity anomaly ( $ (mGal) $ )',fontsize=15, rotation = 90)\n",
    "plt.xlabel('Longitude ($^o$)', fontsize = fs)\n",
    "plt.ylabel('Latitude ($^o$)', fontsize = fs)       \n",
    "\n",
    "###########################################################################################################################\n",
    "\n",
    "plt.subplot(1,2,2)\n",
    "# ------------ plot the interpolated gravity anomaly in contourmap: -------#\n",
    "plt.title('Target Gravity data - Parana Basin ', fontsize = fs)\n",
    "#p = plt.pcolormesh(LON, LAT, gzgrid, vmin= gz.min(), vmax = gz.max() )\n",
    "p2 = plt.imshow(targ_gzi, cmap=plt.cm.coolwarm,interpolation=\"none\", aspect='auto',\n",
    "                origin='lower',extent=[lon1, lon2, lat1, lat2])\n",
    "\n",
    "# color bar specifications:\n",
    "cbar2 = plt.colorbar(p2, aspect=60, fraction = 0.1, orientation=\"vertical\")\n",
    "cbar2.set_label('Gravity Anomaly ( $ (mGal) $ )',fontsize=15, rotation = 90)\n",
    "plt.xlabel('Longitude ($^o$)', fontsize = fs)\n",
    "plt.ylabel('Latitude ($^o$)', fontsize = fs)       \n",
    "\n",
    "plt.show()"
   ]
  },
  {
   "cell_type": "markdown",
   "metadata": {},
   "source": [
    "#  <center> Let's plot the maps into more realistic Cartographic projections?? <center> "
   ]
  },
  {
   "cell_type": "code",
   "execution_count": null,
   "metadata": {},
   "outputs": [],
   "source": [
    "# ------------ set figure size: ------------------------------------------#\n",
    "%matplotlib inline\n",
    "plt.close('all')\n",
    "fig = plt.figure(figsize=(9,9))\n",
    "\n",
    "# ------------------------- Define the center of the map -----------------------------------#  \n",
    "lon0 = 0.5*(lonmin + lonmax)\n",
    "lat0 = 0.5*(latmin + latmax)\n",
    "\n",
    "# ------- use basemap function to create the plot : ---------# \n",
    "m = Basemap(llcrnrlon=lonmin,llcrnrlat=latmin,\n",
    "            urcrnrlon=lonmax,urcrnrlat=latmax, \n",
    "            resolution='i',projection='tmerc', \n",
    "            lon_0=lon0, lat_0=lat0,epsg=3395)\n",
    "\n",
    "\n",
    "#----------Drawing Lat Long: -------------#\n",
    "m.drawmeridians(range(0,360,1), labels=[1, 0, 1, 0], latmax=lonmax)\n",
    "m.drawparallels(range(-90,90,1), labels=[1, 0, 1, 0],latmax=latmax)\n",
    "\n",
    "#------------------Loading Shapefiles---------------#\n",
    "m.readshapefile('Real/shapes/Brasil', 'Brasil', drawbounds=True, linewidth=1)\n",
    "m.readshapefile('Real/shapes/MatoGrossodoSul', 'MatoGrossodoSul', drawbounds=True, linewidth=1)\n",
    "m.readshapefile('Real/shapes/Parana', 'Parana', drawbounds=True, linewidth=1)\n",
    "m.readshapefile('Real/shapes/SaoPaulo', 'SaoPaulo', drawbounds=True, linewidth=1)\n",
    "\n",
    "#--------------Background satellite image options-----------#\n",
    "\n",
    "#m.shadedrelief(scale=1)\n",
    "#m.etopo(scale=2)\n",
    "#m.bluemarble(scale=0.5)\n",
    "m.arcgisimage(service='ESRI_Imagery_World_2D', xpixels = 500, verbose= True)\n",
    "#m.arcgisimage(service='World_Shaded_Relief layer', xpixels = 500, ypixels= 500, verbose= True)\n",
    "\n",
    "#---------------- Scaling the map---------------#\n",
    "\n",
    "m.drawmapscale(lon0, -24.07, lonmax, latmax, 250, barstyle='fancy')\n",
    "\n",
    "#---------------- North Arrow-------------------#\n",
    "#LON=-51.8\n",
    "#LAT=-21.5\n",
    "#x,y = m(LON, LAT)\n",
    "#x2, y2 = m(LON+0.0,LAT+0.01)\n",
    "#plt.arrow(x,y,x2-x,y2-y,fc=\"w\", ec=\"w\", linewidth=8 ,head_width=1000, head_length=1000)\n",
    "\n",
    "#------------------Anomaly map------------------#\n",
    "# Only for the target:\n",
    "k = m.contourf(targ_LON, targ_LAT, targ_gzi, 20, cmap=plt.cm.coolwarm, latlon=True, alpha=0.5 )\n",
    "# Or for the whole area:\n",
    "#k = m.contourf(LON, LAT, gzgrid, 20, cmap=plt.cm.coolwarm, latlon=True, alpha=0.5 )\n",
    "\n",
    "#----- colorbar specifications -----:\n",
    "cbar = m.colorbar(k, location='right', size=\"1%\", pad=\"5%\")\n",
    "cbar.set_label('Gravity Anomaly ( $ (mGal) $ )',fontsize=15, rotation = 90)\n",
    "#-------------Add Title-----------------------#\n",
    "#plt.title('Local anomaly and Terrain analysis')\n",
    "plt.show()"
   ]
  },
  {
   "cell_type": "markdown",
   "metadata": {},
   "source": [
    "# Proposed model for the region"
   ]
  },
  {
   "cell_type": "code",
   "execution_count": null,
   "metadata": {},
   "outputs": [],
   "source": [
    "# ------- define area for clicking in Lon, Lat, Rho and Z:\n",
    "LonLat = [lon1, lon2, lat1, lat2]\n",
    "RhoZ = [2700.0, 2850.0, -np.max(np.array(topo['Elev']) ), 7000.0]\n",
    "print 'area RhoZ=',RhoZ\n",
    "print 'area LonLat=',LonLat"
   ]
  },
  {
   "cell_type": "markdown",
   "metadata": {},
   "source": [
    "# Use the click method for modeling with many masses:"
   ]
  },
  {
   "cell_type": "code",
   "execution_count": null,
   "metadata": {},
   "outputs": [],
   "source": [
    "# Importing external packages to perform modeling:\n",
    "from modules.iplots import model_masses\n",
    "from modules.sphere import sphere_gz"
   ]
  },
  {
   "cell_type": "code",
   "execution_count": null,
   "metadata": {},
   "outputs": [],
   "source": [
    "# Use basemap to convert coordinates from Lon, Lat to utmx, utmy (the gravity does only work with utm coordinates):\n",
    "utmx, utmy = m( targ_LON, targ_LAT )"
   ]
  },
  {
   "cell_type": "code",
   "execution_count": null,
   "metadata": {},
   "outputs": [],
   "source": [
    "%matplotlib tk\n",
    "x,y,z,rho = model_masses(LonLat, RhoZ, newclicks=None, dike=None)"
   ]
  },
  {
   "cell_type": "code",
   "execution_count": null,
   "metadata": {},
   "outputs": [],
   "source": [
    "print 'The following numbers should be the same =',  len(x), len(y), len(z), len(rho)"
   ]
  },
  {
   "cell_type": "code",
   "execution_count": null,
   "metadata": {},
   "outputs": [],
   "source": [
    "#------- Calculating the gravity attraction for all point masses ----------:\n",
    "# number of clicks:\n",
    "nmasses = len(x)\n",
    "\n",
    "gz_pred = 0.0\n",
    "# loop for all masses:\n",
    "for i in range( nmasses ):\n",
    "    # cleanning list for putting the information of the i-th point mass:\n",
    "    source=[]\n",
    "    # calling basemap to convert the lon lat clicked coordinates into utm ones:\n",
    "    a, b = m( x[i], y[i] )\n",
    "    source = [ a, b, z[i], rho[i] ]  # calling one source a time:\n",
    "    #print source\n",
    "    gz_pred += sphere_gz(utmx, utmy, -1800.0, source) # sum the effect of all masses"
   ]
  },
  {
   "cell_type": "code",
   "execution_count": null,
   "metadata": {},
   "outputs": [],
   "source": [
    "# ------------ set figure size: ------------------------------------------#\n",
    "plt.close('all')\n",
    "fig = plt.figure(figsize=(20,7))\n",
    "plt.subplot(1,2,1)\n",
    "fs = 14 # fontsize!!!!\n",
    "\n",
    "# ------------ plot the interpolated gravity anomaly in contourmap: -------#\n",
    "plt.title('Observed Gravity data (Parana Basin)  ', fontsize = fs)\n",
    "#p = plt.pcolormesh(LON, LAT, gzgrid, vmin= gz.min(), vmax = gz.max() )\n",
    "p1 = plt.imshow(targ_gzi, cmap=plt.cm.coolwarm,interpolation=\"none\", aspect='auto',\n",
    "                origin='lower',extent=[lon1, lon2, lat1, lat2])\n",
    "\n",
    "# color bar specifications:\n",
    "cbar1 = plt.colorbar(p1, aspect=60, fraction = 0.1, orientation=\"vertical\")\n",
    "cbar1.set_label('Gravity anomaly ( $ mGal$ )',fontsize=15, rotation = 90)\n",
    "plt.xlabel('Longitude ($^o$)', fontsize = fs)\n",
    "plt.ylabel('Latitude ($^o$)', fontsize = fs)       \n",
    "###########################################################################################################################\n",
    "\n",
    "plt.subplot(1,2,2)\n",
    "# ------------ plot the interpolated gravity anomaly in contourmap: -------#\n",
    "plt.title('Predicted Gravity data (model) ', fontsize = fs)\n",
    "#p = plt.pcolormesh(LON, LAT, gzgrid, vmin= gz.min(), vmax = gz.max() )\n",
    "p2 = plt.imshow(gz_pred, cmap=plt.cm.coolwarm, interpolation=\"none\", aspect='auto',\n",
    "                origin='lower',extent=[lon1, lon2, lat1, lat2])\n",
    "\n",
    "# color bar specifications:\n",
    "cbar2 = plt.colorbar(p2, aspect=60, fraction = 0.1, orientation=\"vertical\")\n",
    "cbar2.set_label('Gravity data ( $mGal$  )',fontsize=15, rotation = 90)\n",
    "plt.xlabel('Longitude ($^o$)', fontsize = fs)\n",
    "plt.ylabel('Latitude ($^o$)', fontsize = fs)       \n",
    "plt.show()"
   ]
  },
  {
   "cell_type": "markdown",
   "metadata": {},
   "source": [
    "## IF you need more clicks and want to keep the previous clicks, run the cells below:\n"
   ]
  },
  {
   "cell_type": "code",
   "execution_count": null,
   "metadata": {},
   "outputs": [],
   "source": [
    "# store previous clicks in the following list:\n",
    "keep_clicks = (x,y,z,rho)\n",
    "x,y,z,rho = model_masses(LonLat, RhoZ, newclicks=keep_clicks)"
   ]
  },
  {
   "cell_type": "code",
   "execution_count": null,
   "metadata": {},
   "outputs": [],
   "source": [
    "print len(x), len(y), len(z), len(rho)"
   ]
  },
  {
   "cell_type": "code",
   "execution_count": null,
   "metadata": {},
   "outputs": [],
   "source": [
    "#------- Calculating the gravity attraction for all point masses ----------:\n",
    "# number of clicks:\n",
    "nmasses = len(x)\n",
    "gz_pred = 0.0\n",
    "# loop for all masses:\n",
    "for i in range( nmasses ):\n",
    "    # cleanning list for putting the information of the i-th point mass:\n",
    "    source=[]\n",
    "    # calling basemap to convert the lon lat clicked coordinates into utm ones:\n",
    "    a, b = m( x[i], y[i] )\n",
    "    source = [ a, b, z[i], rho[i]]  # calling one source a time:\n",
    "    #print source\n",
    "    gz_pred += sphere_gz(utmx, utmy, -1800.0, source) # sum the effect of all masses"
   ]
  },
  {
   "cell_type": "markdown",
   "metadata": {},
   "source": [
    "## <center> Plot the data with more clicks: <center>"
   ]
  },
  {
   "cell_type": "code",
   "execution_count": null,
   "metadata": {},
   "outputs": [],
   "source": [
    "# ------------ set figure size: ------------------------------------------#\n",
    "plt.close('all')\n",
    "fig = plt.figure(figsize=(20,7))\n",
    "plt.subplot(1,2,1)\n",
    "fs = 14 # fontsize!!!!\n",
    "\n",
    "# ------------ plot the interpolated gravity anomaly in contourmap: -------#\n",
    "plt.title('Observed Gravity data (Parana Basin)  ', fontsize = fs)\n",
    "#p = plt.pcolormesh(LON, LAT, gzgrid, vmin= gz.min(), vmax = gz.max() )\n",
    "p1 = plt.imshow(targ_gzi, cmap=plt.cm.coolwarm,interpolation=\"none\", aspect='auto',\n",
    "                origin='lower',extent=[lon1, lon2, lat1, lat2])\n",
    "\n",
    "# color bar specifications:\n",
    "cbar1 = plt.colorbar(p1, aspect=60, fraction = 0.1, orientation=\"vertical\")\n",
    "cbar1.set_label('Gravity anomaly ( $ mGal$ )',fontsize=15, rotation = 90)\n",
    "plt.xlabel('Longitude ($^o$)', fontsize = fs)\n",
    "plt.ylabel('Latitude ($^o$)', fontsize = fs)       \n",
    "###########################################################################################################################\n",
    "\n",
    "plt.subplot(1,2,2)\n",
    "# ------------ plot the interpolated gravity anomaly in contourmap: -------#\n",
    "plt.title('Predicted Gravity data (model) ', fontsize = fs)\n",
    "#p = plt.pcolormesh(LON, LAT, gzgrid, vmin= gz.min(), vmax = gz.max() )\n",
    "p2 = plt.imshow(gz_pred, cmap=plt.cm.coolwarm, interpolation=\"none\", aspect='auto',\n",
    "                origin='lower',extent=[lon1, lon2, lat1, lat2])\n",
    "\n",
    "# color bar specifications:\n",
    "cbar2 = plt.colorbar(p2, aspect=60, fraction = 0.1, orientation=\"vertical\")\n",
    "cbar2.set_label('Gravity data ( $mGal$  )',fontsize=15, rotation = 90)\n",
    "plt.xlabel('Longitude ($^o$)', fontsize = fs)\n",
    "plt.ylabel('Latitude ($^o$)', fontsize = fs)       \n",
    "plt.show()"
   ]
  },
  {
   "cell_type": "markdown",
   "metadata": {},
   "source": [
    "## <center> Plot the residuals between observed and predicted data: <center>"
   ]
  },
  {
   "cell_type": "code",
   "execution_count": null,
   "metadata": {},
   "outputs": [],
   "source": [
    "# ------- compute the difference between the \"observed\" data and the predicted data -------:\n",
    "residuals = targ_gzi - gz_pred"
   ]
  },
  {
   "cell_type": "code",
   "execution_count": null,
   "metadata": {},
   "outputs": [],
   "source": [
    "# Ploting the data to see if it's ok so far:\n",
    "%matplotlib inline\n",
    "plt.close('all')\n",
    "fig = plt.figure(figsize=(12,6))\n",
    "# adding axis to the figure:\n",
    "ax = plt.axes()\n",
    "fs = 14 # fontsize used in the labels\n",
    "\n",
    "# plot the data in countor map:\n",
    "plt.title('Residual map', fontsize = fs)\n",
    "p = ax.imshow(residuals, cmap=plt.cm.coolwarm, interpolation=\"none\", aspect='auto',\n",
    "                origin='lower',extent=[lon1, lon2, lat1, lat2])\n",
    "cbar = fig.colorbar(p, aspect = 50, fraction = 0.01, orientation=\"vertical\")\n",
    "cbar.set_label('Residuals ( $ mGal $ )',fontsize=16, rotation = 90)\n",
    "\n",
    "plt.xlabel('Longitude ($^o$)', fontsize = fs)\n",
    "plt.ylabel('Latitude ($^o$)', fontsize = fs)       \n",
    "\n",
    "plt.show()"
   ]
  },
  {
   "cell_type": "markdown",
   "metadata": {},
   "source": [
    "#  <center> 3D Plot of model and data-misfit in slice <center>"
   ]
  },
  {
   "cell_type": "code",
   "execution_count": null,
   "metadata": {},
   "outputs": [],
   "source": [
    "%matplotlib tk\n",
    "plt.close('all')\n",
    "py.rcParams['contour.negative_linestyle'] = 'dashed'\n",
    "fig = plt.figure(figsize=(14,10))\n",
    "ax = fig.gca(projection='3d') # 3D boxplot where the figure goes\n",
    "\n",
    "# --- change size projection ---\n",
    "#x_scale=1.\n",
    "#y_scale=1.\n",
    "#z_scale=1.\n",
    "#scale=np.diag([x_scale, y_scale, z_scale, 1.0])\n",
    "#scale=scale*(1.0/scale.max())\n",
    "#scale[3,3]=1.0\n",
    "#def short_proj():\n",
    "#    return np.dot(Axes3D.get_proj(ax), scale)\n",
    "#plt.get_proj=short_proj\n",
    "\n",
    "# ----- define labels and limits of the plotbox:\n",
    "ax.set_xlabel('UTM x ($m$)', labelpad=20 ,fontsize=fs)\n",
    "ax.set_ylabel('UTM y ($m$)', labelpad=20 ,fontsize=fs)\n",
    "ax.set_zlabel('Depth (m)',labelpad=20 ,fontsize=fs, rotation = 90)\n",
    "#ax.set_xlim( lon1, lon2 )\n",
    "#ax.set_ylim( lat1, lat2 )\n",
    "ax.set_zlim(0.0,7000.0)\n",
    "ax.set_title(' Model', fontsize=fs)\n",
    "ax.view_init(70, 55)\n",
    "\n",
    "# put z downward\n",
    "ax.invert_zaxis()\n",
    "\n",
    "\n",
    "p1 = ax.contour(utmx, utmy, gz_pred, 10, zdir='z', \n",
    "                offset=0.0, cmap='coolwarm', vmin = np.min(gz_pred), vmax = np.max(gz_pred) )\n",
    "cbar1 = fig.colorbar(p1, aspect = 50, fraction = 0.01, orientation=\"vertical\")\n",
    "cbar1.set_label('Gravity Anomaly ( $ mGal $ )',fontsize=16, rotation = 90)\n",
    "\n",
    "# ------------------- vertical gravitational atraction produced by the dike ------------------:\n",
    "#p1 = ax.imshow(residuals, cmap=plt.cm.coolwarm, interpolation=\"none\", aspect='auto',\n",
    "#                origin='lower',extent=[lon1, lon2, lat1, lat2])\n",
    "#cbar1 = fig.colorbar(p1, aspect = 50, fraction = 0.01, orientation=\"vertical\")\n",
    "#cbar1.set_label('Residuals ( $ mGal $ )',fontsize=16, rotation = 90)\n",
    "\n",
    "# add the deep point mass here:\n",
    "xc, yc = m(x,y) \n",
    "ax.scatter3D(xc, yc, z, s=rho , c='k', marker = '.')\n",
    "\n",
    "plt.tight_layout(True)\n",
    "plt.show()"
   ]
  },
  {
   "cell_type": "code",
   "execution_count": null,
   "metadata": {},
   "outputs": [],
   "source": []
  }
 ],
 "metadata": {
  "kernelspec": {
   "display_name": "Python 2",
   "language": "python",
   "name": "python2"
  },
  "language_info": {
   "codemirror_mode": {
    "name": "ipython",
    "version": 2
   },
   "file_extension": ".py",
   "mimetype": "text/x-python",
   "name": "python",
   "nbconvert_exporter": "python",
   "pygments_lexer": "ipython2",
   "version": "2.7.15"
  }
 },
 "nbformat": 4,
 "nbformat_minor": 2
}
